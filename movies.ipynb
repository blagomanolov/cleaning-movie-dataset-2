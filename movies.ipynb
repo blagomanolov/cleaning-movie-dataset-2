{
 "cells": [
  {
   "cell_type": "markdown",
   "metadata": {},
   "source": [
    "# Import Libraries"
   ]
  },
  {
   "cell_type": "code",
   "execution_count": 1,
   "metadata": {},
   "outputs": [],
   "source": [
    "import pandas as pd\n",
    "import numpy as np\n",
    "import matplotlib.pyplot as plt \n",
    "import seaborn as sns"
   ]
  },
  {
   "cell_type": "markdown",
   "metadata": {},
   "source": [
    "# Data Cleaning\n",
    "\n",
    "## 1. Read Data"
   ]
  },
  {
   "cell_type": "code",
   "execution_count": 2,
   "metadata": {},
   "outputs": [
    {
     "data": {
      "text/html": [
       "<div>\n",
       "<style scoped>\n",
       "    .dataframe tbody tr th:only-of-type {\n",
       "        vertical-align: middle;\n",
       "    }\n",
       "\n",
       "    .dataframe tbody tr th {\n",
       "        vertical-align: top;\n",
       "    }\n",
       "\n",
       "    .dataframe thead th {\n",
       "        text-align: right;\n",
       "    }\n",
       "</style>\n",
       "<table border=\"1\" class=\"dataframe\">\n",
       "  <thead>\n",
       "    <tr style=\"text-align: right;\">\n",
       "      <th></th>\n",
       "      <th>MOVIES</th>\n",
       "      <th>YEAR</th>\n",
       "      <th>GENRE</th>\n",
       "      <th>RATING</th>\n",
       "      <th>ONE-LINE</th>\n",
       "      <th>STARS</th>\n",
       "      <th>VOTES</th>\n",
       "      <th>RunTime</th>\n",
       "      <th>Gross</th>\n",
       "    </tr>\n",
       "  </thead>\n",
       "  <tbody>\n",
       "    <tr>\n",
       "      <th>0</th>\n",
       "      <td>Blood Red Sky</td>\n",
       "      <td>(2021)</td>\n",
       "      <td>\\nAction, Horror, Thriller</td>\n",
       "      <td>6.1</td>\n",
       "      <td>\\nA woman with a mysterious illness is forced ...</td>\n",
       "      <td>\\n    Director:\\nPeter Thorwarth\\n| \\n    Star...</td>\n",
       "      <td>21,062</td>\n",
       "      <td>121.0</td>\n",
       "      <td>NaN</td>\n",
       "    </tr>\n",
       "  </tbody>\n",
       "</table>\n",
       "</div>"
      ],
      "text/plain": [
       "          MOVIES    YEAR                                   GENRE  RATING  \\\n",
       "0  Blood Red Sky  (2021)  \\nAction, Horror, Thriller                 6.1   \n",
       "\n",
       "                                            ONE-LINE  \\\n",
       "0  \\nA woman with a mysterious illness is forced ...   \n",
       "\n",
       "                                               STARS   VOTES  RunTime Gross  \n",
       "0  \\n    Director:\\nPeter Thorwarth\\n| \\n    Star...  21,062    121.0   NaN  "
      ]
     },
     "execution_count": 2,
     "metadata": {},
     "output_type": "execute_result"
    }
   ],
   "source": [
    "df = pd.read_csv('movies.csv')\n",
    "df.head(1)"
   ]
  },
  {
   "cell_type": "markdown",
   "metadata": {},
   "source": [
    "## 2. Understanding the Data"
   ]
  },
  {
   "cell_type": "code",
   "execution_count": 3,
   "metadata": {},
   "outputs": [
    {
     "data": {
      "text/plain": [
       "(9999, 9)"
      ]
     },
     "execution_count": 3,
     "metadata": {},
     "output_type": "execute_result"
    }
   ],
   "source": [
    "df.shape"
   ]
  },
  {
   "cell_type": "code",
   "execution_count": 4,
   "metadata": {},
   "outputs": [
    {
     "data": {
      "text/html": [
       "<div>\n",
       "<style scoped>\n",
       "    .dataframe tbody tr th:only-of-type {\n",
       "        vertical-align: middle;\n",
       "    }\n",
       "\n",
       "    .dataframe tbody tr th {\n",
       "        vertical-align: top;\n",
       "    }\n",
       "\n",
       "    .dataframe thead th {\n",
       "        text-align: right;\n",
       "    }\n",
       "</style>\n",
       "<table border=\"1\" class=\"dataframe\">\n",
       "  <thead>\n",
       "    <tr style=\"text-align: right;\">\n",
       "      <th></th>\n",
       "      <th>RATING</th>\n",
       "      <th>RunTime</th>\n",
       "    </tr>\n",
       "  </thead>\n",
       "  <tbody>\n",
       "    <tr>\n",
       "      <th>count</th>\n",
       "      <td>8179.000000</td>\n",
       "      <td>7041.000000</td>\n",
       "    </tr>\n",
       "    <tr>\n",
       "      <th>mean</th>\n",
       "      <td>6.921176</td>\n",
       "      <td>68.688539</td>\n",
       "    </tr>\n",
       "    <tr>\n",
       "      <th>std</th>\n",
       "      <td>1.220232</td>\n",
       "      <td>47.258056</td>\n",
       "    </tr>\n",
       "    <tr>\n",
       "      <th>min</th>\n",
       "      <td>1.100000</td>\n",
       "      <td>1.000000</td>\n",
       "    </tr>\n",
       "    <tr>\n",
       "      <th>25%</th>\n",
       "      <td>6.200000</td>\n",
       "      <td>36.000000</td>\n",
       "    </tr>\n",
       "    <tr>\n",
       "      <th>50%</th>\n",
       "      <td>7.100000</td>\n",
       "      <td>60.000000</td>\n",
       "    </tr>\n",
       "    <tr>\n",
       "      <th>75%</th>\n",
       "      <td>7.800000</td>\n",
       "      <td>95.000000</td>\n",
       "    </tr>\n",
       "    <tr>\n",
       "      <th>max</th>\n",
       "      <td>9.900000</td>\n",
       "      <td>853.000000</td>\n",
       "    </tr>\n",
       "  </tbody>\n",
       "</table>\n",
       "</div>"
      ],
      "text/plain": [
       "            RATING      RunTime\n",
       "count  8179.000000  7041.000000\n",
       "mean      6.921176    68.688539\n",
       "std       1.220232    47.258056\n",
       "min       1.100000     1.000000\n",
       "25%       6.200000    36.000000\n",
       "50%       7.100000    60.000000\n",
       "75%       7.800000    95.000000\n",
       "max       9.900000   853.000000"
      ]
     },
     "execution_count": 4,
     "metadata": {},
     "output_type": "execute_result"
    }
   ],
   "source": [
    "df.describe()"
   ]
  },
  {
   "cell_type": "code",
   "execution_count": 5,
   "metadata": {},
   "outputs": [
    {
     "name": "stdout",
     "output_type": "stream",
     "text": [
      "<class 'pandas.core.frame.DataFrame'>\n",
      "RangeIndex: 9999 entries, 0 to 9998\n",
      "Data columns (total 9 columns):\n",
      " #   Column    Non-Null Count  Dtype  \n",
      "---  ------    --------------  -----  \n",
      " 0   MOVIES    9999 non-null   object \n",
      " 1   YEAR      9355 non-null   object \n",
      " 2   GENRE     9919 non-null   object \n",
      " 3   RATING    8179 non-null   float64\n",
      " 4   ONE-LINE  9999 non-null   object \n",
      " 5   STARS     9999 non-null   object \n",
      " 6   VOTES     8179 non-null   object \n",
      " 7   RunTime   7041 non-null   float64\n",
      " 8   Gross     460 non-null    object \n",
      "dtypes: float64(2), object(7)\n",
      "memory usage: 703.2+ KB\n"
     ]
    }
   ],
   "source": [
    "df.info()"
   ]
  },
  {
   "cell_type": "code",
   "execution_count": 6,
   "metadata": {},
   "outputs": [],
   "source": [
    "def percentage_missing_values(data_frame: pd.DataFrame, columns=False):\n",
    "    if columns:\n",
    "        if isinstance(columns, str):\n",
    "            print((data_frame[columns].isnull().sum()*100/len(data_frame)).round(2))\n",
    "        if isinstance(columns, list):\n",
    "            print((data_frame[columns].isnull().sum()*100/len(data_frame)).round(2).sort_values(ascending=False))\n",
    "    else:\n",
    "        print((data_frame.isnull().sum()*100/len(data_frame)).round(2).sort_values(ascending=False))"
   ]
  },
  {
   "cell_type": "code",
   "execution_count": 7,
   "metadata": {},
   "outputs": [
    {
     "name": "stdout",
     "output_type": "stream",
     "text": [
      "Gross       95.40\n",
      "RunTime     29.58\n",
      "RATING      18.20\n",
      "VOTES       18.20\n",
      "YEAR         6.44\n",
      "GENRE        0.80\n",
      "MOVIES       0.00\n",
      "ONE-LINE     0.00\n",
      "STARS        0.00\n",
      "dtype: float64\n"
     ]
    }
   ],
   "source": [
    "percentage_missing_values(df)"
   ]
  },
  {
   "cell_type": "code",
   "execution_count": 8,
   "metadata": {},
   "outputs": [
    {
     "data": {
      "text/plain": [
       "Gross       9539\n",
       "RunTime     2958\n",
       "RATING      1820\n",
       "VOTES       1820\n",
       "YEAR         644\n",
       "GENRE         80\n",
       "MOVIES         0\n",
       "ONE-LINE       0\n",
       "STARS          0\n",
       "dtype: int64"
      ]
     },
     "execution_count": 8,
     "metadata": {},
     "output_type": "execute_result"
    }
   ],
   "source": [
    "df.isnull().sum().round(2).sort_values(ascending=False)"
   ]
  },
  {
   "cell_type": "code",
   "execution_count": 9,
   "metadata": {},
   "outputs": [
    {
     "data": {
      "text/plain": [
       "Index(['MOVIES', 'YEAR', 'GENRE', 'RATING', 'ONE-LINE', 'STARS', 'VOTES',\n",
       "       'RunTime', 'Gross'],\n",
       "      dtype='object')"
      ]
     },
     "execution_count": 9,
     "metadata": {},
     "output_type": "execute_result"
    }
   ],
   "source": [
    "df.columns"
   ]
  },
  {
   "cell_type": "markdown",
   "metadata": {},
   "source": [
    "## 3. Remove Duplicates"
   ]
  },
  {
   "cell_type": "code",
   "execution_count": 10,
   "metadata": {},
   "outputs": [
    {
     "name": "stdout",
     "output_type": "stream",
     "text": [
      "DataFrame has 431 duplicates.\n"
     ]
    }
   ],
   "source": [
    "duplicates = df[df.duplicated(keep='first')]\n",
    "print(f'DataFrame has {len(duplicates)} duplicates.')"
   ]
  },
  {
   "cell_type": "code",
   "execution_count": 11,
   "metadata": {},
   "outputs": [
    {
     "data": {
      "text/plain": [
       "array([' Mighty Little Bheem', ' The Pentaverate', ' Bojwagwan',\n",
       "       ' The Sandman', ' Midnight Mass', ' Russian Doll',\n",
       "       ' Living Undocumented', ' Scams', ' Stranger Things',\n",
       "       ' Inventing Anna', ' Disenchantment', ' Brand New Cherry Flavor',\n",
       "       ' The Witcher', ' One Piece', ' Siempre Bruja', ' On the Verge',\n",
       "       ' Hyena', ' The Chair', ' Painkiller', ' Buddi',\n",
       "       ' In from the Cold', ' Clickbait', ' Rádio Coisa Mais Linda',\n",
       "       ' Cyberpunk: Edgerunners', ' The Witcher: Blood Origin', ' Jaguar',\n",
       "       ' Vikings: Valhalla', ' Maid', ' Glória', ' Clark',\n",
       "       ' Power Rangers: Dino Fury', ' Lost Ollie',\n",
       "       ' Feria: The Darkest Light', ' 800 metros',\n",
       "       ' Las mágicas historias de Plim Plim', ' The Umbrella Academy',\n",
       "       ' Stay Close', ' Archive 81', ' Unrecorded Night', ' Caïd',\n",
       "       ' The Empress', ' Locke & Key', ' Anatomy of a Scandal',\n",
       "       ' Bir Denizalti Hikayesi', ' Heartstopper',\n",
       "       ' Post Mortem: No One Dies in Skarnes', ' Sex Education',\n",
       "       ' Fedeltà', ' First Kill', ' The Last Bus', ' Fate: The Winx Saga',\n",
       "       ' True Story', ' I [Heart] Arlo', ' The Last Kingdom', ' Jiok',\n",
       "       ' Centaurworld', ' The Cuphead Show!', ' Bangkok Breaking',\n",
       "       ' The Chestnut Man', ' Bee and PuppyCat',\n",
       "       ' Monster: The Jeffrey Dahmer Story', ' Cobra Kai', ' Kus uçusu',\n",
       "       ' Surviving Summer', ' Inside Man', ' Bridgerton', ' Pretty Smart',\n",
       "       ' Ginny & Georgia', ' La casa de papel', ' Élite',\n",
       "       ' AlRawabi School for Girls', ' Sonic Prime', ' 1899',\n",
       "       ' The Imperfects'], dtype=object)"
      ]
     },
     "execution_count": 11,
     "metadata": {},
     "output_type": "execute_result"
    }
   ],
   "source": [
    "duplicates['MOVIES'].unique()"
   ]
  },
  {
   "cell_type": "code",
   "execution_count": 12,
   "metadata": {},
   "outputs": [
    {
     "name": "stdout",
     "output_type": "stream",
     "text": [
      "Before remove duplicates 9999\n",
      "After remove duplicates 9568\n"
     ]
    }
   ],
   "source": [
    "df_no_duplicates = df.drop_duplicates(keep='first')\n",
    "print(f'Before remove duplicates {len(df)}')\n",
    "print(f'After remove duplicates {len(df_no_duplicates)}')"
   ]
  },
  {
   "cell_type": "code",
   "execution_count": 13,
   "metadata": {},
   "outputs": [
    {
     "data": {
      "text/html": [
       "<div>\n",
       "<style scoped>\n",
       "    .dataframe tbody tr th:only-of-type {\n",
       "        vertical-align: middle;\n",
       "    }\n",
       "\n",
       "    .dataframe tbody tr th {\n",
       "        vertical-align: top;\n",
       "    }\n",
       "\n",
       "    .dataframe thead th {\n",
       "        text-align: right;\n",
       "    }\n",
       "</style>\n",
       "<table border=\"1\" class=\"dataframe\">\n",
       "  <thead>\n",
       "    <tr style=\"text-align: right;\">\n",
       "      <th></th>\n",
       "      <th>MOVIES</th>\n",
       "      <th>YEAR</th>\n",
       "      <th>GENRE</th>\n",
       "      <th>RATING</th>\n",
       "      <th>ONE-LINE</th>\n",
       "      <th>STARS</th>\n",
       "      <th>VOTES</th>\n",
       "      <th>RunTime</th>\n",
       "      <th>Gross</th>\n",
       "    </tr>\n",
       "  </thead>\n",
       "  <tbody>\n",
       "    <tr>\n",
       "      <th>5161</th>\n",
       "      <td>Mighty Little Bheem</td>\n",
       "      <td>(2019– )</td>\n",
       "      <td>\\nAnimation, Short, Adventure</td>\n",
       "      <td>6.7</td>\n",
       "      <td>\\nAn innocent toddler's boundless curiosity - ...</td>\n",
       "      <td>\\n</td>\n",
       "      <td>214</td>\n",
       "      <td>6.0</td>\n",
       "      <td>NaN</td>\n",
       "    </tr>\n",
       "  </tbody>\n",
       "</table>\n",
       "</div>"
      ],
      "text/plain": [
       "                   MOVIES      YEAR  \\\n",
       "5161  Mighty Little Bheem  (2019– )   \n",
       "\n",
       "                                          GENRE  RATING  \\\n",
       "5161  \\nAnimation, Short, Adventure                 6.7   \n",
       "\n",
       "                                               ONE-LINE STARS VOTES  RunTime  \\\n",
       "5161  \\nAn innocent toddler's boundless curiosity - ...    \\n   214      6.0   \n",
       "\n",
       "     Gross  \n",
       "5161   NaN  "
      ]
     },
     "execution_count": 13,
     "metadata": {},
     "output_type": "execute_result"
    }
   ],
   "source": [
    "# Check if the duplicates are exist in our cleaned data frame\n",
    "df_no_duplicates[df_no_duplicates['MOVIES'] == 'Mighty Little Bheem']"
   ]
  },
  {
   "cell_type": "code",
   "execution_count": 14,
   "metadata": {},
   "outputs": [
    {
     "data": {
      "text/html": [
       "<div>\n",
       "<style scoped>\n",
       "    .dataframe tbody tr th:only-of-type {\n",
       "        vertical-align: middle;\n",
       "    }\n",
       "\n",
       "    .dataframe tbody tr th {\n",
       "        vertical-align: top;\n",
       "    }\n",
       "\n",
       "    .dataframe thead th {\n",
       "        text-align: right;\n",
       "    }\n",
       "</style>\n",
       "<table border=\"1\" class=\"dataframe\">\n",
       "  <thead>\n",
       "    <tr style=\"text-align: right;\">\n",
       "      <th></th>\n",
       "      <th>MOVIES</th>\n",
       "      <th>YEAR</th>\n",
       "      <th>GENRE</th>\n",
       "      <th>RATING</th>\n",
       "      <th>ONE-LINE</th>\n",
       "      <th>STARS</th>\n",
       "      <th>VOTES</th>\n",
       "      <th>RunTime</th>\n",
       "      <th>Gross</th>\n",
       "    </tr>\n",
       "  </thead>\n",
       "  <tbody>\n",
       "    <tr>\n",
       "      <th>1378</th>\n",
       "      <td>1899</td>\n",
       "      <td>(2022– )</td>\n",
       "      <td>\\nDrama, History, Horror</td>\n",
       "      <td>NaN</td>\n",
       "      <td>\\nMultinational immigrants traveling from the ...</td>\n",
       "      <td>\\n            \\n    Stars:\\nAneurin Barnard, \\...</td>\n",
       "      <td>NaN</td>\n",
       "      <td>NaN</td>\n",
       "      <td>NaN</td>\n",
       "    </tr>\n",
       "  </tbody>\n",
       "</table>\n",
       "</div>"
      ],
      "text/plain": [
       "     MOVIES      YEAR                                 GENRE  RATING  \\\n",
       "1378   1899  (2022– )  \\nDrama, History, Horror                 NaN   \n",
       "\n",
       "                                               ONE-LINE  \\\n",
       "1378  \\nMultinational immigrants traveling from the ...   \n",
       "\n",
       "                                                  STARS VOTES  RunTime Gross  \n",
       "1378  \\n            \\n    Stars:\\nAneurin Barnard, \\...   NaN      NaN   NaN  "
      ]
     },
     "execution_count": 14,
     "metadata": {},
     "output_type": "execute_result"
    }
   ],
   "source": [
    "df_no_duplicates[df_no_duplicates['MOVIES'] == '1899']"
   ]
  },
  {
   "cell_type": "markdown",
   "metadata": {},
   "source": [
    "## 4. Data Cleaning and Missing Values"
   ]
  },
  {
   "cell_type": "code",
   "execution_count": 15,
   "metadata": {},
   "outputs": [],
   "source": [
    "def correlation(data_frame: pd.DataFrame, column=False):\n",
    "    if column:\n",
    "        if isinstance(column, str):\n",
    "            print(data_frame[[x for x in data_frame.columns if data_frame[x].dtype != 'object']].corr()[column])\n",
    "    else:\n",
    "        print(data_frame[[x for x in data_frame.columns if data_frame[x].dtype != 'object']].corr())"
   ]
  },
  {
   "cell_type": "code",
   "execution_count": 16,
   "metadata": {},
   "outputs": [
    {
     "name": "stdout",
     "output_type": "stream",
     "text": [
      "Gross       95.19\n",
      "RunTime     26.76\n",
      "RATING      14.63\n",
      "VOTES       14.63\n",
      "YEAR         5.66\n",
      "GENRE        0.82\n",
      "MOVIES       0.00\n",
      "ONE-LINE     0.00\n",
      "STARS        0.00\n",
      "dtype: float64\n"
     ]
    }
   ],
   "source": [
    "percentage_missing_values(df_no_duplicates)"
   ]
  },
  {
   "cell_type": "code",
   "execution_count": 17,
   "metadata": {},
   "outputs": [
    {
     "data": {
      "text/plain": [
       "Gross       9108\n",
       "RunTime     2560\n",
       "RATING      1400\n",
       "VOTES       1400\n",
       "YEAR         542\n",
       "GENRE         78\n",
       "MOVIES         0\n",
       "ONE-LINE       0\n",
       "STARS          0\n",
       "dtype: int64"
      ]
     },
     "execution_count": 17,
     "metadata": {},
     "output_type": "execute_result"
    }
   ],
   "source": [
    "df_no_duplicates.isnull().sum().round(2).sort_values(ascending=False)"
   ]
  },
  {
   "cell_type": "code",
   "execution_count": 18,
   "metadata": {},
   "outputs": [],
   "source": [
    "cleaned_missing_data_df = df_no_duplicates.copy()"
   ]
  },
  {
   "cell_type": "markdown",
   "metadata": {},
   "source": [
    "### GENRE"
   ]
  },
  {
   "cell_type": "markdown",
   "metadata": {},
   "source": [
    "In the dataset, some values in the GENRE column contain unwanted leading or trailing whitespace. This can cause inconsistencies when analyzing or grouping data. To resolve this issue, we use the .str.strip() function to clean the text by removing extra spaces."
   ]
  },
  {
   "cell_type": "code",
   "execution_count": 19,
   "metadata": {},
   "outputs": [
    {
     "data": {
      "text/plain": [
       "array(['\\nAction, Horror, Thriller            ',\n",
       "       '\\nAnimation, Action, Adventure            ',\n",
       "       '\\nDrama, Horror, Thriller            ',\n",
       "       '\\nAnimation, Adventure, Comedy            ',\n",
       "       '\\nAction, Crime, Horror            ',\n",
       "       '\\nAction, Crime, Drama            ',\n",
       "       '\\nDrama, Romance            ',\n",
       "       '\\nCrime, Drama, Mystery            ', '\\nComedy            ',\n",
       "       '\\nAction, Adventure, Thriller            ',\n",
       "       '\\nCrime, Drama, Fantasy            ',\n",
       "       '\\nDrama, Horror, Mystery            ',\n",
       "       '\\nComedy, Drama, Romance            ',\n",
       "       '\\nCrime, Drama, Thriller            ', '\\nDrama            ',\n",
       "       '\\nComedy, Drama            ',\n",
       "       '\\nDrama, Fantasy, Horror            ',\n",
       "       '\\nComedy, Romance            ',\n",
       "       '\\nAction, Adventure, Drama            ',\n",
       "       '\\nCrime, Drama            ',\n",
       "       '\\nDrama, History, Romance            ',\n",
       "       '\\nHorror, Mystery            ', '\\nComedy, Crime            ',\n",
       "       '\\nAction, Drama, History            ',\n",
       "       '\\nAction, Adventure, Crime            ',\n",
       "       '\\nAction, Adventure, Fantasy            ',\n",
       "       '\\nAction, Crime, Mystery            ',\n",
       "       '\\nDrama, Fantasy, Romance            ',\n",
       "       '\\nDrama, Sci-Fi, Thriller            ',\n",
       "       '\\nBiography, Drama, History            ',\n",
       "       '\\nCrime, Thriller            ',\n",
       "       '\\nComedy, Crime, Drama            ',\n",
       "       '\\nDrama, Mystery, Thriller            ',\n",
       "       '\\nAction, Adventure, Mystery            ',\n",
       "       '\\nAction, Comedy            ',\n",
       "       '\\nCrime, Drama, Horror            ',\n",
       "       '\\nDrama, Mystery, Sci-Fi            ',\n",
       "       '\\nAction, Comedy, Crime            ',\n",
       "       '\\nDrama, Family            ',\n",
       "       '\\nAction, Adventure, Sci-Fi            ',\n",
       "       '\\nAnimation, Comedy            ',\n",
       "       '\\nAction, Comedy, Drama            ',\n",
       "       '\\nCrime, Horror, Thriller            ',\n",
       "       '\\nAction, Adventure, Comedy            ',\n",
       "       '\\nAnimation, Comedy, Drama            ',\n",
       "       '\\nAdventure, Fantasy, Romance            ',\n",
       "       '\\nAction, Drama, Fantasy            ',\n",
       "       '\\nAction, Adventure, Biography            ',\n",
       "       '\\nComedy, Drama, Fantasy            ',\n",
       "       '\\nAction, Adventure, Horror            ',\n",
       "       '\\nCrime, Drama, Romance            ',\n",
       "       '\\nAdventure, Thriller            ',\n",
       "       '\\nBiography, Crime, Drama            ',\n",
       "       '\\nDocumentary, Crime, Mystery            ',\n",
       "       '\\nAction, Drama, Horror            ',\n",
       "       '\\nAction, Adventure            ',\n",
       "       '\\nAnimation, Action, Fantasy            ',\n",
       "       '\\nComedy, Drama, Music            ',\n",
       "       '\\nAction, Crime, Sport            ',\n",
       "       '\\nAction, Drama            ', '\\nHorror            ',\n",
       "       '\\nDrama, Mystery, Romance            ',\n",
       "       '\\nAnimation, Action, Comedy            ',\n",
       "       '\\nAnimation, Short, Comedy            ', '\\nThriller            ',\n",
       "       '\\nAdventure, Fantasy            ',\n",
       "       '\\nAction, Drama, Sci-Fi            ',\n",
       "       '\\nGame-Show, Reality-TV, Romance            ',\n",
       "       '\\nComedy, Crime, Thriller            ',\n",
       "       '\\nDrama, Sci-Fi            ', '\\nMusical, Romance            ',\n",
       "       '\\nDocumentary            ',\n",
       "       '\\nAction, Drama, Mystery            ',\n",
       "       '\\nAction, Thriller            ',\n",
       "       '\\nAnimation, Crime, Drama            ',\n",
       "       '\\nAdventure, Drama            ',\n",
       "       '\\nMystery, Thriller            ',\n",
       "       '\\nReality-TV, Romance            ',\n",
       "       '\\nAnimation, Adventure, Family            ',\n",
       "       '\\nAnimation, Action, Horror            ',\n",
       "       '\\nDrama, Fantasy            ', '\\nDrama, Thriller            ',\n",
       "       '\\nReality-TV            ',\n",
       "       '\\nDocumentary, Biography, History            ',\n",
       "       '\\nAdventure, Sci-Fi            ',\n",
       "       '\\nAnimation, Drama, Romance            ',\n",
       "       '\\nAdventure, Comedy, Crime            ',\n",
       "       '\\nComedy, Fantasy, Romance            ',\n",
       "       '\\nAdventure, Drama, Family            ',\n",
       "       '\\nAction, Crime, Thriller            ',\n",
       "       '\\nBiography, Drama, Sport            ',\n",
       "       '\\nComedy, Family, Sci-Fi            ',\n",
       "       '\\nAnimation, Comedy, Romance            ',\n",
       "       '\\nAnimation, Drama, Fantasy            ',\n",
       "       '\\nDrama, Fantasy, Sci-Fi            ',\n",
       "       '\\nAdventure, Horror, Thriller            ',\n",
       "       '\\nAction, Comedy, War            ',\n",
       "       '\\nFamily, Fantasy, Musical            ',\n",
       "       '\\nHorror, Sci-Fi            ', '\\nComedy, Horror            ',\n",
       "       '\\nAdventure, Drama, Horror            ',\n",
       "       '\\nDrama, Western            ',\n",
       "       '\\nDrama, History, Thriller            ',\n",
       "       '\\nComedy, Drama, Western            ',\n",
       "       '\\nDrama, Music, Romance            ',\n",
       "       '\\nHorror, Sci-Fi, Thriller            ',\n",
       "       '\\nBiography, Drama            ',\n",
       "       '\\nDrama, Romance, Western            ',\n",
       "       '\\nComedy, Crime, Romance            ',\n",
       "       '\\nComedy, Drama, Family            ',\n",
       "       '\\nDrama, Fantasy, Mystery            ',\n",
       "       '\\nAction, Sci-Fi, Thriller            ',\n",
       "       '\\nComedy, Drama, Sport            ',\n",
       "       '\\nCrime, Drama, History            ',\n",
       "       '\\nDrama, Family, Romance            ',\n",
       "       '\\nAdventure, Comedy, Drama            ',\n",
       "       '\\nGame-Show, Reality-TV            ',\n",
       "       '\\nDocumentary, Crime, History            ',\n",
       "       '\\nCrime, Mystery, Thriller            ',\n",
       "       '\\nComedy, Drama, Musical            ',\n",
       "       '\\nAdventure, Drama, History            ',\n",
       "       '\\nAdventure, Comedy, Reality-TV            ',\n",
       "       '\\nFamily, Fantasy, Mystery            ',\n",
       "       '\\nBiography, Comedy            ', '\\nComedy, Music            ',\n",
       "       '\\nAdventure, Comedy, Romance            ',\n",
       "       '\\nComedy, Drama, Sci-Fi            ',\n",
       "       '\\nDrama, Horror, Music            ',\n",
       "       '\\nBiography, Comedy, Drama            ',\n",
       "       '\\nAction, Biography, Drama            ',\n",
       "       '\\nAdventure, Drama, Mystery            ',\n",
       "       '\\nComedy, Musical            ',\n",
       "       '\\nAnimation, Adventure, Drama            ',\n",
       "       '\\nComedy, Family            ',\n",
       "       '\\nAction, Horror, Sci-Fi            ',\n",
       "       '\\nDrama, Horror            ',\n",
       "       '\\nAction, Fantasy, Thriller            ',\n",
       "       '\\nDrama, Family, Fantasy            ',\n",
       "       '\\nAction, Crime, Fantasy            ',\n",
       "       '\\nAnimation, Action, Drama            ',\n",
       "       '\\nAction, Fantasy, Mystery            ',\n",
       "       '\\nAction, Comedy, Horror            ',\n",
       "       '\\nHorror, Mystery, Thriller            ',\n",
       "       '\\nAdventure, Drama, Fantasy            ',\n",
       "       '\\nAction, Comedy, Family            ',\n",
       "       '\\nDrama, History            ',\n",
       "       '\\nAction, Drama, Thriller            ',\n",
       "       '\\nAction, Mystery, Thriller            ',\n",
       "       '\\nShort, Family            ',\n",
       "       '\\nAdventure, Comedy, Fantasy            ',\n",
       "       '\\nComedy, Reality-TV            ',\n",
       "       '\\nHorror, Thriller            ',\n",
       "       '\\nComedy, Drama, Thriller            ',\n",
       "       '\\nAction, Adventure, Family            ',\n",
       "       '\\nCrime, Mystery, Sci-Fi            ',\n",
       "       '\\nAction, Comedy, Romance            ',\n",
       "       '\\nAdventure, Biography, Drama            ',\n",
       "       '\\nComedy, Sci-Fi            ',\n",
       "       '\\nDrama, Romance, War            ',\n",
       "       '\\nAnimation, Family, Fantasy            ',\n",
       "       '\\nAdventure, Fantasy, Sci-Fi            ',\n",
       "       '\\nCrime, Horror, Mystery            ',\n",
       "       '\\nDrama, Family, Sport            ',\n",
       "       '\\nAnimation, Action, Crime            ',\n",
       "       '\\nAnimation, Drama, Family            ',\n",
       "       '\\nDrama, Horror, Sci-Fi            ',\n",
       "       '\\nBiography, Drama, Romance            ',\n",
       "       '\\nAction, Horror, Mystery            ',\n",
       "       '\\nDrama, Family, Reality-TV            ',\n",
       "       '\\nComedy, Mystery            ',\n",
       "       '\\nAction, Romance, Thriller            ',\n",
       "       '\\nAction, Crime, Sci-Fi            ',\n",
       "       '\\nDrama, Music, Musical            ',\n",
       "       '\\nDocumentary, Sport            ', '\\nComedy, Sport            ',\n",
       "       '\\nDocumentary, Biography, Drama            ',\n",
       "       '\\nComedy, Family, Romance            ',\n",
       "       '\\nBiography, Drama, Family            ',\n",
       "       '\\nAnimation, Drama, Music            ',\n",
       "       '\\nComedy, Family, Music            ',\n",
       "       '\\nAction, Comedy, Fantasy            ',\n",
       "       '\\nAdventure, Family, Fantasy            ',\n",
       "       '\\nAction, Crime            ',\n",
       "       '\\nAdventure, Drama, War            ', '\\nSci-Fi            ',\n",
       "       '\\nDrama, History, Sport            ',\n",
       "       '\\nDrama, Music            ',\n",
       "       '\\nHorror, Mystery, Sci-Fi            ',\n",
       "       '\\nDrama, Mystery            ', '\\nDrama, War            ',\n",
       "       '\\nDocumentary, Biography, Crime            ',\n",
       "       '\\nDocumentary, Biography, Sport            ',\n",
       "       '\\nDrama, History, War            ',\n",
       "       '\\nAnimation, Adventure, Fantasy            ',\n",
       "       '\\nAction, Western            ',\n",
       "       '\\nAdventure, Comedy, Family            ',\n",
       "       '\\nAction, Fantasy, Sci-Fi            ',\n",
       "       '\\nCrime, Drama, Sci-Fi            ',\n",
       "       '\\nComedy, Thriller            ',\n",
       "       '\\nAnimation, Comedy, Family            ',\n",
       "       '\\nMystery, Sci-Fi, Thriller            ',\n",
       "       '\\nCrime, Sci-Fi, Thriller            ',\n",
       "       '\\nAnimation, Adventure            ',\n",
       "       '\\nDocumentary, Crime            ',\n",
       "       '\\nBiography, Drama, Musical            ',\n",
       "       '\\nAction, Biography, Crime            ',\n",
       "       '\\nBiography, Drama, Music            ',\n",
       "       '\\nDrama, Family, Musical            ',\n",
       "       '\\nCrime, Drama, Music            ',\n",
       "       '\\nDocumentary, Drama            ',\n",
       "       '\\nAnimation, Drama, Mystery            ',\n",
       "       '\\nCrime, Mystery, Romance            ',\n",
       "       '\\nDrama, Romance, Sci-Fi            ',\n",
       "       '\\nFantasy, Mystery, Romance            ',\n",
       "       '\\nDrama, Fantasy, Thriller            ',\n",
       "       '\\nFamily, Fantasy, Horror            ',\n",
       "       '\\nComedy, Horror, Thriller            ',\n",
       "       '\\nAnimation, Biography, Drama            ',\n",
       "       '\\nDrama, Sport            ', '\\nDrama, Thriller, War            ',\n",
       "       '\\nHorror, Music, Thriller            ',\n",
       "       '\\nComedy, Fantasy, Musical            ',\n",
       "       '\\nDocumentary, Drama, History            ',\n",
       "       '\\nDocumentary, Crime, Sport            ',\n",
       "       '\\nComedy, Drama, War            ',\n",
       "       '\\nAction, Drama, Sport            ',\n",
       "       '\\nComedy, Mystery, Romance            ',\n",
       "       '\\nDocumentary, Crime, Drama            ',\n",
       "       '\\nAction, Mystery, Sci-Fi            ', '\\nGame-Show            ',\n",
       "       '\\nDocumentary, Adventure            ',\n",
       "       '\\nAction, Fantasy, Horror            ',\n",
       "       '\\nAction, Drama, War            ', '\\nMusic            ',\n",
       "       '\\nCrime, Drama, Western            ',\n",
       "       '\\nAdventure, Drama, Thriller            ',\n",
       "       '\\nSci-Fi, Thriller            ',\n",
       "       '\\nFantasy, Horror, Romance            ',\n",
       "       '\\nDrama, Romance, Thriller            ',\n",
       "       '\\nCrime, Drama, Film-Noir            ',\n",
       "       '\\nCrime, History, Thriller            ',\n",
       "       '\\nDrama, History, Western            ',\n",
       "       '\\nFamily, Fantasy            ',\n",
       "       '\\nFantasy, Horror, Sci-Fi            ',\n",
       "       '\\nComedy, Crime, Mystery            ',\n",
       "       '\\nAdventure, Drama, Sci-Fi            ',\n",
       "       '\\nFantasy, Horror, Mystery            ',\n",
       "       '\\nAction, War            ',\n",
       "       '\\nDocumentary, Adventure, Drama            ',\n",
       "       '\\nComedy, Fantasy, Horror            ',\n",
       "       '\\nAnimation, Action            ',\n",
       "       '\\nShort, Drama, Sci-Fi            ',\n",
       "       '\\nShort, Drama, Romance            ',\n",
       "       '\\nDrama, History, Horror            ',\n",
       "       '\\nDocumentary, Drama, Mystery            ',\n",
       "       '\\nAnimation, Drama, Horror            ',\n",
       "       '\\nShort, Action, Comedy            ',\n",
       "       '\\nComedy, Family, Fantasy            ',\n",
       "       '\\nHorror, Reality-TV            ',\n",
       "       '\\nAdventure, Comedy, Mystery            ',\n",
       "       '\\nDocumentary, Biography, Comedy            ',\n",
       "       '\\nComedy, Fantasy            ',\n",
       "       '\\nAdventure, Romance            ',\n",
       "       '\\nAdventure, Family, Horror            ', '\\nCrime            ',\n",
       "       '\\nAnimation, Comedy, Sport            ',\n",
       "       '\\nBiography, Crime            ',\n",
       "       '\\nAnimation, Adventure, Horror            ',\n",
       "       '\\nDocumentary, Short, History            ',\n",
       "       '\\nAction, Drama, Western            ',\n",
       "       '\\nRomance, Sci-Fi            ',\n",
       "       '\\nDocumentary, Comedy, History            ',\n",
       "       '\\nAnimation, Short, Adventure            ',\n",
       "       '\\nDocumentary, Crime, Music            ', '\\nRomance            ',\n",
       "       '\\nAction, Fantasy, Western            ',\n",
       "       '\\nDocumentary, Biography            ',\n",
       "       '\\nAdventure, Drama, Romance            ', '\\nAction            ',\n",
       "       '\\nAction, Comedy, Thriller            ',\n",
       "       '\\nBiography, Drama, Thriller            ',\n",
       "       '\\nDocumentary, Action, Adventure            ',\n",
       "       '\\nHistory, Sport, Thriller            ',\n",
       "       '\\nCrime, Fantasy, Thriller            ',\n",
       "       '\\nAnimation, Family            ', '\\nAction, Sci-Fi            ',\n",
       "       '\\nAction, Adventure, War            ',\n",
       "       '\\nFamily, Game-Show            ',\n",
       "       '\\nAnimation, Comedy, Fantasy            ',\n",
       "       '\\nAnimation            ', '\\nDrama, Musical            ',\n",
       "       '\\nBiography, Drama, War            ',\n",
       "       '\\nComedy, Romance, Sci-Fi            ',\n",
       "       '\\nDocumentary, History, War            ',\n",
       "       '\\nDocumentary, History            ',\n",
       "       '\\nDocumentary, Family            ',\n",
       "       '\\nComedy, Crime, Family            ',\n",
       "       '\\nAction, Fantasy            ',\n",
       "       '\\nAction, Comedy, History            ',\n",
       "       '\\nDrama, Fantasy, Sport            ',\n",
       "       '\\nDocumentary, Reality-TV            ',\n",
       "       '\\nCrime, Drama, Family            ',\n",
       "       '\\nDrama, Family, Music            ',\n",
       "       '\\nDocumentary, Comedy            ', '\\nFamily            ',\n",
       "       '\\nShort, Music            ', '\\nFantasy, Horror            ',\n",
       "       '\\nAnimation, Short, Drama            ',\n",
       "       '\\nAnimation, Action, Family            ',\n",
       "       '\\nComedy, Fantasy, Mystery            ',\n",
       "       '\\nAnimation, Short, Action            ',\n",
       "       '\\nAction, Romance, Sci-Fi            ',\n",
       "       '\\nDocumentary, Reality-TV, Romance            ',\n",
       "       '\\nFantasy, Romance            ',\n",
       "       '\\nComedy, Drama, Horror            ', nan,\n",
       "       '\\nFilm-Noir, Thriller            ', '\\nSport            ',\n",
       "       '\\nDocumentary, Short, Sport            ',\n",
       "       '\\nShort, Comedy, Music            ',\n",
       "       '\\nComedy, Family, Musical            ',\n",
       "       '\\nDocumentary, Biography, Music            ',\n",
       "       '\\nDrama, Romance, Sport            ',\n",
       "       '\\nAnimation, Action, Romance            ',\n",
       "       '\\nComedy, Horror, Sci-Fi            ',\n",
       "       '\\nFamily, Sport            ', '\\nBiography, Thriller            ',\n",
       "       '\\nAnimation, Action, Sci-Fi            ',\n",
       "       '\\nShort, Drama            ',\n",
       "       '\\nComedy, Musical, Romance            ',\n",
       "       '\\nDocumentary, Music            ',\n",
       "       '\\nComedy, Crime, Western            ',\n",
       "       '\\nDocumentary, War            ',\n",
       "       '\\nComedy, Horror, Romance            ',\n",
       "       '\\nAction, Romance            ',\n",
       "       '\\nAction, Mystery, Romance            ',\n",
       "       '\\nShort, Crime, Drama            ',\n",
       "       '\\nComedy, Music, Romance            ',\n",
       "       '\\nAction, Drama, Romance            ',\n",
       "       '\\nComedy, Music, Musical            ',\n",
       "       '\\nComedy, Mystery, Sci-Fi            ',\n",
       "       '\\nShort, Action, Adventure            ',\n",
       "       '\\nDocumentary, Animation, Sci-Fi            ',\n",
       "       '\\nDrama, Family, Sci-Fi            ',\n",
       "       '\\nBiography, Music            ',\n",
       "       '\\nShort, Comedy, Crime            ', '\\nAdventure            ',\n",
       "       '\\nMusic, Romance            ',\n",
       "       '\\nAnimation, Adventure, Sci-Fi            ',\n",
       "       '\\nAnimation, Action, History            ',\n",
       "       '\\nComedy, Horror, Reality-TV            ',\n",
       "       '\\nTalk-Show            ',\n",
       "       '\\nDocumentary, Adventure, Game-Show            ',\n",
       "       '\\nWestern            ', '\\nAction, Thriller, War            ',\n",
       "       '\\nFamily, Sci-Fi, Thriller            ',\n",
       "       '\\nFamily, Romance            ',\n",
       "       '\\nFantasy, Horror, Thriller            ',\n",
       "       '\\nDocumentary, Animation            ',\n",
       "       '\\nComedy, Talk-Show            ',\n",
       "       '\\nShort, Adventure, Comedy            ',\n",
       "       '\\nDocumentary, Short, Sci-Fi            ',\n",
       "       '\\nCrime, Film-Noir, Thriller            ',\n",
       "       '\\nDrama, Family, Mystery            ',\n",
       "       '\\nDrama, History, Music            ',\n",
       "       '\\nComedy, News, Talk-Show            ',\n",
       "       '\\nDrama, Musical, Romance            ',\n",
       "       '\\nComedy, Drama, Mystery            ',\n",
       "       '\\nCrime, Film-Noir, Mystery            ',\n",
       "       '\\nAnimation, Short            ',\n",
       "       '\\nAdventure, Family, Sci-Fi            ',\n",
       "       '\\nGame-Show, Horror, Reality-TV            ',\n",
       "       '\\nComedy, Horror, Mystery            ',\n",
       "       '\\nAction, Comedy, Sci-Fi            ',\n",
       "       '\\nAdventure, Fantasy, Horror            ',\n",
       "       '\\nShort, Horror, Mystery            ',\n",
       "       '\\nAnimation, Comedy, Thriller            ',\n",
       "       '\\nDocumentary, Adventure, History            ',\n",
       "       '\\nAnimation, Sport            ',\n",
       "       '\\nMusic, Reality-TV            ',\n",
       "       '\\nDocumentary, Game-Show            ',\n",
       "       '\\nAdventure, Comedy            ',\n",
       "       '\\nAnimation, Fantasy            ',\n",
       "       '\\nFamily, Adventure, Comedy            ',\n",
       "       '\\nAnimation, Family, Musical            ',\n",
       "       '\\nDrama, Reality-TV            ',\n",
       "       '\\nComedy, Romance, Sport            ',\n",
       "       '\\nDocumentary, Mystery, Reality-TV            ',\n",
       "       '\\nAction, Family            ',\n",
       "       '\\nDocumentary, Horror            ',\n",
       "       '\\nDocumentary, Biography, News            ',\n",
       "       '\\nDocumentary, Short, Drama            ',\n",
       "       '\\nDocumentary, Short            ', '\\nAction, Horror            ',\n",
       "       '\\nComedy, Horror, Talk-Show            ',\n",
       "       '\\nAdventure, Reality-TV            ',\n",
       "       '\\nFamily, Music, Romance            ',\n",
       "       '\\nHorror, Mystery, Romance            ',\n",
       "       '\\nFantasy, Music            ', '\\nFantasy            ',\n",
       "       '\\nAnimation, Fantasy, Romance            ',\n",
       "       '\\nComedy, Family, Horror            ',\n",
       "       '\\nGame-Show, Music            ',\n",
       "       '\\nDocumentary, Drama, Sport            ',\n",
       "       '\\nDrama, Film-Noir, Mystery            ',\n",
       "       '\\nDocumentary, Short, Crime            ',\n",
       "       '\\nDocumentary, Reality-TV, Talk-Show            ',\n",
       "       '\\nShort, Comedy            ',\n",
       "       '\\nAnimation, Comedy, Sci-Fi            ',\n",
       "       '\\nBiography            ', '\\nRomance, Thriller            ',\n",
       "       '\\nDrama, Horror, Romance            ',\n",
       "       '\\nBiography, History, War            ',\n",
       "       '\\nFamily, Talk-Show            ',\n",
       "       '\\nDocumentary, Comedy, Musical            ',\n",
       "       '\\nDrama, Thriller, Western            ',\n",
       "       '\\nDocumentary, Crime, Thriller            ',\n",
       "       '\\nCrime, Drama, Sport            ',\n",
       "       '\\nDocumentary, Short, War            ',\n",
       "       '\\nDrama, Family, History            ', '\\nWar            ',\n",
       "       '\\nDocumentary, Romance            ',\n",
       "       '\\nMystery, Romance, Thriller            ',\n",
       "       '\\nComedy, Romance, Western            ',\n",
       "       '\\nDocumentary, Talk-Show            ',\n",
       "       '\\nFantasy, Thriller            ',\n",
       "       '\\nAction, Fantasy, History            ',\n",
       "       '\\nDocumentary, Reality-TV, Sport            ',\n",
       "       '\\nShort, Comedy, Talk-Show            ',\n",
       "       '\\nAction, Mystery            ',\n",
       "       '\\nDocumentary, Short, Biography            ',\n",
       "       '\\nDocumentary, Animation, Comedy            ',\n",
       "       '\\nDocumentary, Biography, Family            ',\n",
       "       '\\nAction, Biography, History            ',\n",
       "       '\\nDocumentary, News            ',\n",
       "       '\\nAnimation, Horror            ',\n",
       "       '\\nDocumentary, History, Sport            ',\n",
       "       '\\nDocumentary, Mystery            ',\n",
       "       '\\nAnimation, Comedy, Musical            ',\n",
       "       '\\nDocumentary, Comedy, Drama            ',\n",
       "       '\\nAnimation, Fantasy, Sci-Fi            ',\n",
       "       '\\nDocumentary, Animation, History            ',\n",
       "       '\\nComedy, Fantasy, Reality-TV            ',\n",
       "       '\\nGame-Show, Reality-TV, Sport            ',\n",
       "       '\\nComedy, History, Romance            ',\n",
       "       '\\nBiography, Drama, Mystery            ',\n",
       "       '\\nAdventure, Drama, Sport            ',\n",
       "       '\\nFamily, Reality-TV            ',\n",
       "       '\\nAdventure, Mystery            ',\n",
       "       '\\nDocumentary, History, News            ',\n",
       "       '\\nFamily, Musical            ',\n",
       "       '\\nAnimation, Drama, Sport            ',\n",
       "       '\\nAction, Crime, Romance            ',\n",
       "       '\\nDocumentary, Horror, Mystery            ',\n",
       "       '\\nDocumentary, Action, Biography            ',\n",
       "       '\\nRomance, Sport            ', '\\nBiography, History            ',\n",
       "       '\\nNews            ', '\\nHorror, Romance            ',\n",
       "       '\\nAdventure, Family            ',\n",
       "       '\\nDrama, Sci-Fi, War            ',\n",
       "       '\\nDocumentary, Action, History            ',\n",
       "       '\\nShort, Horror            ',\n",
       "       '\\nDocumentary, Biography, War            ',\n",
       "       '\\nAdventure, Music, Sci-Fi            ', '\\nMystery            ',\n",
       "       '\\nAnimation, Family, Sci-Fi            ', '\\nMusical            ',\n",
       "       '\\nDocumentary, Drama, Family            ',\n",
       "       '\\nShort, Mystery, Sci-Fi            ',\n",
       "       '\\nComedy, Documentary            ', '\\nShort            ',\n",
       "       '\\nDocumentary, Western            ',\n",
       "       '\\nDocumentary, Short, Family            ',\n",
       "       '\\nAnimation, Short, Mystery            ',\n",
       "       '\\nAnimation, Short, Family            ',\n",
       "       '\\nComedy, Animation            ',\n",
       "       '\\nDocumentary, Biography, Romance            ',\n",
       "       '\\nDocumentary, Drama, Fantasy            ',\n",
       "       '\\nShort, Documentary            ',\n",
       "       '\\nDocumentary, Comedy, Music            ',\n",
       "       '\\nMusic, Musical            ', '\\nFamily, Music            ',\n",
       "       '\\nGame-Show, Music, Reality-TV            ',\n",
       "       '\\nAction, History            ',\n",
       "       '\\nDocumentary, Adventure, Biography            ',\n",
       "       '\\nShort, Biography, Drama            ',\n",
       "       '\\nDocumentary, Adventure, News            ',\n",
       "       '\\nDrama, Fantasy, History            ',\n",
       "       '\\nDrama, Short            ',\n",
       "       '\\nAction, Adventure, Sport            ',\n",
       "       '\\nCrime, Horror            ',\n",
       "       '\\nHistory, Music, Talk-Show            ',\n",
       "       '\\nComedy, Drama, History            ',\n",
       "       '\\nDocumentary, Crime, News            ',\n",
       "       '\\nDocumentary, Music, Sport            ',\n",
       "       '\\nDocumentary, History, Mystery            ',\n",
       "       '\\nDocumentary, Short, Comedy            ',\n",
       "       '\\nShort, Sci-Fi            ', '\\nCrime, Comedy            ',\n",
       "       '\\nThriller, Mystery            ',\n",
       "       '\\nComedy, Mystery, Thriller            ',\n",
       "       '\\nDocumentary, History, Music            ',\n",
       "       '\\nDocumentary, Family, History            ',\n",
       "       '\\nDocumentary, Action, Crime            ',\n",
       "       '\\nShort, History            ', '\\nShort, Reality-TV            ',\n",
       "       '\\nShort, Action            ',\n",
       "       '\\nBiography, Family, News            ',\n",
       "       '\\nNews, Reality-TV            ', '\\nTalk-Show, Sport            '],\n",
       "      dtype=object)"
      ]
     },
     "execution_count": 19,
     "metadata": {},
     "output_type": "execute_result"
    }
   ],
   "source": [
    "cleaned_missing_data_df['GENRE'].unique()"
   ]
  },
  {
   "cell_type": "code",
   "execution_count": 20,
   "metadata": {},
   "outputs": [
    {
     "data": {
      "text/plain": [
       "0           Action, Horror, Thriller\n",
       "1       Animation, Action, Adventure\n",
       "2            Drama, Horror, Thriller\n",
       "3       Animation, Adventure, Comedy\n",
       "4              Action, Crime, Horror\n",
       "                    ...             \n",
       "9993                 Drama, Thriller\n",
       "9995    Animation, Action, Adventure\n",
       "9996              Documentary, Sport\n",
       "9997       Adventure, Drama, Fantasy\n",
       "9998       Adventure, Drama, Fantasy\n",
       "Name: GENRE, Length: 9568, dtype: object"
      ]
     },
     "execution_count": 20,
     "metadata": {},
     "output_type": "execute_result"
    }
   ],
   "source": [
    "cleaned_missing_data_df['GENRE'] = cleaned_missing_data_df['GENRE'].str.strip()\n",
    "cleaned_missing_data_df['GENRE']"
   ]
  },
  {
   "cell_type": "markdown",
   "metadata": {},
   "source": [
    "To ensure data completeness and maintain consistency, we replace missing values with a placeholder \"Unknown Genre\". This approach helps in retaining all records while preventing potential errors in analysis."
   ]
  },
  {
   "cell_type": "code",
   "execution_count": 21,
   "metadata": {},
   "outputs": [],
   "source": [
    "cleaned_missing_data_df['GENRE'].fillna('Unknown', inplace=True)"
   ]
  },
  {
   "cell_type": "code",
   "execution_count": 22,
   "metadata": {},
   "outputs": [
    {
     "data": {
      "text/plain": [
       "array(['Action, Horror, Thriller', 'Animation, Action, Adventure',\n",
       "       'Drama, Horror, Thriller', 'Animation, Adventure, Comedy',\n",
       "       'Action, Crime, Horror', 'Action, Crime, Drama', 'Drama, Romance',\n",
       "       'Crime, Drama, Mystery', 'Comedy', 'Action, Adventure, Thriller',\n",
       "       'Crime, Drama, Fantasy', 'Drama, Horror, Mystery',\n",
       "       'Comedy, Drama, Romance', 'Crime, Drama, Thriller', 'Drama',\n",
       "       'Comedy, Drama', 'Drama, Fantasy, Horror', 'Comedy, Romance',\n",
       "       'Action, Adventure, Drama', 'Crime, Drama',\n",
       "       'Drama, History, Romance', 'Horror, Mystery', 'Comedy, Crime',\n",
       "       'Action, Drama, History', 'Action, Adventure, Crime',\n",
       "       'Action, Adventure, Fantasy', 'Action, Crime, Mystery',\n",
       "       'Drama, Fantasy, Romance', 'Drama, Sci-Fi, Thriller',\n",
       "       'Biography, Drama, History', 'Crime, Thriller',\n",
       "       'Comedy, Crime, Drama', 'Drama, Mystery, Thriller',\n",
       "       'Action, Adventure, Mystery', 'Action, Comedy',\n",
       "       'Crime, Drama, Horror', 'Drama, Mystery, Sci-Fi',\n",
       "       'Action, Comedy, Crime', 'Drama, Family',\n",
       "       'Action, Adventure, Sci-Fi', 'Animation, Comedy',\n",
       "       'Action, Comedy, Drama', 'Crime, Horror, Thriller',\n",
       "       'Action, Adventure, Comedy', 'Animation, Comedy, Drama',\n",
       "       'Adventure, Fantasy, Romance', 'Action, Drama, Fantasy',\n",
       "       'Action, Adventure, Biography', 'Comedy, Drama, Fantasy',\n",
       "       'Action, Adventure, Horror', 'Crime, Drama, Romance',\n",
       "       'Adventure, Thriller', 'Biography, Crime, Drama',\n",
       "       'Documentary, Crime, Mystery', 'Action, Drama, Horror',\n",
       "       'Action, Adventure', 'Animation, Action, Fantasy',\n",
       "       'Comedy, Drama, Music', 'Action, Crime, Sport', 'Action, Drama',\n",
       "       'Horror', 'Drama, Mystery, Romance', 'Animation, Action, Comedy',\n",
       "       'Animation, Short, Comedy', 'Thriller', 'Adventure, Fantasy',\n",
       "       'Action, Drama, Sci-Fi', 'Game-Show, Reality-TV, Romance',\n",
       "       'Comedy, Crime, Thriller', 'Drama, Sci-Fi', 'Musical, Romance',\n",
       "       'Documentary', 'Action, Drama, Mystery', 'Action, Thriller',\n",
       "       'Animation, Crime, Drama', 'Adventure, Drama', 'Mystery, Thriller',\n",
       "       'Reality-TV, Romance', 'Animation, Adventure, Family',\n",
       "       'Animation, Action, Horror', 'Drama, Fantasy', 'Drama, Thriller',\n",
       "       'Reality-TV', 'Documentary, Biography, History',\n",
       "       'Adventure, Sci-Fi', 'Animation, Drama, Romance',\n",
       "       'Adventure, Comedy, Crime', 'Comedy, Fantasy, Romance',\n",
       "       'Adventure, Drama, Family', 'Action, Crime, Thriller',\n",
       "       'Biography, Drama, Sport', 'Comedy, Family, Sci-Fi',\n",
       "       'Animation, Comedy, Romance', 'Animation, Drama, Fantasy',\n",
       "       'Drama, Fantasy, Sci-Fi', 'Adventure, Horror, Thriller',\n",
       "       'Action, Comedy, War', 'Family, Fantasy, Musical',\n",
       "       'Horror, Sci-Fi', 'Comedy, Horror', 'Adventure, Drama, Horror',\n",
       "       'Drama, Western', 'Drama, History, Thriller',\n",
       "       'Comedy, Drama, Western', 'Drama, Music, Romance',\n",
       "       'Horror, Sci-Fi, Thriller', 'Biography, Drama',\n",
       "       'Drama, Romance, Western', 'Comedy, Crime, Romance',\n",
       "       'Comedy, Drama, Family', 'Drama, Fantasy, Mystery',\n",
       "       'Action, Sci-Fi, Thriller', 'Comedy, Drama, Sport',\n",
       "       'Crime, Drama, History', 'Drama, Family, Romance',\n",
       "       'Adventure, Comedy, Drama', 'Game-Show, Reality-TV',\n",
       "       'Documentary, Crime, History', 'Crime, Mystery, Thriller',\n",
       "       'Comedy, Drama, Musical', 'Adventure, Drama, History',\n",
       "       'Adventure, Comedy, Reality-TV', 'Family, Fantasy, Mystery',\n",
       "       'Biography, Comedy', 'Comedy, Music', 'Adventure, Comedy, Romance',\n",
       "       'Comedy, Drama, Sci-Fi', 'Drama, Horror, Music',\n",
       "       'Biography, Comedy, Drama', 'Action, Biography, Drama',\n",
       "       'Adventure, Drama, Mystery', 'Comedy, Musical',\n",
       "       'Animation, Adventure, Drama', 'Comedy, Family',\n",
       "       'Action, Horror, Sci-Fi', 'Drama, Horror',\n",
       "       'Action, Fantasy, Thriller', 'Drama, Family, Fantasy',\n",
       "       'Action, Crime, Fantasy', 'Animation, Action, Drama',\n",
       "       'Action, Fantasy, Mystery', 'Action, Comedy, Horror',\n",
       "       'Horror, Mystery, Thriller', 'Adventure, Drama, Fantasy',\n",
       "       'Action, Comedy, Family', 'Drama, History',\n",
       "       'Action, Drama, Thriller', 'Action, Mystery, Thriller',\n",
       "       'Short, Family', 'Adventure, Comedy, Fantasy',\n",
       "       'Comedy, Reality-TV', 'Horror, Thriller',\n",
       "       'Comedy, Drama, Thriller', 'Action, Adventure, Family',\n",
       "       'Crime, Mystery, Sci-Fi', 'Action, Comedy, Romance',\n",
       "       'Adventure, Biography, Drama', 'Comedy, Sci-Fi',\n",
       "       'Drama, Romance, War', 'Animation, Family, Fantasy',\n",
       "       'Adventure, Fantasy, Sci-Fi', 'Crime, Horror, Mystery',\n",
       "       'Drama, Family, Sport', 'Animation, Action, Crime',\n",
       "       'Animation, Drama, Family', 'Drama, Horror, Sci-Fi',\n",
       "       'Biography, Drama, Romance', 'Action, Horror, Mystery',\n",
       "       'Drama, Family, Reality-TV', 'Comedy, Mystery',\n",
       "       'Action, Romance, Thriller', 'Action, Crime, Sci-Fi',\n",
       "       'Drama, Music, Musical', 'Documentary, Sport', 'Comedy, Sport',\n",
       "       'Documentary, Biography, Drama', 'Comedy, Family, Romance',\n",
       "       'Biography, Drama, Family', 'Animation, Drama, Music',\n",
       "       'Comedy, Family, Music', 'Action, Comedy, Fantasy',\n",
       "       'Adventure, Family, Fantasy', 'Action, Crime',\n",
       "       'Adventure, Drama, War', 'Sci-Fi', 'Drama, History, Sport',\n",
       "       'Drama, Music', 'Horror, Mystery, Sci-Fi', 'Drama, Mystery',\n",
       "       'Drama, War', 'Documentary, Biography, Crime',\n",
       "       'Documentary, Biography, Sport', 'Drama, History, War',\n",
       "       'Animation, Adventure, Fantasy', 'Action, Western',\n",
       "       'Adventure, Comedy, Family', 'Action, Fantasy, Sci-Fi',\n",
       "       'Crime, Drama, Sci-Fi', 'Comedy, Thriller',\n",
       "       'Animation, Comedy, Family', 'Mystery, Sci-Fi, Thriller',\n",
       "       'Crime, Sci-Fi, Thriller', 'Animation, Adventure',\n",
       "       'Documentary, Crime', 'Biography, Drama, Musical',\n",
       "       'Action, Biography, Crime', 'Biography, Drama, Music',\n",
       "       'Drama, Family, Musical', 'Crime, Drama, Music',\n",
       "       'Documentary, Drama', 'Animation, Drama, Mystery',\n",
       "       'Crime, Mystery, Romance', 'Drama, Romance, Sci-Fi',\n",
       "       'Fantasy, Mystery, Romance', 'Drama, Fantasy, Thriller',\n",
       "       'Family, Fantasy, Horror', 'Comedy, Horror, Thriller',\n",
       "       'Animation, Biography, Drama', 'Drama, Sport',\n",
       "       'Drama, Thriller, War', 'Horror, Music, Thriller',\n",
       "       'Comedy, Fantasy, Musical', 'Documentary, Drama, History',\n",
       "       'Documentary, Crime, Sport', 'Comedy, Drama, War',\n",
       "       'Action, Drama, Sport', 'Comedy, Mystery, Romance',\n",
       "       'Documentary, Crime, Drama', 'Action, Mystery, Sci-Fi',\n",
       "       'Game-Show', 'Documentary, Adventure', 'Action, Fantasy, Horror',\n",
       "       'Action, Drama, War', 'Music', 'Crime, Drama, Western',\n",
       "       'Adventure, Drama, Thriller', 'Sci-Fi, Thriller',\n",
       "       'Fantasy, Horror, Romance', 'Drama, Romance, Thriller',\n",
       "       'Crime, Drama, Film-Noir', 'Crime, History, Thriller',\n",
       "       'Drama, History, Western', 'Family, Fantasy',\n",
       "       'Fantasy, Horror, Sci-Fi', 'Comedy, Crime, Mystery',\n",
       "       'Adventure, Drama, Sci-Fi', 'Fantasy, Horror, Mystery',\n",
       "       'Action, War', 'Documentary, Adventure, Drama',\n",
       "       'Comedy, Fantasy, Horror', 'Animation, Action',\n",
       "       'Short, Drama, Sci-Fi', 'Short, Drama, Romance',\n",
       "       'Drama, History, Horror', 'Documentary, Drama, Mystery',\n",
       "       'Animation, Drama, Horror', 'Short, Action, Comedy',\n",
       "       'Comedy, Family, Fantasy', 'Horror, Reality-TV',\n",
       "       'Adventure, Comedy, Mystery', 'Documentary, Biography, Comedy',\n",
       "       'Comedy, Fantasy', 'Adventure, Romance',\n",
       "       'Adventure, Family, Horror', 'Crime', 'Animation, Comedy, Sport',\n",
       "       'Biography, Crime', 'Animation, Adventure, Horror',\n",
       "       'Documentary, Short, History', 'Action, Drama, Western',\n",
       "       'Romance, Sci-Fi', 'Documentary, Comedy, History',\n",
       "       'Animation, Short, Adventure', 'Documentary, Crime, Music',\n",
       "       'Romance', 'Action, Fantasy, Western', 'Documentary, Biography',\n",
       "       'Adventure, Drama, Romance', 'Action', 'Action, Comedy, Thriller',\n",
       "       'Biography, Drama, Thriller', 'Documentary, Action, Adventure',\n",
       "       'History, Sport, Thriller', 'Crime, Fantasy, Thriller',\n",
       "       'Animation, Family', 'Action, Sci-Fi', 'Action, Adventure, War',\n",
       "       'Family, Game-Show', 'Animation, Comedy, Fantasy', 'Animation',\n",
       "       'Drama, Musical', 'Biography, Drama, War',\n",
       "       'Comedy, Romance, Sci-Fi', 'Documentary, History, War',\n",
       "       'Documentary, History', 'Documentary, Family',\n",
       "       'Comedy, Crime, Family', 'Action, Fantasy',\n",
       "       'Action, Comedy, History', 'Drama, Fantasy, Sport',\n",
       "       'Documentary, Reality-TV', 'Crime, Drama, Family',\n",
       "       'Drama, Family, Music', 'Documentary, Comedy', 'Family',\n",
       "       'Short, Music', 'Fantasy, Horror', 'Animation, Short, Drama',\n",
       "       'Animation, Action, Family', 'Comedy, Fantasy, Mystery',\n",
       "       'Animation, Short, Action', 'Action, Romance, Sci-Fi',\n",
       "       'Documentary, Reality-TV, Romance', 'Fantasy, Romance',\n",
       "       'Comedy, Drama, Horror', 'Unknown', 'Film-Noir, Thriller', 'Sport',\n",
       "       'Documentary, Short, Sport', 'Short, Comedy, Music',\n",
       "       'Comedy, Family, Musical', 'Documentary, Biography, Music',\n",
       "       'Drama, Romance, Sport', 'Animation, Action, Romance',\n",
       "       'Comedy, Horror, Sci-Fi', 'Family, Sport', 'Biography, Thriller',\n",
       "       'Animation, Action, Sci-Fi', 'Short, Drama',\n",
       "       'Comedy, Musical, Romance', 'Documentary, Music',\n",
       "       'Comedy, Crime, Western', 'Documentary, War',\n",
       "       'Comedy, Horror, Romance', 'Action, Romance',\n",
       "       'Action, Mystery, Romance', 'Short, Crime, Drama',\n",
       "       'Comedy, Music, Romance', 'Action, Drama, Romance',\n",
       "       'Comedy, Music, Musical', 'Comedy, Mystery, Sci-Fi',\n",
       "       'Short, Action, Adventure', 'Documentary, Animation, Sci-Fi',\n",
       "       'Drama, Family, Sci-Fi', 'Biography, Music',\n",
       "       'Short, Comedy, Crime', 'Adventure', 'Music, Romance',\n",
       "       'Animation, Adventure, Sci-Fi', 'Animation, Action, History',\n",
       "       'Comedy, Horror, Reality-TV', 'Talk-Show',\n",
       "       'Documentary, Adventure, Game-Show', 'Western',\n",
       "       'Action, Thriller, War', 'Family, Sci-Fi, Thriller',\n",
       "       'Family, Romance', 'Fantasy, Horror, Thriller',\n",
       "       'Documentary, Animation', 'Comedy, Talk-Show',\n",
       "       'Short, Adventure, Comedy', 'Documentary, Short, Sci-Fi',\n",
       "       'Crime, Film-Noir, Thriller', 'Drama, Family, Mystery',\n",
       "       'Drama, History, Music', 'Comedy, News, Talk-Show',\n",
       "       'Drama, Musical, Romance', 'Comedy, Drama, Mystery',\n",
       "       'Crime, Film-Noir, Mystery', 'Animation, Short',\n",
       "       'Adventure, Family, Sci-Fi', 'Game-Show, Horror, Reality-TV',\n",
       "       'Comedy, Horror, Mystery', 'Action, Comedy, Sci-Fi',\n",
       "       'Adventure, Fantasy, Horror', 'Short, Horror, Mystery',\n",
       "       'Animation, Comedy, Thriller', 'Documentary, Adventure, History',\n",
       "       'Animation, Sport', 'Music, Reality-TV', 'Documentary, Game-Show',\n",
       "       'Adventure, Comedy', 'Animation, Fantasy',\n",
       "       'Family, Adventure, Comedy', 'Animation, Family, Musical',\n",
       "       'Drama, Reality-TV', 'Comedy, Romance, Sport',\n",
       "       'Documentary, Mystery, Reality-TV', 'Action, Family',\n",
       "       'Documentary, Horror', 'Documentary, Biography, News',\n",
       "       'Documentary, Short, Drama', 'Documentary, Short',\n",
       "       'Action, Horror', 'Comedy, Horror, Talk-Show',\n",
       "       'Adventure, Reality-TV', 'Family, Music, Romance',\n",
       "       'Horror, Mystery, Romance', 'Fantasy, Music', 'Fantasy',\n",
       "       'Animation, Fantasy, Romance', 'Comedy, Family, Horror',\n",
       "       'Game-Show, Music', 'Documentary, Drama, Sport',\n",
       "       'Drama, Film-Noir, Mystery', 'Documentary, Short, Crime',\n",
       "       'Documentary, Reality-TV, Talk-Show', 'Short, Comedy',\n",
       "       'Animation, Comedy, Sci-Fi', 'Biography', 'Romance, Thriller',\n",
       "       'Drama, Horror, Romance', 'Biography, History, War',\n",
       "       'Family, Talk-Show', 'Documentary, Comedy, Musical',\n",
       "       'Drama, Thriller, Western', 'Documentary, Crime, Thriller',\n",
       "       'Crime, Drama, Sport', 'Documentary, Short, War',\n",
       "       'Drama, Family, History', 'War', 'Documentary, Romance',\n",
       "       'Mystery, Romance, Thriller', 'Comedy, Romance, Western',\n",
       "       'Documentary, Talk-Show', 'Fantasy, Thriller',\n",
       "       'Action, Fantasy, History', 'Documentary, Reality-TV, Sport',\n",
       "       'Short, Comedy, Talk-Show', 'Action, Mystery',\n",
       "       'Documentary, Short, Biography', 'Documentary, Animation, Comedy',\n",
       "       'Documentary, Biography, Family', 'Action, Biography, History',\n",
       "       'Documentary, News', 'Animation, Horror',\n",
       "       'Documentary, History, Sport', 'Documentary, Mystery',\n",
       "       'Animation, Comedy, Musical', 'Documentary, Comedy, Drama',\n",
       "       'Animation, Fantasy, Sci-Fi', 'Documentary, Animation, History',\n",
       "       'Comedy, Fantasy, Reality-TV', 'Game-Show, Reality-TV, Sport',\n",
       "       'Comedy, History, Romance', 'Biography, Drama, Mystery',\n",
       "       'Adventure, Drama, Sport', 'Family, Reality-TV',\n",
       "       'Adventure, Mystery', 'Documentary, History, News',\n",
       "       'Family, Musical', 'Animation, Drama, Sport',\n",
       "       'Action, Crime, Romance', 'Documentary, Horror, Mystery',\n",
       "       'Documentary, Action, Biography', 'Romance, Sport',\n",
       "       'Biography, History', 'News', 'Horror, Romance',\n",
       "       'Adventure, Family', 'Drama, Sci-Fi, War',\n",
       "       'Documentary, Action, History', 'Short, Horror',\n",
       "       'Documentary, Biography, War', 'Adventure, Music, Sci-Fi',\n",
       "       'Mystery', 'Animation, Family, Sci-Fi', 'Musical',\n",
       "       'Documentary, Drama, Family', 'Short, Mystery, Sci-Fi',\n",
       "       'Comedy, Documentary', 'Short', 'Documentary, Western',\n",
       "       'Documentary, Short, Family', 'Animation, Short, Mystery',\n",
       "       'Animation, Short, Family', 'Comedy, Animation',\n",
       "       'Documentary, Biography, Romance', 'Documentary, Drama, Fantasy',\n",
       "       'Short, Documentary', 'Documentary, Comedy, Music',\n",
       "       'Music, Musical', 'Family, Music', 'Game-Show, Music, Reality-TV',\n",
       "       'Action, History', 'Documentary, Adventure, Biography',\n",
       "       'Short, Biography, Drama', 'Documentary, Adventure, News',\n",
       "       'Drama, Fantasy, History', 'Drama, Short',\n",
       "       'Action, Adventure, Sport', 'Crime, Horror',\n",
       "       'History, Music, Talk-Show', 'Comedy, Drama, History',\n",
       "       'Documentary, Crime, News', 'Documentary, Music, Sport',\n",
       "       'Documentary, History, Mystery', 'Documentary, Short, Comedy',\n",
       "       'Short, Sci-Fi', 'Crime, Comedy', 'Thriller, Mystery',\n",
       "       'Comedy, Mystery, Thriller', 'Documentary, History, Music',\n",
       "       'Documentary, Family, History', 'Documentary, Action, Crime',\n",
       "       'Short, History', 'Short, Reality-TV', 'Short, Action',\n",
       "       'Biography, Family, News', 'News, Reality-TV', 'Talk-Show, Sport'],\n",
       "      dtype=object)"
      ]
     },
     "execution_count": 22,
     "metadata": {},
     "output_type": "execute_result"
    }
   ],
   "source": [
    "cleaned_missing_data_df['GENRE'].unique()"
   ]
  },
  {
   "cell_type": "code",
   "execution_count": 23,
   "metadata": {},
   "outputs": [
    {
     "name": "stdout",
     "output_type": "stream",
     "text": [
      "Gross       95.19\n",
      "RunTime     26.76\n",
      "RATING      14.63\n",
      "VOTES       14.63\n",
      "YEAR         5.66\n",
      "MOVIES       0.00\n",
      "GENRE        0.00\n",
      "ONE-LINE     0.00\n",
      "STARS        0.00\n",
      "dtype: float64\n"
     ]
    }
   ],
   "source": [
    "percentage_missing_values(cleaned_missing_data_df)"
   ]
  },
  {
   "cell_type": "markdown",
   "metadata": {},
   "source": [
    "### YEAR\n",
    "\n",
    "We are using regex to extract the first occurrence of a 4-digit year.\n",
    "\n",
    "| YEAR          | YEAR_CLEANED |\n",
    "|--------------|-------------|\n",
    "| (2021)       | 2021        |\n",
    "| (2021– )     | 2021        |\n",
    "| (2010–2022)  | 2010        |\n",
    "| (2013– )     | 2013        |\n",
    "| (I) (2018– ) | 2018        |\n",
    "| (TV Movie)   | NaN         |\n",
    "| (2005–2013)  | 2005        |"
   ]
  },
  {
   "cell_type": "code",
   "execution_count": 24,
   "metadata": {},
   "outputs": [
    {
     "data": {
      "text/plain": [
       "array(['(2021)', '(2021– )', '(2010–2022)', '(2013– )', '(2020– )',\n",
       "       '(2006–2013)', '(2019– )', '(2016–2021)', '(2011– )', '(2005– )',\n",
       "       '(2008–2013)', '(2017– )', '(2017–2021)', '(2016– )',\n",
       "       '(1994–2004)', '(2014– )', '(2013–2020)', '(2015– )',\n",
       "       '(2005–2020)', '(2013–2022)', '(2003– )', '(2009–2020)',\n",
       "       '(I) (2018– )', '(2010–2015)', '(2011–2019)', '(2015–2020)',\n",
       "       '(2005–2014)', '(2009–2015)', '(2008–2014)', '(2016–2018)',\n",
       "       '(2009–2017)', '(2020)', '(2018–2021)', '(2017–2020)',\n",
       "       '(1987–1994)', '(2018– )', '(2012– )', '(2014–2020)',\n",
       "       '(2011–2018)', '(2005–2017)', '(2017)', '(2007–2015)',\n",
       "       '(2000–2007)', '(II) (2007– )', '(1993)', '(1999–2022)',\n",
       "       '(2015–2018)', '(2014–2019)', '(2016)', '(2012–2020)',\n",
       "       '(2013–2019)', '(2007–2012)', '(2011–2020)', '(2010–2017)',\n",
       "       '(2000–2015)', '(2015–2021)', '(2001)', '(1997– )', '(2011–2017)',\n",
       "       '(1993–1999)', '(1989–1998)', '(2010–2013)', '(2010–2020)',\n",
       "       '(2003–2019)', '(I) (2019)', '(2017–2019)', '(1975)',\n",
       "       '(2005–2008)', '(1995–2001)', '(2006)', '(2015–2017)',\n",
       "       '(2008–2020)', '(1984–1996)', '(2010– )', '(2014)', '(2000)',\n",
       "       '(2013–2018)', '(2009–2016)', '(2016–2020)', '(2021 TV Special)',\n",
       "       '(2003)', '(1998–2003)', '(I) (2017)', '(1966–1969)', '(2009– )',\n",
       "       '(2019)', '(1990–1991)', '(2012)', '(1995)', '(2020–2021)',\n",
       "       '(2013–2017)', '(2015)', '(2019–2020)', '(2017–2018)',\n",
       "       '(2013–2015)', '(2012–2017)', '(I) (2013–2016)', '(2002)',\n",
       "       '(I) (2020)', '(III) (2021)', '(2018)', '(II) (2016)', '(1976)',\n",
       "       '(1978)', '(2016–2019)', '(2009–2014)', '(2022)', '(2011–2014)',\n",
       "       '(2007–2013)', '(2006–2007)', '(2002–2007)', '(2014–2017)',\n",
       "       '(2010–2019)', '(2008– )', '(2012–2019)', '(2014–2016)',\n",
       "       '(2009–2012)', '(2018–2020)', '(2001–2005)', '(2011–2015)',\n",
       "       '(2014–2018)', '(2015–2019)', '(1982–1993)', '(1998– )', '(1968)',\n",
       "       '(2010–2018)', '(2014–2021)', '(2007–2010)', '(2011)',\n",
       "       '(2013–2021)', '(1990–1996)', '(2004)', '(2007–2014)',\n",
       "       '(1996–2001)', '(2013)', '(2008)', '(1999–2000)', '(2012–2014)',\n",
       "       '(I) (2013)', '(2012–2018)', '(2018–2019)', '(2009–2013)',\n",
       "       '(1971)', '(2004– )', '(1989)', '(1998)', '(2001–2018)',\n",
       "       '(1987–1995)', '(I) (2014)', '(1998–2020)', '(I) (2015)', '(1997)',\n",
       "       '(2004–2013)', '(2002– )', '(2010)', '(I) (2016)', '(II) (2017– )',\n",
       "       '(I) (2018)', '(I) (2021)', '(2004–2012)', '(2019–2021)',\n",
       "       '(IV) (2020)', '(2006–2010)', '(2006–2012)', '(1996)',\n",
       "       '(1994–2000)', '(II) (2020)', '(1980)', '(I) (2011)',\n",
       "       '(1995–1996)', '(2016–2017)', '(1993–1996)', '(II) (2019– )',\n",
       "       '(2009)', '(1962)', '(1991)', '(2022– )', '(II) (2017)',\n",
       "       '(I) (2012)', '(1984)', '(2011–2016)', '(2009–2019)',\n",
       "       '(II) (2020– )', '(2006–2021)', '(I) (2010)', '(2012–2015)',\n",
       "       '(I) (2013–2014)', '(1960)', '(1988)', '(2007)', '(1987)',\n",
       "       '(2010–2011)', '(1969)', '(2006–2011)', '(II) (2019)', '(1961)',\n",
       "       '(1979)', '(II) (2022)', '(2014–2015)', '(1956)', '(2013–2016)',\n",
       "       '(III) (2018)', '(2005)', '(II) (2012– )', '(II) (2013)', '(1983)',\n",
       "       '(2002–2019)', '(2013 TV Movie)', '(II) (2015)', '(I) (2012–2015)',\n",
       "       '(1975–1979)', '(1990)', nan, '(II) (2018)', '(IV) (2021)',\n",
       "       '(2015–2016)', '(1995–1998)', '(1986)', '(2012–2013)', '(1966)',\n",
       "       '(2011–2012)', '(2011–2021)', '(2016 Video)', '(2017 TV Movie)',\n",
       "       '(2009–2011)', '(2004–2018)', '(1967)', '(1984– )', '(1994)',\n",
       "       '(2003–2006)', '(III) (2015)', '(1974)', '(2000–2004)',\n",
       "       '(1984–2021)', '(I)', '(II) (2021)', '(1994–1999)', '(III)',\n",
       "       '(1992)', '(1969–1974)', '(2012–2016)', '(2013–2014)',\n",
       "       '(I) (2008)', '(1958)', '(2008–2009)', '(II) (2004)',\n",
       "       '(III) (2019)', '(2006–2009)', '(2011–2013)', '(2007–2008)',\n",
       "       '(1988–1999)', '(2010–2012)', '(2010–2014)', '(II) (2012)',\n",
       "       '(1932)', '(2014 TV Movie)', '(1941)', '(2006– )', '(1992–1995)',\n",
       "       '(2016 TV Special)', '(2020 TV Movie)', '(2008–2010)', '(II)',\n",
       "       '(2020 Video)', '(1999– )', '(1950)', '(2020 TV Special)',\n",
       "       '(1992–2014)', '(2002–2005)', '(2013 TV Special)', '(I) (2021– )',\n",
       "       '(1999)', '(2016 TV Movie)', '(XII)', '(VII)', '(2021 TV Movie)',\n",
       "       '(1983– )', '(1996 Video)', '(1993 TV Movie)', '(2018 TV Movie)',\n",
       "       '(2005–2009)', '(2001–2002)', '(2015 TV Movie)', '(I) (2020– )',\n",
       "       '(2011 Video)', '(2008 Video)', '(2012 Video)', '(1946)',\n",
       "       '(II) (2014)', '(2019 Video)', '(1981–1989)', '(IV) (2016)',\n",
       "       '(III) (2016)', '(2019 TV Movie)', '(1952)', '(2007 Video)',\n",
       "       '(2000–2014)', '(1992– )', '(1957)', '(2003–2007)', '(IV)',\n",
       "       '(2008–2017)', '(2008–2019)', '(1998–2000)', '(I) (2004)',\n",
       "       '(2007–2016)', '(2017 TV Special)', '(2009 TV Movie)',\n",
       "       '(2013 Video)', '(2017 Video)', '(1994–1996)', '(IV) (2017)',\n",
       "       '(IV) (2018)', '(2007– )', '(1954)', '(2012 TV Movie)', '(1995– )',\n",
       "       '(1982)', '(1955)', '(2014 TV Short)', '(I) (2022– )',\n",
       "       '(I) (2019–2020)', '(1975 TV Movie)', '(2019 TV Special)',\n",
       "       '(2015 TV Special)', '(2015 TV Short)', '(2018 TV Special)',\n",
       "       '(1948)', '(2014 Video)', '(VI) (2014)', '(2003–2013)',\n",
       "       '(2021 Video)', '(1947)', '(2001– )', '(II) (2021– )',\n",
       "       '(1997–2000)', '(III) (2020)', '(I) (2019– )', '(1993– )',\n",
       "       '(1977)', '(I) (2009)', '(V)', '(2023)', '(I) (2000)',\n",
       "       '(TV Special)', '(II) (2011)', '(TV Movie)', '(1945)',\n",
       "       '(2015 Video)', '(III) (2010)', '(2009 Video)', '(1998–2002)',\n",
       "       '(2008 TV Movie)', '(2019 TV Short)', '(2004 Video)',\n",
       "       '(II) (1998)', '(2014 TV Special)', '(1953)', '(1985)', '(VIII)',\n",
       "       '(1973)', '(2012 TV Special)', '(V) (2016)', '(1972)',\n",
       "       '(V) (2018)', '(II) (2010)', '(2021 TV Short)', '(VI) (2019)',\n",
       "       '(I) (2005)', '(1965)', '(2010–2016)', '(V) (2010)', '(2005–2013)',\n",
       "       '(2006 TV Special)', '(2006 Video)', '(2011 TV Movie)',\n",
       "       '(1988 TV Movie)', '(XXIII)', '(2011 TV Special)',\n",
       "       '(2020 TV Short)', '(VI) (2018)', '(2008 TV Special)',\n",
       "       '(1998–1999)', '(I) (2015– )', '(III) (2012)', '(VI)',\n",
       "       '(2010 TV Special)', '(III) (2017)', '(1993 TV Special)',\n",
       "       '(2004–2005)', '(1992 Video)', '(1989 TV Special)', '(XI)',\n",
       "       '(III) (2014)', '(1966 TV Special)', '(1999 TV Movie)',\n",
       "       '(1987 TV Special)', '(1944)', '(1998 TV Special)',\n",
       "       '(2006 TV Movie)', '(2022 TV Special)', '(1989 Video)',\n",
       "       '(1991 TV Special)', '(XLI)', '(IV) (2014)', '(2005 Video)',\n",
       "       '(2007 TV Special)', '(1965 TV Special)', '(1990 TV Special)',\n",
       "       '(2001 TV Special)', '(IX)', '(II) (2016– )', '(XIV) (2017)',\n",
       "       '(2009–2010)', '(XIII)', '(II) (2012–2019)', '(1933)',\n",
       "       '(II) (2009)', '(2010 Video)', '(2009 TV Special)', '(1938)',\n",
       "       '(2003 TV Special)', '(Video)', '(2001 TV Movie)', '(VI) (2016)',\n",
       "       '(III) (2011)', '(2007 TV Movie)', '(2017 TV Short)',\n",
       "       '(2018 Video)', '(2000 Video)', '(1995 Video)', '(2003 Video)',\n",
       "       '(II) (2016 TV Movie)', '(1998 Video)', '(2005 TV Special)',\n",
       "       '(2004–2009)', '(2018 Video Game)', '(1988– )', '(1985– )'],\n",
       "      dtype=object)"
      ]
     },
     "execution_count": 24,
     "metadata": {},
     "output_type": "execute_result"
    }
   ],
   "source": [
    "cleaned_missing_data_df['YEAR'].unique()"
   ]
  },
  {
   "cell_type": "code",
   "execution_count": 25,
   "metadata": {},
   "outputs": [
    {
     "data": {
      "text/plain": [
       "array(['2021', '2010', '2013', '2020', '2006', '2019', '2016', '2011',\n",
       "       '2005', '2008', '2017', '1994', '2014', '2015', '2003', '2009',\n",
       "       '2018', '1987', '2012', '2007', '2000', '1993', '1999', '2001',\n",
       "       '1997', '1989', '1975', '1995', '1984', '1998', '1966', '1990',\n",
       "       '2002', '1976', '1978', '2022', '1982', '1968', '2004', '1996',\n",
       "       '1971', '1980', '1962', '1991', '1960', '1988', '1969', '1961',\n",
       "       '1979', '1956', '1983', nan, '1986', '1967', '1974', '1992',\n",
       "       '1958', '1932', '1941', '1950', '1946', '1981', '1952', '1957',\n",
       "       '1954', '1955', '1948', '1947', '1977', '2023', '1945', '1953',\n",
       "       '1985', '1973', '1972', '1965', '1944', '1933', '1938'],\n",
       "      dtype=object)"
      ]
     },
     "execution_count": 25,
     "metadata": {},
     "output_type": "execute_result"
    }
   ],
   "source": [
    "cleaned_missing_data_df['YEAR'] = cleaned_missing_data_df['YEAR'].str.extract(r'(\\d{4})')\n",
    "cleaned_missing_data_df['YEAR'].unique()"
   ]
  },
  {
   "cell_type": "markdown",
   "metadata": {},
   "source": [
    "Convert them to numerical data"
   ]
  },
  {
   "cell_type": "code",
   "execution_count": 26,
   "metadata": {},
   "outputs": [
    {
     "data": {
      "text/plain": [
       "dtype('float64')"
      ]
     },
     "execution_count": 26,
     "metadata": {},
     "output_type": "execute_result"
    }
   ],
   "source": [
    "cleaned_missing_data_df['YEAR'] = pd.to_numeric(cleaned_missing_data_df['YEAR'], errors='coerce')\n",
    "cleaned_missing_data_df['YEAR'].dtype"
   ]
  },
  {
   "cell_type": "code",
   "execution_count": 27,
   "metadata": {},
   "outputs": [
    {
     "data": {
      "text/plain": [
       "0    2021.0\n",
       "1    2021.0\n",
       "2    2010.0\n",
       "Name: YEAR, dtype: float64"
      ]
     },
     "execution_count": 27,
     "metadata": {},
     "output_type": "execute_result"
    }
   ],
   "source": [
    "cleaned_missing_data_df['YEAR'].head(3)"
   ]
  },
  {
   "cell_type": "markdown",
   "metadata": {},
   "source": [
    "We will return to filling missing values once we have cleaned all possible columns to ensure the most accurate correlation."
   ]
  },
  {
   "cell_type": "markdown",
   "metadata": {},
   "source": [
    "### VOTES"
   ]
  },
  {
   "cell_type": "code",
   "execution_count": 28,
   "metadata": {},
   "outputs": [
    {
     "data": {
      "text/plain": [
       "array(['21,062', '17,870', '885,805', ..., '5,868', '6,873', '911'],\n",
       "      dtype=object)"
      ]
     },
     "execution_count": 28,
     "metadata": {},
     "output_type": "execute_result"
    }
   ],
   "source": [
    "cleaned_missing_data_df['VOTES'].unique()"
   ]
  },
  {
   "cell_type": "markdown",
   "metadata": {},
   "source": [
    "Convert them to numerical data"
   ]
  },
  {
   "cell_type": "code",
   "execution_count": 29,
   "metadata": {},
   "outputs": [
    {
     "data": {
      "text/plain": [
       "dtype('float64')"
      ]
     },
     "execution_count": 29,
     "metadata": {},
     "output_type": "execute_result"
    }
   ],
   "source": [
    "cleaned_missing_data_df['VOTES'] = cleaned_missing_data_df['VOTES'].str.replace(',', '').astype('float')\n",
    "\n",
    "cleaned_missing_data_df['VOTES'].dtype"
   ]
  },
  {
   "cell_type": "code",
   "execution_count": 30,
   "metadata": {},
   "outputs": [
    {
     "data": {
      "text/plain": [
       "0        21062.0\n",
       "1        17870.0\n",
       "2       885805.0\n",
       "3       414849.0\n",
       "4            NaN\n",
       "          ...   \n",
       "9993         NaN\n",
       "9995         NaN\n",
       "9996         NaN\n",
       "9997         NaN\n",
       "9998         NaN\n",
       "Name: VOTES, Length: 9568, dtype: float64"
      ]
     },
     "execution_count": 30,
     "metadata": {},
     "output_type": "execute_result"
    }
   ],
   "source": [
    "cleaned_missing_data_df['VOTES']"
   ]
  },
  {
   "cell_type": "code",
   "execution_count": 31,
   "metadata": {},
   "outputs": [
    {
     "name": "stdout",
     "output_type": "stream",
     "text": [
      "             YEAR    RATING     VOTES   RunTime\n",
      "YEAR     1.000000 -0.028677 -0.179254 -0.051651\n",
      "RATING  -0.028677  1.000000  0.103792 -0.223826\n",
      "VOTES   -0.179254  0.103792  1.000000  0.143464\n",
      "RunTime -0.051651 -0.223826  0.143464  1.000000\n"
     ]
    }
   ],
   "source": [
    "correlation(cleaned_missing_data_df)"
   ]
  },
  {
   "cell_type": "markdown",
   "metadata": {},
   "source": [
    "Since none of the variables exhibit a strong correlation, traditional machine learning-based imputation techniques, such as regression models, are not ideal. Instead, we explored alternative approaches."
   ]
  },
  {
   "cell_type": "code",
   "execution_count": 32,
   "metadata": {},
   "outputs": [
    {
     "name": "stdout",
     "output_type": "stream",
     "text": [
      "Gross       95.19\n",
      "RunTime     26.76\n",
      "RATING      14.63\n",
      "VOTES       14.63\n",
      "YEAR         6.64\n",
      "MOVIES       0.00\n",
      "GENRE        0.00\n",
      "ONE-LINE     0.00\n",
      "STARS        0.00\n",
      "dtype: float64\n"
     ]
    }
   ],
   "source": [
    "percentage_missing_values(cleaned_missing_data_df)"
   ]
  },
  {
   "cell_type": "markdown",
   "metadata": {},
   "source": [
    "### YEAR"
   ]
  },
  {
   "cell_type": "code",
   "execution_count": 33,
   "metadata": {},
   "outputs": [
    {
     "data": {
      "text/plain": [
       "array([2021., 2010., 2013., 2020., 2006., 2019., 2016., 2011., 2005.,\n",
       "       2008., 2017., 1994., 2014., 2015., 2003., 2009., 2018., 1987.,\n",
       "       2012., 2007., 2000., 1993., 1999., 2001., 1997., 1989., 1975.,\n",
       "       1995., 1984., 1998., 1966., 1990., 2002., 1976., 1978., 2022.,\n",
       "       1982., 1968., 2004., 1996., 1971., 1980., 1962., 1991., 1960.,\n",
       "       1988., 1969., 1961., 1979., 1956., 1983.,   nan, 1986., 1967.,\n",
       "       1974., 1992., 1958., 1932., 1941., 1950., 1946., 1981., 1952.,\n",
       "       1957., 1954., 1955., 1948., 1947., 1977., 2023., 1945., 1953.,\n",
       "       1985., 1973., 1972., 1965., 1944., 1933., 1938.])"
      ]
     },
     "execution_count": 33,
     "metadata": {},
     "output_type": "execute_result"
    }
   ],
   "source": [
    "cleaned_missing_data_df['YEAR'].unique()"
   ]
  },
  {
   "cell_type": "code",
   "execution_count": 34,
   "metadata": {},
   "outputs": [
    {
     "data": {
      "image/png": "[encoded data removed]",
      "text/plain": [
       "<Figure size 640x480 with 1 Axes>"
      ]
     },
     "metadata": {},
     "output_type": "display_data"
    }
   ],
   "source": [
    "sns.boxplot(x=cleaned_missing_data_df['YEAR'])\n",
    "plt.show()"
   ]
  },
  {
   "cell_type": "code",
   "execution_count": 35,
   "metadata": {},
   "outputs": [],
   "source": [
    "def detect_outliers_single_feature(data_frame: pd.DataFrame, column: str) -> list:\n",
    "    Q1 = np.percentile(data_frame[column].dropna(), 25)  # Drop NaNs to avoid errors\n",
    "    Q3 = np.percentile(data_frame[column].dropna(), 75)\n",
    "    IQR = Q3 - Q1\n",
    "\n",
    "    # Define outlier thresholds\n",
    "    lower_bound = Q1 - 1.5 * IQR\n",
    "    upper_bound = Q3 + 1.5 * IQR\n",
    "\n",
    "    # Find outlier indices\n",
    "    outliers = data_frame[(data_frame[column] < lower_bound) | (data_frame[column] > upper_bound)].index.tolist()\n",
    "\n",
    "    return outliers"
   ]
  },
  {
   "cell_type": "code",
   "execution_count": 36,
   "metadata": {},
   "outputs": [],
   "source": [
    "year_outliers = detect_outliers_single_feature(cleaned_missing_data_df, 'YEAR')"
   ]
  },
  {
   "cell_type": "code",
   "execution_count": 37,
   "metadata": {},
   "outputs": [
    {
     "data": {
      "text/plain": [
       "706"
      ]
     },
     "execution_count": 37,
     "metadata": {},
     "output_type": "execute_result"
    }
   ],
   "source": [
    "len(year_outliers)"
   ]
  },
  {
   "cell_type": "markdown",
   "metadata": {},
   "source": [
    "Since we have detected 706 outliers in the Year column, and some values may be unrealistic (e.g., very old or future years), we will use the Median Year to fill missing values. The median is a better choice than the mean because it is less affected by extreme outliers."
   ]
  },
  {
   "cell_type": "code",
   "execution_count": 38,
   "metadata": {},
   "outputs": [],
   "source": [
    "cleaned_missing_data_df['YEAR'] = cleaned_missing_data_df['YEAR'].fillna(cleaned_missing_data_df['YEAR'].median())"
   ]
  },
  {
   "cell_type": "code",
   "execution_count": 39,
   "metadata": {},
   "outputs": [
    {
     "data": {
      "text/plain": [
       "array([2021., 2010., 2013., 2020., 2006., 2019., 2016., 2011., 2005.,\n",
       "       2008., 2017., 1994., 2014., 2015., 2003., 2009., 2018., 1987.,\n",
       "       2012., 2007., 2000., 1993., 1999., 2001., 1997., 1989., 1975.,\n",
       "       1995., 1984., 1998., 1966., 1990., 2002., 1976., 1978., 2022.,\n",
       "       1982., 1968., 2004., 1996., 1971., 1980., 1962., 1991., 1960.,\n",
       "       1988., 1969., 1961., 1979., 1956., 1983., 1986., 1967., 1974.,\n",
       "       1992., 1958., 1932., 1941., 1950., 1946., 1981., 1952., 1957.,\n",
       "       1954., 1955., 1948., 1947., 1977., 2023., 1945., 1953., 1985.,\n",
       "       1973., 1972., 1965., 1944., 1933., 1938.])"
      ]
     },
     "execution_count": 39,
     "metadata": {},
     "output_type": "execute_result"
    }
   ],
   "source": [
    "cleaned_missing_data_df['YEAR'].unique()"
   ]
  },
  {
   "cell_type": "code",
   "execution_count": 40,
   "metadata": {},
   "outputs": [
    {
     "data": {
      "text/plain": [
       "dtype('float64')"
      ]
     },
     "execution_count": 40,
     "metadata": {},
     "output_type": "execute_result"
    }
   ],
   "source": [
    "cleaned_missing_data_df['YEAR'].dtype"
   ]
  },
  {
   "cell_type": "code",
   "execution_count": 41,
   "metadata": {},
   "outputs": [],
   "source": [
    "cleaned_missing_data_df['YEAR'] = cleaned_missing_data_df['YEAR'].astype(int)"
   ]
  },
  {
   "cell_type": "code",
   "execution_count": 42,
   "metadata": {},
   "outputs": [
    {
     "data": {
      "text/plain": [
       "0       2021\n",
       "1       2021\n",
       "2       2010\n",
       "3       2013\n",
       "4       2021\n",
       "        ... \n",
       "9993    2022\n",
       "9995    2021\n",
       "9996    2022\n",
       "9997    2021\n",
       "9998    2021\n",
       "Name: YEAR, Length: 9568, dtype: int32"
      ]
     },
     "execution_count": 42,
     "metadata": {},
     "output_type": "execute_result"
    }
   ],
   "source": [
    "cleaned_missing_data_df['YEAR']"
   ]
  },
  {
   "cell_type": "code",
   "execution_count": 43,
   "metadata": {},
   "outputs": [
    {
     "name": "stdout",
     "output_type": "stream",
     "text": [
      "Gross       95.19\n",
      "RunTime     26.76\n",
      "RATING      14.63\n",
      "VOTES       14.63\n",
      "MOVIES       0.00\n",
      "YEAR         0.00\n",
      "GENRE        0.00\n",
      "ONE-LINE     0.00\n",
      "STARS        0.00\n",
      "dtype: float64\n"
     ]
    }
   ],
   "source": [
    "percentage_missing_values(cleaned_missing_data_df)"
   ]
  },
  {
   "cell_type": "markdown",
   "metadata": {},
   "source": [
    "### VOTES"
   ]
  },
  {
   "cell_type": "code",
   "execution_count": 44,
   "metadata": {},
   "outputs": [
    {
     "data": {
      "text/plain": [
       "array([ 21062.,  17870., 885805., ...,   5868.,   6873.,    911.])"
      ]
     },
     "execution_count": 44,
     "metadata": {},
     "output_type": "execute_result"
    }
   ],
   "source": [
    "cleaned_missing_data_df['VOTES'].unique()"
   ]
  },
  {
   "cell_type": "code",
   "execution_count": 45,
   "metadata": {},
   "outputs": [
    {
     "data": {
      "image/png": "[encoded data removed]",
      "text/plain": [
       "<Figure size 640x480 with 1 Axes>"
      ]
     },
     "metadata": {},
     "output_type": "display_data"
    }
   ],
   "source": [
    "sns.boxplot(x=cleaned_missing_data_df['VOTES'])\n",
    "plt.show()"
   ]
  },
  {
   "cell_type": "code",
   "execution_count": 46,
   "metadata": {},
   "outputs": [],
   "source": [
    "votes_outliers = detect_outliers_single_feature(cleaned_missing_data_df, 'VOTES')"
   ]
  },
  {
   "cell_type": "code",
   "execution_count": 47,
   "metadata": {},
   "outputs": [
    {
     "data": {
      "text/plain": [
       "1298"
      ]
     },
     "execution_count": 47,
     "metadata": {},
     "output_type": "execute_result"
    }
   ],
   "source": [
    "len(votes_outliers)"
   ]
  },
  {
   "cell_type": "markdown",
   "metadata": {},
   "source": [
    "The VOTES column in our dataset represents the number of votes a movie has received. During data preprocessing, we identified:\n",
    "\n",
    "* 1000+ outliers, indicating extreme variations in vote counts.\n",
    "\n",
    "Since the VOTES column contains extreme values, we used the Median Imputation method instead of the mean."
   ]
  },
  {
   "cell_type": "code",
   "execution_count": 48,
   "metadata": {},
   "outputs": [],
   "source": [
    "cleaned_missing_data_df['VOTES'] = cleaned_missing_data_df['VOTES'].fillna(cleaned_missing_data_df['VOTES'].median())"
   ]
  },
  {
   "cell_type": "code",
   "execution_count": 49,
   "metadata": {},
   "outputs": [
    {
     "data": {
      "text/plain": [
       "0"
      ]
     },
     "execution_count": 49,
     "metadata": {},
     "output_type": "execute_result"
    }
   ],
   "source": [
    "cleaned_missing_data_df['VOTES'].isna().sum()"
   ]
  },
  {
   "cell_type": "code",
   "execution_count": 50,
   "metadata": {},
   "outputs": [
    {
     "data": {
      "text/plain": [
       "array([ 21062.,  17870., 885805., ...,   5868.,   6873.,    911.])"
      ]
     },
     "execution_count": 50,
     "metadata": {},
     "output_type": "execute_result"
    }
   ],
   "source": [
    "cleaned_missing_data_df['VOTES'].unique()"
   ]
  },
  {
   "cell_type": "code",
   "execution_count": 51,
   "metadata": {},
   "outputs": [
    {
     "data": {
      "text/plain": [
       "0        21062\n",
       "1        17870\n",
       "2       885805\n",
       "3       414849\n",
       "4          792\n",
       "         ...  \n",
       "9993       792\n",
       "9995       792\n",
       "9996       792\n",
       "9997       792\n",
       "9998       792\n",
       "Name: VOTES, Length: 9568, dtype: int32"
      ]
     },
     "execution_count": 51,
     "metadata": {},
     "output_type": "execute_result"
    }
   ],
   "source": [
    "cleaned_missing_data_df['VOTES'] = cleaned_missing_data_df['VOTES'].astype(int)\n",
    "cleaned_missing_data_df['VOTES']"
   ]
  },
  {
   "cell_type": "code",
   "execution_count": 52,
   "metadata": {},
   "outputs": [
    {
     "name": "stdout",
     "output_type": "stream",
     "text": [
      "Gross       95.19\n",
      "RunTime     26.76\n",
      "RATING      14.63\n",
      "MOVIES       0.00\n",
      "YEAR         0.00\n",
      "GENRE        0.00\n",
      "ONE-LINE     0.00\n",
      "STARS        0.00\n",
      "VOTES        0.00\n",
      "dtype: float64\n"
     ]
    }
   ],
   "source": [
    "percentage_missing_values(cleaned_missing_data_df)"
   ]
  },
  {
   "cell_type": "markdown",
   "metadata": {},
   "source": [
    "### RATING"
   ]
  },
  {
   "cell_type": "code",
   "execution_count": 53,
   "metadata": {},
   "outputs": [
    {
     "data": {
      "text/plain": [
       "array([6.1, 5. , 8.2, 9.2, nan, 7.6, 6.8, 8.6, 7.9, 7.4, 6. , 8.1, 6.2,\n",
       "       5.4, 8. , 7.5, 9.4, 8.3, 8.7, 8.9, 8.8, 8.5, 8.4, 6.7, 7.7, 9. ,\n",
       "       5.8, 3.3, 7.8, 5.7, 6.6, 6.9, 6.5, 7.1, 5.6, 7.3, 9.1, 7.2, 6.4,\n",
       "       9.3, 7. , 6.3, 3.7, 5.5, 4.6, 4.8, 5.3, 4.7, 5.9, 5.1, 4.9, 2.7,\n",
       "       4.4, 3.1, 4.5, 4.2, 3.8, 5.2, 2.8, 3.5, 4.3, 3.2, 1.1, 3.9, 4. ,\n",
       "       3.4, 2.6, 3.6, 3. , 2.5, 2.2, 2.9, 4.1, 2.1, 2. , 2.3, 2.4, 1.8,\n",
       "       9.6, 9.5, 9.7, 9.9, 9.8])"
      ]
     },
     "execution_count": 53,
     "metadata": {},
     "output_type": "execute_result"
    }
   ],
   "source": [
    "cleaned_missing_data_df['RATING'].unique()"
   ]
  },
  {
   "cell_type": "code",
   "execution_count": 54,
   "metadata": {},
   "outputs": [
    {
     "data": {
      "text/plain": [
       "dtype('float64')"
      ]
     },
     "execution_count": 54,
     "metadata": {},
     "output_type": "execute_result"
    }
   ],
   "source": [
    "cleaned_missing_data_df['RATING'].dtype"
   ]
  },
  {
   "cell_type": "code",
   "execution_count": 55,
   "metadata": {},
   "outputs": [
    {
     "data": {
      "image/png": "[encoded data removed]",
      "text/plain": [
       "<Figure size 640x480 with 1 Axes>"
      ]
     },
     "metadata": {},
     "output_type": "display_data"
    }
   ],
   "source": [
    "sns.boxplot(x=cleaned_missing_data_df['RATING'])\n",
    "plt.show()"
   ]
  },
  {
   "cell_type": "code",
   "execution_count": 56,
   "metadata": {},
   "outputs": [],
   "source": [
    "rating_outliers = detect_outliers_single_feature(cleaned_missing_data_df, 'RATING')"
   ]
  },
  {
   "cell_type": "code",
   "execution_count": 57,
   "metadata": {},
   "outputs": [
    {
     "data": {
      "text/plain": [
       "165"
      ]
     },
     "execution_count": 57,
     "metadata": {},
     "output_type": "execute_result"
    }
   ],
   "source": [
    "len(rating_outliers)"
   ]
  },
  {
   "cell_type": "markdown",
   "metadata": {},
   "source": [
    "We will use the median again since we have outliers once more."
   ]
  },
  {
   "cell_type": "code",
   "execution_count": 58,
   "metadata": {},
   "outputs": [],
   "source": [
    "cleaned_missing_data_df['RATING'] = cleaned_missing_data_df['RATING'].fillna(cleaned_missing_data_df['RATING'].median())"
   ]
  },
  {
   "cell_type": "code",
   "execution_count": 59,
   "metadata": {},
   "outputs": [
    {
     "data": {
      "text/plain": [
       "array([6.1, 5. , 8.2, 9.2, 7.1, 7.6, 6.8, 8.6, 7.9, 7.4, 6. , 8.1, 6.2,\n",
       "       5.4, 8. , 7.5, 9.4, 8.3, 8.7, 8.9, 8.8, 8.5, 8.4, 6.7, 7.7, 9. ,\n",
       "       5.8, 3.3, 7.8, 5.7, 6.6, 6.9, 6.5, 5.6, 7.3, 9.1, 7.2, 6.4, 9.3,\n",
       "       7. , 6.3, 3.7, 5.5, 4.6, 4.8, 5.3, 4.7, 5.9, 5.1, 4.9, 2.7, 4.4,\n",
       "       3.1, 4.5, 4.2, 3.8, 5.2, 2.8, 3.5, 4.3, 3.2, 1.1, 3.9, 4. , 3.4,\n",
       "       2.6, 3.6, 3. , 2.5, 2.2, 2.9, 4.1, 2.1, 2. , 2.3, 2.4, 1.8, 9.6,\n",
       "       9.5, 9.7, 9.9, 9.8])"
      ]
     },
     "execution_count": 59,
     "metadata": {},
     "output_type": "execute_result"
    }
   ],
   "source": [
    "cleaned_missing_data_df['RATING'].unique()"
   ]
  },
  {
   "cell_type": "code",
   "execution_count": 60,
   "metadata": {},
   "outputs": [
    {
     "data": {
      "text/plain": [
       "dtype('float64')"
      ]
     },
     "execution_count": 60,
     "metadata": {},
     "output_type": "execute_result"
    }
   ],
   "source": [
    "cleaned_missing_data_df['RATING'].dtype"
   ]
  },
  {
   "cell_type": "code",
   "execution_count": 61,
   "metadata": {},
   "outputs": [
    {
     "name": "stdout",
     "output_type": "stream",
     "text": [
      "Gross       95.19\n",
      "RunTime     26.76\n",
      "MOVIES       0.00\n",
      "YEAR         0.00\n",
      "GENRE        0.00\n",
      "RATING       0.00\n",
      "ONE-LINE     0.00\n",
      "STARS        0.00\n",
      "VOTES        0.00\n",
      "dtype: float64\n"
     ]
    }
   ],
   "source": [
    "percentage_missing_values(cleaned_missing_data_df)"
   ]
  },
  {
   "cell_type": "markdown",
   "metadata": {},
   "source": [
    "### RunTime"
   ]
  },
  {
   "cell_type": "code",
   "execution_count": 62,
   "metadata": {},
   "outputs": [
    {
     "data": {
      "text/plain": [
       "array([121.,  25.,  44.,  23.,  nan,  50., 110.,  53.,  30., 114.,  42.,\n",
       "       107.,  60.,  41.,  49.,  51., 109.,  22.,  43., 136.,  46.,  45.,\n",
       "        58.,  24.,  70.,  64., 148., 395., 101.,  95.,  32., 118.,  47.,\n",
       "        31., 104., 127.,  54.,  92.,  88.,  59.,  55., 178.,  16.,  48.,\n",
       "        99., 124., 151., 100.,  40., 149., 119.,  20.,  87., 111.,  91.,\n",
       "       117., 135., 129., 113.,  15.,  85., 169.,  97., 116., 138., 137.,\n",
       "       209., 201., 123.,  96., 572., 467., 140.,  56., 112., 125., 145.,\n",
       "       128., 147.,  90.,  98.,  26., 115., 156., 179., 108.,  34.,  11.,\n",
       "       152.,  94., 133., 298.,  28., 126., 102., 106., 385., 122., 452.,\n",
       "       120., 494., 240., 134.,  80.,  89.,  35., 216., 296., 143., 164.,\n",
       "       386., 363., 150., 105., 131.,  65., 103.,  86.,  52., 356., 154.,\n",
       "       130., 491., 132.,  93.,  82., 370.,  18., 228.,  84., 280.,  78.,\n",
       "       316., 264.,  83.,  81., 270., 197., 347., 267.,  37., 230., 233.,\n",
       "        21., 220., 331.,  39.,   9., 281.,  10., 557.,  33., 461., 460.,\n",
       "        27., 231., 189., 360., 498., 187.,  75., 629., 144., 542., 258.,\n",
       "       239., 312., 158., 229., 403.,  57., 142., 313., 306., 358., 139.,\n",
       "       300., 436., 374., 203., 160.,  29., 192., 191.,  62., 219.,  77.,\n",
       "        73.,  79.,  36., 236., 204., 210.,  13., 227., 163., 195.,   7.,\n",
       "       242.,  72., 284., 271., 853.,  76.,  38., 241., 162., 202., 253.,\n",
       "        74., 333.,  68., 288., 252.,  63.,   3., 351., 217., 337., 170.,\n",
       "        71., 180., 355., 172., 174.,   8., 573.,  17.,  61.,   5., 437.,\n",
       "       330., 290., 173., 249., 188.,   1., 303., 211., 205.,  69.,  67.,\n",
       "       157.,  66., 175., 161.,  14.,  12., 153., 155., 181., 418., 245.,\n",
       "         4.,  19., 171.,   6.,   2., 373., 141., 146., 165.])"
      ]
     },
     "execution_count": 62,
     "metadata": {},
     "output_type": "execute_result"
    }
   ],
   "source": [
    "cleaned_missing_data_df['RunTime'].unique()"
   ]
  },
  {
   "cell_type": "code",
   "execution_count": 63,
   "metadata": {},
   "outputs": [
    {
     "data": {
      "text/plain": [
       "dtype('float64')"
      ]
     },
     "execution_count": 63,
     "metadata": {},
     "output_type": "execute_result"
    }
   ],
   "source": [
    "cleaned_missing_data_df['RunTime'].dtype"
   ]
  },
  {
   "cell_type": "code",
   "execution_count": 64,
   "metadata": {},
   "outputs": [
    {
     "data": {
      "image/png": "[encoded data removed]",
      "text/plain": [
       "<Figure size 640x480 with 1 Axes>"
      ]
     },
     "metadata": {},
     "output_type": "display_data"
    }
   ],
   "source": [
    "sns.boxplot(x=cleaned_missing_data_df['RunTime'])\n",
    "plt.show()"
   ]
  },
  {
   "cell_type": "code",
   "execution_count": 65,
   "metadata": {},
   "outputs": [],
   "source": [
    "runtime_outliers = detect_outliers_single_feature(cleaned_missing_data_df, 'RunTime')"
   ]
  },
  {
   "cell_type": "code",
   "execution_count": 66,
   "metadata": {},
   "outputs": [
    {
     "data": {
      "text/plain": [
       "105"
      ]
     },
     "execution_count": 66,
     "metadata": {},
     "output_type": "execute_result"
    }
   ],
   "source": [
    "len(runtime_outliers)"
   ]
  },
  {
   "cell_type": "markdown",
   "metadata": {},
   "source": [
    "We will use the median again since we have outliers once more."
   ]
  },
  {
   "cell_type": "code",
   "execution_count": 67,
   "metadata": {},
   "outputs": [],
   "source": [
    "cleaned_missing_data_df['RunTime'] = cleaned_missing_data_df['RunTime'].fillna(cleaned_missing_data_df['RunTime'].median())"
   ]
  },
  {
   "cell_type": "code",
   "execution_count": 68,
   "metadata": {},
   "outputs": [
    {
     "data": {
      "text/plain": [
       "array([121.,  25.,  44.,  23.,  60.,  50., 110.,  53.,  30., 114.,  42.,\n",
       "       107.,  41.,  49.,  51., 109.,  22.,  43., 136.,  46.,  45.,  58.,\n",
       "        24.,  70.,  64., 148., 395., 101.,  95.,  32., 118.,  47.,  31.,\n",
       "       104., 127.,  54.,  92.,  88.,  59.,  55., 178.,  16.,  48.,  99.,\n",
       "       124., 151., 100.,  40., 149., 119.,  20.,  87., 111.,  91., 117.,\n",
       "       135., 129., 113.,  15.,  85., 169.,  97., 116., 138., 137., 209.,\n",
       "       201., 123.,  96., 572., 467., 140.,  56., 112., 125., 145., 128.,\n",
       "       147.,  90.,  98.,  26., 115., 156., 179., 108.,  34.,  11., 152.,\n",
       "        94., 133., 298.,  28., 126., 102., 106., 385., 122., 452., 120.,\n",
       "       494., 240., 134.,  80.,  89.,  35., 216., 296., 143., 164., 386.,\n",
       "       363., 150., 105., 131.,  65., 103.,  86.,  52., 356., 154., 130.,\n",
       "       491., 132.,  93.,  82., 370.,  18., 228.,  84., 280.,  78., 316.,\n",
       "       264.,  83.,  81., 270., 197., 347., 267.,  37., 230., 233.,  21.,\n",
       "       220., 331.,  39.,   9., 281.,  10., 557.,  33., 461., 460.,  27.,\n",
       "       231., 189., 360., 498., 187.,  75., 629., 144., 542., 258., 239.,\n",
       "       312., 158., 229., 403.,  57., 142., 313., 306., 358., 139., 300.,\n",
       "       436., 374., 203., 160.,  29., 192., 191.,  62., 219.,  77.,  73.,\n",
       "        79.,  36., 236., 204., 210.,  13., 227., 163., 195.,   7., 242.,\n",
       "        72., 284., 271., 853.,  76.,  38., 241., 162., 202., 253.,  74.,\n",
       "       333.,  68., 288., 252.,  63.,   3., 351., 217., 337., 170.,  71.,\n",
       "       180., 355., 172., 174.,   8., 573.,  17.,  61.,   5., 437., 330.,\n",
       "       290., 173., 249., 188.,   1., 303., 211., 205.,  69.,  67., 157.,\n",
       "        66., 175., 161.,  14.,  12., 153., 155., 181., 418., 245.,   4.,\n",
       "        19., 171.,   6.,   2., 373., 141., 146., 165.])"
      ]
     },
     "execution_count": 68,
     "metadata": {},
     "output_type": "execute_result"
    }
   ],
   "source": [
    "cleaned_missing_data_df['RunTime'].unique()"
   ]
  },
  {
   "cell_type": "code",
   "execution_count": 69,
   "metadata": {},
   "outputs": [],
   "source": [
    "cleaned_missing_data_df['RunTime'] = cleaned_missing_data_df['RunTime'].astype(int)"
   ]
  },
  {
   "cell_type": "code",
   "execution_count": 70,
   "metadata": {},
   "outputs": [
    {
     "data": {
      "text/plain": [
       "array([121,  25,  44,  23,  60,  50, 110,  53,  30, 114,  42, 107,  41,\n",
       "        49,  51, 109,  22,  43, 136,  46,  45,  58,  24,  70,  64, 148,\n",
       "       395, 101,  95,  32, 118,  47,  31, 104, 127,  54,  92,  88,  59,\n",
       "        55, 178,  16,  48,  99, 124, 151, 100,  40, 149, 119,  20,  87,\n",
       "       111,  91, 117, 135, 129, 113,  15,  85, 169,  97, 116, 138, 137,\n",
       "       209, 201, 123,  96, 572, 467, 140,  56, 112, 125, 145, 128, 147,\n",
       "        90,  98,  26, 115, 156, 179, 108,  34,  11, 152,  94, 133, 298,\n",
       "        28, 126, 102, 106, 385, 122, 452, 120, 494, 240, 134,  80,  89,\n",
       "        35, 216, 296, 143, 164, 386, 363, 150, 105, 131,  65, 103,  86,\n",
       "        52, 356, 154, 130, 491, 132,  93,  82, 370,  18, 228,  84, 280,\n",
       "        78, 316, 264,  83,  81, 270, 197, 347, 267,  37, 230, 233,  21,\n",
       "       220, 331,  39,   9, 281,  10, 557,  33, 461, 460,  27, 231, 189,\n",
       "       360, 498, 187,  75, 629, 144, 542, 258, 239, 312, 158, 229, 403,\n",
       "        57, 142, 313, 306, 358, 139, 300, 436, 374, 203, 160,  29, 192,\n",
       "       191,  62, 219,  77,  73,  79,  36, 236, 204, 210,  13, 227, 163,\n",
       "       195,   7, 242,  72, 284, 271, 853,  76,  38, 241, 162, 202, 253,\n",
       "        74, 333,  68, 288, 252,  63,   3, 351, 217, 337, 170,  71, 180,\n",
       "       355, 172, 174,   8, 573,  17,  61,   5, 437, 330, 290, 173, 249,\n",
       "       188,   1, 303, 211, 205,  69,  67, 157,  66, 175, 161,  14,  12,\n",
       "       153, 155, 181, 418, 245,   4,  19, 171,   6,   2, 373, 141, 146,\n",
       "       165])"
      ]
     },
     "execution_count": 70,
     "metadata": {},
     "output_type": "execute_result"
    }
   ],
   "source": [
    "cleaned_missing_data_df['RunTime'].unique()"
   ]
  },
  {
   "cell_type": "code",
   "execution_count": 71,
   "metadata": {},
   "outputs": [
    {
     "data": {
      "text/plain": [
       "dtype('int32')"
      ]
     },
     "execution_count": 71,
     "metadata": {},
     "output_type": "execute_result"
    }
   ],
   "source": [
    "cleaned_missing_data_df['RunTime'].dtype"
   ]
  },
  {
   "cell_type": "code",
   "execution_count": 72,
   "metadata": {},
   "outputs": [
    {
     "name": "stdout",
     "output_type": "stream",
     "text": [
      "Gross       95.19\n",
      "MOVIES       0.00\n",
      "YEAR         0.00\n",
      "GENRE        0.00\n",
      "RATING       0.00\n",
      "ONE-LINE     0.00\n",
      "STARS        0.00\n",
      "VOTES        0.00\n",
      "RunTime      0.00\n",
      "dtype: float64\n"
     ]
    }
   ],
   "source": [
    "percentage_missing_values(cleaned_missing_data_df)"
   ]
  },
  {
   "cell_type": "markdown",
   "metadata": {},
   "source": [
    "### Gross"
   ]
  },
  {
   "cell_type": "code",
   "execution_count": 73,
   "metadata": {},
   "outputs": [
    {
     "data": {
      "text/plain": [
       "array([nan, '$75.47M', '$402.45M', '$89.22M', '$315.54M', '$57.01M',\n",
       "       '$260.00M', '$132.38M', '$167.77M', '$404.52M', '$15.07M',\n",
       "       '$70.10M', '$210.61M', '$327.48M', '$390.53M', '$303.00M',\n",
       "       '$56.63M', '$58.06M', '$353.01M', '$46.89M', '$7.00M', '$377.85M',\n",
       "       '$107.83M', '$403.71M', '$316.83M', '$100.55M', '$28.26M',\n",
       "       '$188.76M', '$213.52M', '$226.01M', '$408.08M', '$10.06M',\n",
       "       '$14.84M', '$168.05M', '$183.64M', '$342.55M', '$96.52M',\n",
       "       '$140.22M', '$172.56M', '$56.95M', '$330.36M', '$17.80M', '$0.20M',\n",
       "       '$56.82M', '$66.21M', '$75.61M', '$4.56M', '$106.58M', '$5.02M',\n",
       "       '$22.68M', '$102.92M', '$110.52M', '$504.01M', '$26.86M', '$2.00M',\n",
       "       '$32.73M', '$33.80M', '$400.74M', '$19.02M', '$36.26M', '$6.67M',\n",
       "       '$45.51M', '$75.66M', '$0.33M', '$4.00M', '$20.16M', '$95.86M',\n",
       "       '$176.48M', '$126.66M', '$80.10M', '$42.34M', '$0.04M', '$4.71M',\n",
       "       '$117.72M', '$229.09M', '$33.70M', '$97.69M', '$21.15M', '$27.85M',\n",
       "       '$25.02M', '$100.92M', '$0.80M', '$31.15M', '$143.53M', '$61.74M',\n",
       "       '$33.40M', '$24.45M', '$125.10M', '$12.79M', '$2.38M', '$136.19M',\n",
       "       '$101.03M', '$187.17M', '$158.35M', '$0.01M', '$34.02M', '$57.23M',\n",
       "       '$63.69M', '$5.20M', '$1.23M', '$10.21M', '$51.69M', '$123.48M',\n",
       "       '$60.46M', '$112.72M', '$73.10M', '$0.18M', '$152.90M', '$52.42M',\n",
       "       '$77.22M', '$54.76M', '$21.36M', '$44.82M', '$37.77M', '$218.97M',\n",
       "       '$486.30M', '$97.10M', '$18.34M', '$181.17M', '$0.10M', '$58.88M',\n",
       "       '$80.04M', '$38.32M', '$29.21M', '$11.11M', '$65.08M', '$67.63M',\n",
       "       '$89.30M', '$61.43M', '$59.65M', '$3.22M', '$81.90M', '$30.00M',\n",
       "       '$1.11M', '$18.64M', '$148.73M', '$156.65M', '$103.37M', '$35.66M',\n",
       "       '$8.55M', '$167.51M', '$12.63M', '$41.73M', '$41.23M', '$145.79M',\n",
       "       '$17.61M', '$1.36M', '$51.44M', '$25.13M', '$20.05M', '$36.67M',\n",
       "       '$26.83M', '$35.59M', '$15.50M', '$18.47M', '$58.01M', '$78.75M',\n",
       "       '$93.74M', '$10.38M', '$10.51M', '$368.06M', '$234.91M', '$18.60M',\n",
       "       '$89.26M', '$11.33M', '$101.20M', '$57.74M', '$24.15M', '$33.41M',\n",
       "       '$85.02M', '$21.30M', '$4.36M', '$16.17M', '$0.23M', '$94.90M',\n",
       "       '$0.03M', '$40.44M', '$15.09M', '$21.22M', '$32.02M', '$0.02M',\n",
       "       '$47.06M', '$214.03M', '$77.04M', '$15.43M', '$28.21M', '$0.50M',\n",
       "       '$12.05M', '$2.06M', '$44.14M', '$35.09M', '$1.94M', '$27.67M',\n",
       "       '$79.37M', '$39.18M', '$139.85M', '$88.92M', '$30.58M', '$0.12M',\n",
       "       '$10.88M', '$65.33M', '$1.21M', '$54.77M', '$32.94M', '$5.78M',\n",
       "       '$17.14M', '$0.28M', '$42.87M', '$5.21M', '$4.40M', '$46.91M',\n",
       "       '$0.08M', '$48.79M', '$15.54M', '$44.43M', '$57.39M', '$0.19M',\n",
       "       '$19.70M', '$58.02M', '$66.53M', '$92.12M', '$64.94M', '$0.00M',\n",
       "       '$6.74M', '$0.15M', '$42.40M', '$19.20M', '$35.07M', '$119.79M',\n",
       "       '$27.15M', '$30.69M', '$2.24M', '$4.72M', '$90.29M', '$0.77M',\n",
       "       '$0.51M', '$2.01M', '$14.90M', '$6.17M', '$1.00M', '$31.85M',\n",
       "       '$37.66M', '$30.98M', '$13.75M', '$5.88M', '$37.71M', '$219.61M',\n",
       "       '$4.54M', '$7.15M', '$15.01M', '$0.14M', '$1.51M', '$1.60M',\n",
       "       '$1.34M', '$0.70M', '$26.18M', '$1.16M', '$5.70M', '$10.64M',\n",
       "       '$2.68M', '$0.45M', '$1.04M', '$7.92M', '$20.28M', '$0.05M',\n",
       "       '$8.06M', '$1.25M', '$45.02M', '$1.52M', '$28.35M', '$36.45M',\n",
       "       '$1.08M', '$1.33M', '$3.90M', '$6.12M', '$43.04M', '$0.44M',\n",
       "       '$16.85M', '$5.66M', '$0.81M', '$0.34M', '$4.70M', '$11.55M',\n",
       "       '$5.93M', '$11.37M', '$0.09M', '$3.09M', '$49.77M', '$19.99M',\n",
       "       '$12.41M', '$4.83M', '$0.31M', '$43.55M', '$2.47M', '$0.48M',\n",
       "       '$0.26M', '$6.11M', '$0.76M', '$0.06M', '$0.30M', '$0.16M',\n",
       "       '$0.83M', '$0.59M', '$16.00M', '$5.31M', '$11.96M', '$0.22M',\n",
       "       '$0.54M', '$0.27M', '$0.11M', '$1.54M', '$3.03M', '$0.29M',\n",
       "       '$1.01M', '$3.25M', '$0.41M', '$0.17M', '$0.62M', '$23.59M',\n",
       "       '$25.58M', '$0.13M', '$0.87M', '$1.02M', '$0.56M', '$1.12M',\n",
       "       '$0.85M', '$1.80M', '$0.21M', '$2.83M', '$32.24M', '$0.07M',\n",
       "       '$0.24M', '$10.40M'], dtype=object)"
      ]
     },
     "execution_count": 73,
     "metadata": {},
     "output_type": "execute_result"
    }
   ],
   "source": [
    "cleaned_missing_data_df['Gross'].unique()"
   ]
  },
  {
   "cell_type": "code",
   "execution_count": 74,
   "metadata": {},
   "outputs": [],
   "source": [
    "def transform_gross_column(value):\n",
    "    if pd.isna(value):\n",
    "        return np.nan\n",
    "    value = value.replace('$', '').replace(',', '')\n",
    "    if 'M' in value:\n",
    "        return float(value.replace('M', '')) * 1000000\n",
    "    elif 'K' in value:\n",
    "        return float(value.replace('K', '')) * 1000\n",
    "    return float(value)"
   ]
  },
  {
   "cell_type": "code",
   "execution_count": 75,
   "metadata": {},
   "outputs": [],
   "source": [
    "cleaned_missing_data_df['Gross'] = cleaned_missing_data_df['Gross'].apply(transform_gross_column)"
   ]
  },
  {
   "cell_type": "code",
   "execution_count": 76,
   "metadata": {},
   "outputs": [
    {
     "data": {
      "text/plain": [
       "array([       nan, 7.5470e+07, 4.0245e+08, 8.9220e+07, 3.1554e+08,\n",
       "       5.7010e+07, 2.6000e+08, 1.3238e+08, 1.6777e+08, 4.0452e+08,\n",
       "       1.5070e+07, 7.0100e+07, 2.1061e+08, 3.2748e+08, 3.9053e+08,\n",
       "       3.0300e+08, 5.6630e+07, 5.8060e+07, 3.5301e+08, 4.6890e+07,\n",
       "       7.0000e+06, 3.7785e+08, 1.0783e+08, 4.0371e+08, 3.1683e+08,\n",
       "       1.0055e+08, 2.8260e+07, 1.8876e+08, 2.1352e+08, 2.2601e+08,\n",
       "       4.0808e+08, 1.0060e+07, 1.4840e+07, 1.6805e+08, 1.8364e+08,\n",
       "       3.4255e+08, 9.6520e+07, 1.4022e+08, 1.7256e+08, 5.6950e+07,\n",
       "       3.3036e+08, 1.7800e+07, 2.0000e+05, 5.6820e+07, 6.6210e+07,\n",
       "       7.5610e+07, 4.5600e+06, 1.0658e+08, 5.0200e+06, 2.2680e+07,\n",
       "       1.0292e+08, 1.1052e+08, 5.0401e+08, 2.6860e+07, 2.0000e+06,\n",
       "       3.2730e+07, 3.3800e+07, 4.0074e+08, 1.9020e+07, 3.6260e+07,\n",
       "       6.6700e+06, 4.5510e+07, 7.5660e+07, 3.3000e+05, 4.0000e+06,\n",
       "       2.0160e+07, 9.5860e+07, 1.7648e+08, 1.2666e+08, 8.0100e+07,\n",
       "       4.2340e+07, 4.0000e+04, 4.7100e+06, 1.1772e+08, 2.2909e+08,\n",
       "       3.3700e+07, 9.7690e+07, 2.1150e+07, 2.7850e+07, 2.5020e+07,\n",
       "       1.0092e+08, 8.0000e+05, 3.1150e+07, 1.4353e+08, 6.1740e+07,\n",
       "       3.3400e+07, 2.4450e+07, 1.2510e+08, 1.2790e+07, 2.3800e+06,\n",
       "       1.3619e+08, 1.0103e+08, 1.8717e+08, 1.5835e+08, 1.0000e+04,\n",
       "       3.4020e+07, 5.7230e+07, 6.3690e+07, 5.2000e+06, 1.2300e+06,\n",
       "       1.0210e+07, 5.1690e+07, 1.2348e+08, 6.0460e+07, 1.1272e+08,\n",
       "       7.3100e+07, 1.8000e+05, 1.5290e+08, 5.2420e+07, 7.7220e+07,\n",
       "       5.4760e+07, 2.1360e+07, 4.4820e+07, 3.7770e+07, 2.1897e+08,\n",
       "       4.8630e+08, 9.7100e+07, 1.8340e+07, 1.8117e+08, 1.0000e+05,\n",
       "       5.8880e+07, 8.0040e+07, 3.8320e+07, 2.9210e+07, 1.1110e+07,\n",
       "       6.5080e+07, 6.7630e+07, 8.9300e+07, 6.1430e+07, 5.9650e+07,\n",
       "       3.2200e+06, 8.1900e+07, 3.0000e+07, 1.1100e+06, 1.8640e+07,\n",
       "       1.4873e+08, 1.5665e+08, 1.0337e+08, 3.5660e+07, 8.5500e+06,\n",
       "       1.6751e+08, 1.2630e+07, 4.1730e+07, 4.1230e+07, 1.4579e+08,\n",
       "       1.7610e+07, 1.3600e+06, 5.1440e+07, 2.5130e+07, 2.0050e+07,\n",
       "       3.6670e+07, 2.6830e+07, 3.5590e+07, 1.5500e+07, 1.8470e+07,\n",
       "       5.8010e+07, 7.8750e+07, 9.3740e+07, 1.0380e+07, 1.0510e+07,\n",
       "       3.6806e+08, 2.3491e+08, 1.8600e+07, 8.9260e+07, 1.1330e+07,\n",
       "       1.0120e+08, 5.7740e+07, 2.4150e+07, 3.3410e+07, 8.5020e+07,\n",
       "       2.1300e+07, 4.3600e+06, 1.6170e+07, 2.3000e+05, 9.4900e+07,\n",
       "       3.0000e+04, 4.0440e+07, 1.5090e+07, 2.1220e+07, 3.2020e+07,\n",
       "       2.0000e+04, 4.7060e+07, 2.1403e+08, 7.7040e+07, 1.5430e+07,\n",
       "       2.8210e+07, 5.0000e+05, 1.2050e+07, 2.0600e+06, 4.4140e+07,\n",
       "       3.5090e+07, 1.9400e+06, 2.7670e+07, 7.9370e+07, 3.9180e+07,\n",
       "       1.3985e+08, 8.8920e+07, 3.0580e+07, 1.2000e+05, 1.0880e+07,\n",
       "       6.5330e+07, 1.2100e+06, 5.4770e+07, 3.2940e+07, 5.7800e+06,\n",
       "       1.7140e+07, 2.8000e+05, 4.2870e+07, 5.2100e+06, 4.4000e+06,\n",
       "       4.6910e+07, 8.0000e+04, 4.8790e+07, 1.5540e+07, 4.4430e+07,\n",
       "       5.7390e+07, 1.9000e+05, 1.9700e+07, 5.8020e+07, 6.6530e+07,\n",
       "       9.2120e+07, 6.4940e+07, 0.0000e+00, 6.7400e+06, 1.5000e+05,\n",
       "       4.2400e+07, 1.9200e+07, 3.5070e+07, 1.1979e+08, 2.7150e+07,\n",
       "       3.0690e+07, 2.2400e+06, 4.7200e+06, 9.0290e+07, 7.7000e+05,\n",
       "       5.1000e+05, 2.0100e+06, 1.4900e+07, 6.1700e+06, 1.0000e+06,\n",
       "       3.1850e+07, 3.7660e+07, 3.0980e+07, 1.3750e+07, 5.8800e+06,\n",
       "       3.7710e+07, 2.1961e+08, 4.5400e+06, 7.1500e+06, 1.5010e+07,\n",
       "       1.4000e+05, 1.5100e+06, 1.6000e+06, 1.3400e+06, 7.0000e+05,\n",
       "       2.6180e+07, 1.1600e+06, 5.7000e+06, 1.0640e+07, 2.6800e+06,\n",
       "       4.5000e+05, 1.0400e+06, 7.9200e+06, 2.0280e+07, 5.0000e+04,\n",
       "       8.0600e+06, 1.2500e+06, 4.5020e+07, 1.5200e+06, 2.8350e+07,\n",
       "       3.6450e+07, 1.0800e+06, 1.3300e+06, 3.9000e+06, 6.1200e+06,\n",
       "       4.3040e+07, 4.4000e+05, 1.6850e+07, 5.6600e+06, 8.1000e+05,\n",
       "       3.4000e+05, 4.7000e+06, 1.1550e+07, 5.9300e+06, 1.1370e+07,\n",
       "       9.0000e+04, 3.0900e+06, 4.9770e+07, 1.9990e+07, 1.2410e+07,\n",
       "       4.8300e+06, 3.1000e+05, 4.3550e+07, 2.4700e+06, 4.8000e+05,\n",
       "       2.6000e+05, 6.1100e+06, 7.6000e+05, 6.0000e+04, 3.0000e+05,\n",
       "       1.6000e+05, 8.3000e+05, 5.9000e+05, 1.6000e+07, 5.3100e+06,\n",
       "       1.1960e+07, 2.2000e+05, 5.4000e+05, 2.7000e+05, 1.1000e+05,\n",
       "       1.5400e+06, 3.0300e+06, 2.9000e+05, 1.0100e+06, 3.2500e+06,\n",
       "       4.1000e+05, 1.7000e+05, 6.2000e+05, 2.3590e+07, 2.5580e+07,\n",
       "       1.3000e+05, 8.7000e+05, 1.0200e+06, 5.6000e+05, 1.1200e+06,\n",
       "       8.5000e+05, 1.8000e+06, 2.1000e+05, 2.8300e+06, 3.2240e+07,\n",
       "       7.0000e+04, 2.4000e+05, 1.0400e+07])"
      ]
     },
     "execution_count": 76,
     "metadata": {},
     "output_type": "execute_result"
    }
   ],
   "source": [
    "cleaned_missing_data_df['Gross'].unique()"
   ]
  },
  {
   "cell_type": "code",
   "execution_count": 77,
   "metadata": {},
   "outputs": [
    {
     "data": {
      "text/plain": [
       "dtype('float64')"
      ]
     },
     "execution_count": 77,
     "metadata": {},
     "output_type": "execute_result"
    }
   ],
   "source": [
    "cleaned_missing_data_df['Gross'].dtype"
   ]
  },
  {
   "cell_type": "code",
   "execution_count": 78,
   "metadata": {},
   "outputs": [
    {
     "data": {
      "image/png": "[encoded data removed]",
      "text/plain": [
       "<Figure size 640x480 with 1 Axes>"
      ]
     },
     "metadata": {},
     "output_type": "display_data"
    }
   ],
   "source": [
    "sns.boxplot(x=cleaned_missing_data_df['Gross'])\n",
    "plt.show()"
   ]
  },
  {
   "cell_type": "code",
   "execution_count": 79,
   "metadata": {},
   "outputs": [],
   "source": [
    "gross_outliers = detect_outliers_single_feature(cleaned_missing_data_df, 'Gross')"
   ]
  },
  {
   "cell_type": "code",
   "execution_count": 80,
   "metadata": {},
   "outputs": [
    {
     "data": {
      "text/plain": [
       "50"
      ]
     },
     "execution_count": 80,
     "metadata": {},
     "output_type": "execute_result"
    }
   ],
   "source": [
    "len(gross_outliers)"
   ]
  },
  {
   "cell_type": "code",
   "execution_count": 81,
   "metadata": {},
   "outputs": [],
   "source": [
    "cleaned_missing_data_df['Gross'] = cleaned_missing_data_df['Gross'].fillna(cleaned_missing_data_df['Gross'].median())"
   ]
  },
  {
   "cell_type": "code",
   "execution_count": 82,
   "metadata": {},
   "outputs": [
    {
     "data": {
      "text/plain": [
       "array([6.1450e+06, 7.5470e+07, 4.0245e+08, 8.9220e+07, 3.1554e+08,\n",
       "       5.7010e+07, 2.6000e+08, 1.3238e+08, 1.6777e+08, 4.0452e+08,\n",
       "       1.5070e+07, 7.0100e+07, 2.1061e+08, 3.2748e+08, 3.9053e+08,\n",
       "       3.0300e+08, 5.6630e+07, 5.8060e+07, 3.5301e+08, 4.6890e+07,\n",
       "       7.0000e+06, 3.7785e+08, 1.0783e+08, 4.0371e+08, 3.1683e+08,\n",
       "       1.0055e+08, 2.8260e+07, 1.8876e+08, 2.1352e+08, 2.2601e+08,\n",
       "       4.0808e+08, 1.0060e+07, 1.4840e+07, 1.6805e+08, 1.8364e+08,\n",
       "       3.4255e+08, 9.6520e+07, 1.4022e+08, 1.7256e+08, 5.6950e+07,\n",
       "       3.3036e+08, 1.7800e+07, 2.0000e+05, 5.6820e+07, 6.6210e+07,\n",
       "       7.5610e+07, 4.5600e+06, 1.0658e+08, 5.0200e+06, 2.2680e+07,\n",
       "       1.0292e+08, 1.1052e+08, 5.0401e+08, 2.6860e+07, 2.0000e+06,\n",
       "       3.2730e+07, 3.3800e+07, 4.0074e+08, 1.9020e+07, 3.6260e+07,\n",
       "       6.6700e+06, 4.5510e+07, 7.5660e+07, 3.3000e+05, 4.0000e+06,\n",
       "       2.0160e+07, 9.5860e+07, 1.7648e+08, 1.2666e+08, 8.0100e+07,\n",
       "       4.2340e+07, 4.0000e+04, 4.7100e+06, 1.1772e+08, 2.2909e+08,\n",
       "       3.3700e+07, 9.7690e+07, 2.1150e+07, 2.7850e+07, 2.5020e+07,\n",
       "       1.0092e+08, 8.0000e+05, 3.1150e+07, 1.4353e+08, 6.1740e+07,\n",
       "       3.3400e+07, 2.4450e+07, 1.2510e+08, 1.2790e+07, 2.3800e+06,\n",
       "       1.3619e+08, 1.0103e+08, 1.8717e+08, 1.5835e+08, 1.0000e+04,\n",
       "       3.4020e+07, 5.7230e+07, 6.3690e+07, 5.2000e+06, 1.2300e+06,\n",
       "       1.0210e+07, 5.1690e+07, 1.2348e+08, 6.0460e+07, 1.1272e+08,\n",
       "       7.3100e+07, 1.8000e+05, 1.5290e+08, 5.2420e+07, 7.7220e+07,\n",
       "       5.4760e+07, 2.1360e+07, 4.4820e+07, 3.7770e+07, 2.1897e+08,\n",
       "       4.8630e+08, 9.7100e+07, 1.8340e+07, 1.8117e+08, 1.0000e+05,\n",
       "       5.8880e+07, 8.0040e+07, 3.8320e+07, 2.9210e+07, 1.1110e+07,\n",
       "       6.5080e+07, 6.7630e+07, 8.9300e+07, 6.1430e+07, 5.9650e+07,\n",
       "       3.2200e+06, 8.1900e+07, 3.0000e+07, 1.1100e+06, 1.8640e+07,\n",
       "       1.4873e+08, 1.5665e+08, 1.0337e+08, 3.5660e+07, 8.5500e+06,\n",
       "       1.6751e+08, 1.2630e+07, 4.1730e+07, 4.1230e+07, 1.4579e+08,\n",
       "       1.7610e+07, 1.3600e+06, 5.1440e+07, 2.5130e+07, 2.0050e+07,\n",
       "       3.6670e+07, 2.6830e+07, 3.5590e+07, 1.5500e+07, 1.8470e+07,\n",
       "       5.8010e+07, 7.8750e+07, 9.3740e+07, 1.0380e+07, 1.0510e+07,\n",
       "       3.6806e+08, 2.3491e+08, 1.8600e+07, 8.9260e+07, 1.1330e+07,\n",
       "       1.0120e+08, 5.7740e+07, 2.4150e+07, 3.3410e+07, 8.5020e+07,\n",
       "       2.1300e+07, 4.3600e+06, 1.6170e+07, 2.3000e+05, 9.4900e+07,\n",
       "       3.0000e+04, 4.0440e+07, 1.5090e+07, 2.1220e+07, 3.2020e+07,\n",
       "       2.0000e+04, 4.7060e+07, 2.1403e+08, 7.7040e+07, 1.5430e+07,\n",
       "       2.8210e+07, 5.0000e+05, 1.2050e+07, 2.0600e+06, 4.4140e+07,\n",
       "       3.5090e+07, 1.9400e+06, 2.7670e+07, 7.9370e+07, 3.9180e+07,\n",
       "       1.3985e+08, 8.8920e+07, 3.0580e+07, 1.2000e+05, 1.0880e+07,\n",
       "       6.5330e+07, 1.2100e+06, 5.4770e+07, 3.2940e+07, 5.7800e+06,\n",
       "       1.7140e+07, 2.8000e+05, 4.2870e+07, 5.2100e+06, 4.4000e+06,\n",
       "       4.6910e+07, 8.0000e+04, 4.8790e+07, 1.5540e+07, 4.4430e+07,\n",
       "       5.7390e+07, 1.9000e+05, 1.9700e+07, 5.8020e+07, 6.6530e+07,\n",
       "       9.2120e+07, 6.4940e+07, 0.0000e+00, 6.7400e+06, 1.5000e+05,\n",
       "       4.2400e+07, 1.9200e+07, 3.5070e+07, 1.1979e+08, 2.7150e+07,\n",
       "       3.0690e+07, 2.2400e+06, 4.7200e+06, 9.0290e+07, 7.7000e+05,\n",
       "       5.1000e+05, 2.0100e+06, 1.4900e+07, 6.1700e+06, 1.0000e+06,\n",
       "       3.1850e+07, 3.7660e+07, 3.0980e+07, 1.3750e+07, 5.8800e+06,\n",
       "       3.7710e+07, 2.1961e+08, 4.5400e+06, 7.1500e+06, 1.5010e+07,\n",
       "       1.4000e+05, 1.5100e+06, 1.6000e+06, 1.3400e+06, 7.0000e+05,\n",
       "       2.6180e+07, 1.1600e+06, 5.7000e+06, 1.0640e+07, 2.6800e+06,\n",
       "       4.5000e+05, 1.0400e+06, 7.9200e+06, 2.0280e+07, 5.0000e+04,\n",
       "       8.0600e+06, 1.2500e+06, 4.5020e+07, 1.5200e+06, 2.8350e+07,\n",
       "       3.6450e+07, 1.0800e+06, 1.3300e+06, 3.9000e+06, 6.1200e+06,\n",
       "       4.3040e+07, 4.4000e+05, 1.6850e+07, 5.6600e+06, 8.1000e+05,\n",
       "       3.4000e+05, 4.7000e+06, 1.1550e+07, 5.9300e+06, 1.1370e+07,\n",
       "       9.0000e+04, 3.0900e+06, 4.9770e+07, 1.9990e+07, 1.2410e+07,\n",
       "       4.8300e+06, 3.1000e+05, 4.3550e+07, 2.4700e+06, 4.8000e+05,\n",
       "       2.6000e+05, 6.1100e+06, 7.6000e+05, 6.0000e+04, 3.0000e+05,\n",
       "       1.6000e+05, 8.3000e+05, 5.9000e+05, 1.6000e+07, 5.3100e+06,\n",
       "       1.1960e+07, 2.2000e+05, 5.4000e+05, 2.7000e+05, 1.1000e+05,\n",
       "       1.5400e+06, 3.0300e+06, 2.9000e+05, 1.0100e+06, 3.2500e+06,\n",
       "       4.1000e+05, 1.7000e+05, 6.2000e+05, 2.3590e+07, 2.5580e+07,\n",
       "       1.3000e+05, 8.7000e+05, 1.0200e+06, 5.6000e+05, 1.1200e+06,\n",
       "       8.5000e+05, 1.8000e+06, 2.1000e+05, 2.8300e+06, 3.2240e+07,\n",
       "       7.0000e+04, 2.4000e+05, 1.0400e+07])"
      ]
     },
     "execution_count": 82,
     "metadata": {},
     "output_type": "execute_result"
    }
   ],
   "source": [
    "cleaned_missing_data_df['Gross'].unique()"
   ]
  },
  {
   "cell_type": "code",
   "execution_count": 83,
   "metadata": {},
   "outputs": [],
   "source": [
    "cleaned_missing_data_df['Gross'] = cleaned_missing_data_df['Gross'].astype(int)"
   ]
  },
  {
   "cell_type": "code",
   "execution_count": 84,
   "metadata": {},
   "outputs": [
    {
     "data": {
      "text/plain": [
       "dtype('int32')"
      ]
     },
     "execution_count": 84,
     "metadata": {},
     "output_type": "execute_result"
    }
   ],
   "source": [
    "cleaned_missing_data_df['Gross'].dtype"
   ]
  },
  {
   "cell_type": "code",
   "execution_count": 85,
   "metadata": {},
   "outputs": [
    {
     "name": "stdout",
     "output_type": "stream",
     "text": [
      "MOVIES      0.0\n",
      "YEAR        0.0\n",
      "GENRE       0.0\n",
      "RATING      0.0\n",
      "ONE-LINE    0.0\n",
      "STARS       0.0\n",
      "VOTES       0.0\n",
      "RunTime     0.0\n",
      "Gross       0.0\n",
      "dtype: float64\n"
     ]
    }
   ],
   "source": [
    "percentage_missing_values(cleaned_missing_data_df)"
   ]
  },
  {
   "cell_type": "markdown",
   "metadata": {},
   "source": [
    "## 5. Standardize Data Formats"
   ]
  },
  {
   "cell_type": "code",
   "execution_count": 86,
   "metadata": {},
   "outputs": [],
   "source": [
    "standardize_df = cleaned_missing_data_df.copy()"
   ]
  },
  {
   "cell_type": "code",
   "execution_count": 87,
   "metadata": {},
   "outputs": [
    {
     "data": {
      "text/html": [
       "<div>\n",
       "<style scoped>\n",
       "    .dataframe tbody tr th:only-of-type {\n",
       "        vertical-align: middle;\n",
       "    }\n",
       "\n",
       "    .dataframe tbody tr th {\n",
       "        vertical-align: top;\n",
       "    }\n",
       "\n",
       "    .dataframe thead th {\n",
       "        text-align: right;\n",
       "    }\n",
       "</style>\n",
       "<table border=\"1\" class=\"dataframe\">\n",
       "  <thead>\n",
       "    <tr style=\"text-align: right;\">\n",
       "      <th></th>\n",
       "      <th>MOVIES</th>\n",
       "      <th>YEAR</th>\n",
       "      <th>GENRE</th>\n",
       "      <th>RATING</th>\n",
       "      <th>ONE-LINE</th>\n",
       "      <th>STARS</th>\n",
       "      <th>VOTES</th>\n",
       "      <th>RunTime</th>\n",
       "      <th>Gross</th>\n",
       "    </tr>\n",
       "  </thead>\n",
       "  <tbody>\n",
       "    <tr>\n",
       "      <th>0</th>\n",
       "      <td>Blood Red Sky</td>\n",
       "      <td>2021</td>\n",
       "      <td>Action, Horror, Thriller</td>\n",
       "      <td>6.1</td>\n",
       "      <td>\\nA woman with a mysterious illness is forced ...</td>\n",
       "      <td>\\n    Director:\\nPeter Thorwarth\\n| \\n    Star...</td>\n",
       "      <td>21062</td>\n",
       "      <td>121</td>\n",
       "      <td>6145000</td>\n",
       "    </tr>\n",
       "  </tbody>\n",
       "</table>\n",
       "</div>"
      ],
      "text/plain": [
       "          MOVIES  YEAR                     GENRE  RATING  \\\n",
       "0  Blood Red Sky  2021  Action, Horror, Thriller     6.1   \n",
       "\n",
       "                                            ONE-LINE  \\\n",
       "0  \\nA woman with a mysterious illness is forced ...   \n",
       "\n",
       "                                               STARS  VOTES  RunTime    Gross  \n",
       "0  \\n    Director:\\nPeter Thorwarth\\n| \\n    Star...  21062      121  6145000  "
      ]
     },
     "execution_count": 87,
     "metadata": {},
     "output_type": "execute_result"
    }
   ],
   "source": [
    "standardize_df.head(1)"
   ]
  },
  {
   "cell_type": "markdown",
   "metadata": {},
   "source": [
    "### ONE-LINE"
   ]
  },
  {
   "cell_type": "code",
   "execution_count": 88,
   "metadata": {},
   "outputs": [
    {
     "data": {
      "text/plain": [
       "array(['\\nA woman with a mysterious illness is forced into action when a group of terrorists attempt to hijack a transatlantic overnight flight.',\n",
       "       '\\nThe war for Eternia begins again in what may be the final battle between He-Man and Skeletor. A new animated series from writer-director Kevin Smith.',\n",
       "       '\\nSheriff Deputy Rick Grimes wakes up from a coma to learn the world is in ruins and must lead a group of survivors to stay alive.',\n",
       "       ...,\n",
       "       \"\\nLenore urges Hector to not test Camilla's patience. Belmont and Sypha cross paths with Zamfir, a fearsome guard with a suspicious mind.\",\n",
       "       '\\nActor Brian Tyree Henry (\"Godzilla vs. Kong\", \"Atlanta\", \"The Woman in the Window\"); guest co-hosts Jerry O\\'Connell and Justin Baldoni;',\n",
       "       \"\\nAs Paxton's mixed messages have Devi questioning herself, the upcoming winter dance offers a chance to determine where she stands- and what she needs.\"],\n",
       "      dtype=object)"
      ]
     },
     "execution_count": 88,
     "metadata": {},
     "output_type": "execute_result"
    }
   ],
   "source": [
    "standardize_df['ONE-LINE'].unique()"
   ]
  },
  {
   "cell_type": "code",
   "execution_count": 89,
   "metadata": {},
   "outputs": [
    {
     "data": {
      "text/plain": [
       "array(['A woman with a mysterious illness is forced into action when a group of terrorists attempt to hijack a transatlantic overnight flight.',\n",
       "       'The war for Eternia begins again in what may be the final battle between He-Man and Skeletor. A new animated series from writer-director Kevin Smith.',\n",
       "       'Sheriff Deputy Rick Grimes wakes up from a coma to learn the world is in ruins and must lead a group of survivors to stay alive.',\n",
       "       ...,\n",
       "       \"Lenore urges Hector to not test Camilla's patience. Belmont and Sypha cross paths with Zamfir, a fearsome guard with a suspicious mind.\",\n",
       "       'Actor Brian Tyree Henry (\"Godzilla vs. Kong\", \"Atlanta\", \"The Woman in the Window\"); guest co-hosts Jerry O\\'Connell and Justin Baldoni;',\n",
       "       \"As Paxton's mixed messages have Devi questioning herself, the upcoming winter dance offers a chance to determine where she stands- and what she needs.\"],\n",
       "      dtype=object)"
      ]
     },
     "execution_count": 89,
     "metadata": {},
     "output_type": "execute_result"
    }
   ],
   "source": [
    "standardize_df['ONE-LINE'] = standardize_df['ONE-LINE'].str.strip()\n",
    "standardize_df['ONE-LINE'].unique()"
   ]
  },
  {
   "cell_type": "code",
   "execution_count": 90,
   "metadata": {},
   "outputs": [
    {
     "data": {
      "text/html": [
       "<div>\n",
       "<style scoped>\n",
       "    .dataframe tbody tr th:only-of-type {\n",
       "        vertical-align: middle;\n",
       "    }\n",
       "\n",
       "    .dataframe tbody tr th {\n",
       "        vertical-align: top;\n",
       "    }\n",
       "\n",
       "    .dataframe thead th {\n",
       "        text-align: right;\n",
       "    }\n",
       "</style>\n",
       "<table border=\"1\" class=\"dataframe\">\n",
       "  <thead>\n",
       "    <tr style=\"text-align: right;\">\n",
       "      <th></th>\n",
       "      <th>MOVIES</th>\n",
       "      <th>YEAR</th>\n",
       "      <th>GENRE</th>\n",
       "      <th>RATING</th>\n",
       "      <th>ONE-LINE</th>\n",
       "      <th>STARS</th>\n",
       "      <th>VOTES</th>\n",
       "      <th>RunTime</th>\n",
       "      <th>Gross</th>\n",
       "    </tr>\n",
       "  </thead>\n",
       "  <tbody>\n",
       "    <tr>\n",
       "      <th>0</th>\n",
       "      <td>Blood Red Sky</td>\n",
       "      <td>2021</td>\n",
       "      <td>Action, Horror, Thriller</td>\n",
       "      <td>6.1</td>\n",
       "      <td>A woman with a mysterious illness is forced in...</td>\n",
       "      <td>\\n    Director:\\nPeter Thorwarth\\n| \\n    Star...</td>\n",
       "      <td>21062</td>\n",
       "      <td>121</td>\n",
       "      <td>6145000</td>\n",
       "    </tr>\n",
       "  </tbody>\n",
       "</table>\n",
       "</div>"
      ],
      "text/plain": [
       "          MOVIES  YEAR                     GENRE  RATING  \\\n",
       "0  Blood Red Sky  2021  Action, Horror, Thriller     6.1   \n",
       "\n",
       "                                            ONE-LINE  \\\n",
       "0  A woman with a mysterious illness is forced in...   \n",
       "\n",
       "                                               STARS  VOTES  RunTime    Gross  \n",
       "0  \\n    Director:\\nPeter Thorwarth\\n| \\n    Star...  21062      121  6145000  "
      ]
     },
     "execution_count": 90,
     "metadata": {},
     "output_type": "execute_result"
    }
   ],
   "source": [
    "standardize_df.head(1)"
   ]
  },
  {
   "cell_type": "markdown",
   "metadata": {},
   "source": [
    "### STARS\n",
    "\n",
    "The STARS column in our dataset contains both director and star information for each movie. However, not all records have director information, and some records contain both directors and stars. To facilitate better analysis and separate the two features, we extracted the Director and Stars into individual columns."
   ]
  },
  {
   "cell_type": "code",
   "execution_count": 91,
   "metadata": {},
   "outputs": [
    {
     "data": {
      "text/plain": [
       "0    \\n    Director:\\nPeter Thorwarth\\n| \\n    Star...\n",
       "1    \\n            \\n    Stars:\\nChris Wood, \\nSara...\n",
       "2    \\n            \\n    Stars:\\nAndrew Lincoln, \\n...\n",
       "3    \\n            \\n    Stars:\\nJustin Roiland, \\n...\n",
       "4    \\n    Director:\\nMatthias Schweighöfer\\n| \\n  ...\n",
       "5    \\n            \\n    Stars:\\nChase Stokes, \\nMa...\n",
       "6    \\n    Director:\\nAugustine Frizzell\\n| \\n    S...\n",
       "7    \\n            \\n    Stars:\\nMichael C. Hall, \\...\n",
       "8    \\n            \\n    Stars:\\nMaitreyi Ramakrish...\n",
       "9    \\n            \\n    Stars:\\nAlexandra Breckenr...\n",
       "Name: STARS, dtype: object"
      ]
     },
     "execution_count": 91,
     "metadata": {},
     "output_type": "execute_result"
    }
   ],
   "source": [
    "standardize_df['STARS'][:10]"
   ]
  },
  {
   "cell_type": "code",
   "execution_count": 92,
   "metadata": {},
   "outputs": [],
   "source": [
    "def director_column(value):\n",
    "    if 'Director' in value:\n",
    "        return value.split('\\n| \\n')[0].split('\\n')[2]\n",
    "    else:\n",
    "        return 'Unknown'\n"
   ]
  },
  {
   "cell_type": "code",
   "execution_count": 93,
   "metadata": {},
   "outputs": [],
   "source": [
    "standardize_df['DIRECTOR'] = standardize_df['STARS'].apply(director_column)"
   ]
  },
  {
   "cell_type": "code",
   "execution_count": 94,
   "metadata": {},
   "outputs": [
    {
     "data": {
      "text/plain": [
       "0          Peter Thorwarth\n",
       "1                  Unknown\n",
       "2                  Unknown\n",
       "3                  Unknown\n",
       "4    Matthias Schweighöfer\n",
       "5                  Unknown\n",
       "6       Augustine Frizzell\n",
       "7                  Unknown\n",
       "8                  Unknown\n",
       "9                  Unknown\n",
       "Name: DIRECTOR, dtype: object"
      ]
     },
     "execution_count": 94,
     "metadata": {},
     "output_type": "execute_result"
    }
   ],
   "source": [
    "standardize_df['DIRECTOR'][:10]"
   ]
  },
  {
   "cell_type": "code",
   "execution_count": 95,
   "metadata": {},
   "outputs": [
    {
     "data": {
      "text/plain": [
       "'\\n            \\n    Stars:\\nAndrew Lincoln, \\nNorman Reedus, \\nMelissa McBride, \\nLauren Cohan\\n'"
      ]
     },
     "execution_count": 95,
     "metadata": {},
     "output_type": "execute_result"
    }
   ],
   "source": [
    "standardize_df['STARS'][2]"
   ]
  },
  {
   "cell_type": "code",
   "execution_count": 96,
   "metadata": {},
   "outputs": [],
   "source": [
    "def stars_column(value):\n",
    "    if 'Stars' in value:\n",
    "        return value.split('Stars:\\n')[1].replace('\\n', '')\n",
    "    else:\n",
    "        return 'Unknown'"
   ]
  },
  {
   "cell_type": "code",
   "execution_count": 97,
   "metadata": {},
   "outputs": [],
   "source": [
    "standardize_df['STARS'] = standardize_df['STARS'].apply(stars_column)"
   ]
  },
  {
   "cell_type": "code",
   "execution_count": 98,
   "metadata": {},
   "outputs": [
    {
     "data": {
      "text/plain": [
       "'Andrew Lincoln, Norman Reedus, Melissa McBride, Lauren Cohan'"
      ]
     },
     "execution_count": 98,
     "metadata": {},
     "output_type": "execute_result"
    }
   ],
   "source": [
    "standardize_df[\"STARS\"][2]"
   ]
  },
  {
   "cell_type": "code",
   "execution_count": 99,
   "metadata": {},
   "outputs": [
    {
     "data": {
      "text/html": [
       "<div>\n",
       "<style scoped>\n",
       "    .dataframe tbody tr th:only-of-type {\n",
       "        vertical-align: middle;\n",
       "    }\n",
       "\n",
       "    .dataframe tbody tr th {\n",
       "        vertical-align: top;\n",
       "    }\n",
       "\n",
       "    .dataframe thead th {\n",
       "        text-align: right;\n",
       "    }\n",
       "</style>\n",
       "<table border=\"1\" class=\"dataframe\">\n",
       "  <thead>\n",
       "    <tr style=\"text-align: right;\">\n",
       "      <th></th>\n",
       "      <th>MOVIES</th>\n",
       "      <th>YEAR</th>\n",
       "      <th>GENRE</th>\n",
       "      <th>RATING</th>\n",
       "      <th>ONE-LINE</th>\n",
       "      <th>STARS</th>\n",
       "      <th>VOTES</th>\n",
       "      <th>RunTime</th>\n",
       "      <th>Gross</th>\n",
       "      <th>DIRECTOR</th>\n",
       "    </tr>\n",
       "  </thead>\n",
       "  <tbody>\n",
       "    <tr>\n",
       "      <th>0</th>\n",
       "      <td>Blood Red Sky</td>\n",
       "      <td>2021</td>\n",
       "      <td>Action, Horror, Thriller</td>\n",
       "      <td>6.1</td>\n",
       "      <td>A woman with a mysterious illness is forced in...</td>\n",
       "      <td>Peri Baumeister, Carl Anton Koch, Alexander Sc...</td>\n",
       "      <td>21062</td>\n",
       "      <td>121</td>\n",
       "      <td>6145000</td>\n",
       "      <td>Peter Thorwarth</td>\n",
       "    </tr>\n",
       "    <tr>\n",
       "      <th>1</th>\n",
       "      <td>Masters of the Universe: Revelation</td>\n",
       "      <td>2021</td>\n",
       "      <td>Animation, Action, Adventure</td>\n",
       "      <td>5.0</td>\n",
       "      <td>The war for Eternia begins again in what may b...</td>\n",
       "      <td>Chris Wood, Sarah Michelle Gellar, Lena Headey...</td>\n",
       "      <td>17870</td>\n",
       "      <td>25</td>\n",
       "      <td>6145000</td>\n",
       "      <td>Unknown</td>\n",
       "    </tr>\n",
       "    <tr>\n",
       "      <th>2</th>\n",
       "      <td>The Walking Dead</td>\n",
       "      <td>2010</td>\n",
       "      <td>Drama, Horror, Thriller</td>\n",
       "      <td>8.2</td>\n",
       "      <td>Sheriff Deputy Rick Grimes wakes up from a com...</td>\n",
       "      <td>Andrew Lincoln, Norman Reedus, Melissa McBride...</td>\n",
       "      <td>885805</td>\n",
       "      <td>44</td>\n",
       "      <td>6145000</td>\n",
       "      <td>Unknown</td>\n",
       "    </tr>\n",
       "  </tbody>\n",
       "</table>\n",
       "</div>"
      ],
      "text/plain": [
       "                                MOVIES  YEAR                         GENRE  \\\n",
       "0                        Blood Red Sky  2021      Action, Horror, Thriller   \n",
       "1  Masters of the Universe: Revelation  2021  Animation, Action, Adventure   \n",
       "2                     The Walking Dead  2010       Drama, Horror, Thriller   \n",
       "\n",
       "   RATING                                           ONE-LINE  \\\n",
       "0     6.1  A woman with a mysterious illness is forced in...   \n",
       "1     5.0  The war for Eternia begins again in what may b...   \n",
       "2     8.2  Sheriff Deputy Rick Grimes wakes up from a com...   \n",
       "\n",
       "                                               STARS   VOTES  RunTime  \\\n",
       "0  Peri Baumeister, Carl Anton Koch, Alexander Sc...   21062      121   \n",
       "1  Chris Wood, Sarah Michelle Gellar, Lena Headey...   17870       25   \n",
       "2  Andrew Lincoln, Norman Reedus, Melissa McBride...  885805       44   \n",
       "\n",
       "     Gross         DIRECTOR  \n",
       "0  6145000  Peter Thorwarth  \n",
       "1  6145000          Unknown  \n",
       "2  6145000          Unknown  "
      ]
     },
     "execution_count": 99,
     "metadata": {},
     "output_type": "execute_result"
    }
   ],
   "source": [
    "standardize_df.head(3)"
   ]
  },
  {
   "cell_type": "markdown",
   "metadata": {},
   "source": [
    "### 6. Column Names"
   ]
  },
  {
   "cell_type": "code",
   "execution_count": 100,
   "metadata": {},
   "outputs": [],
   "source": [
    "column_name_change_df = standardize_df.copy()"
   ]
  },
  {
   "cell_type": "code",
   "execution_count": 101,
   "metadata": {},
   "outputs": [],
   "source": [
    "column_name_change_df.columns = column_name_change_df.columns.str.lower().str.strip().str.replace('-', '_')"
   ]
  },
  {
   "cell_type": "code",
   "execution_count": 102,
   "metadata": {},
   "outputs": [
    {
     "data": {
      "text/plain": [
       "Index(['movies', 'year', 'genre', 'rating', 'one_line', 'stars', 'votes',\n",
       "       'runtime', 'gross', 'director'],\n",
       "      dtype='object')"
      ]
     },
     "execution_count": 102,
     "metadata": {},
     "output_type": "execute_result"
    }
   ],
   "source": [
    "column_name_change_df.columns"
   ]
  },
  {
   "cell_type": "code",
   "execution_count": 103,
   "metadata": {},
   "outputs": [],
   "source": [
    "finished_df = column_name_change_df[['movies', 'year', 'director', 'genre', 'rating', 'votes', 'runtime', 'gross', 'stars', 'one_line']]"
   ]
  },
  {
   "cell_type": "code",
   "execution_count": 104,
   "metadata": {},
   "outputs": [
    {
     "data": {
      "text/html": [
       "<div>\n",
       "<style scoped>\n",
       "    .dataframe tbody tr th:only-of-type {\n",
       "        vertical-align: middle;\n",
       "    }\n",
       "\n",
       "    .dataframe tbody tr th {\n",
       "        vertical-align: top;\n",
       "    }\n",
       "\n",
       "    .dataframe thead th {\n",
       "        text-align: right;\n",
       "    }\n",
       "</style>\n",
       "<table border=\"1\" class=\"dataframe\">\n",
       "  <thead>\n",
       "    <tr style=\"text-align: right;\">\n",
       "      <th></th>\n",
       "      <th>movies</th>\n",
       "      <th>year</th>\n",
       "      <th>director</th>\n",
       "      <th>genre</th>\n",
       "      <th>rating</th>\n",
       "      <th>votes</th>\n",
       "      <th>runtime</th>\n",
       "      <th>gross</th>\n",
       "      <th>stars</th>\n",
       "      <th>one_line</th>\n",
       "    </tr>\n",
       "  </thead>\n",
       "  <tbody>\n",
       "    <tr>\n",
       "      <th>0</th>\n",
       "      <td>Blood Red Sky</td>\n",
       "      <td>2021</td>\n",
       "      <td>Peter Thorwarth</td>\n",
       "      <td>Action, Horror, Thriller</td>\n",
       "      <td>6.1</td>\n",
       "      <td>21062</td>\n",
       "      <td>121</td>\n",
       "      <td>6145000</td>\n",
       "      <td>Peri Baumeister, Carl Anton Koch, Alexander Sc...</td>\n",
       "      <td>A woman with a mysterious illness is forced in...</td>\n",
       "    </tr>\n",
       "    <tr>\n",
       "      <th>1</th>\n",
       "      <td>Masters of the Universe: Revelation</td>\n",
       "      <td>2021</td>\n",
       "      <td>Unknown</td>\n",
       "      <td>Animation, Action, Adventure</td>\n",
       "      <td>5.0</td>\n",
       "      <td>17870</td>\n",
       "      <td>25</td>\n",
       "      <td>6145000</td>\n",
       "      <td>Chris Wood, Sarah Michelle Gellar, Lena Headey...</td>\n",
       "      <td>The war for Eternia begins again in what may b...</td>\n",
       "    </tr>\n",
       "    <tr>\n",
       "      <th>2</th>\n",
       "      <td>The Walking Dead</td>\n",
       "      <td>2010</td>\n",
       "      <td>Unknown</td>\n",
       "      <td>Drama, Horror, Thriller</td>\n",
       "      <td>8.2</td>\n",
       "      <td>885805</td>\n",
       "      <td>44</td>\n",
       "      <td>6145000</td>\n",
       "      <td>Andrew Lincoln, Norman Reedus, Melissa McBride...</td>\n",
       "      <td>Sheriff Deputy Rick Grimes wakes up from a com...</td>\n",
       "    </tr>\n",
       "    <tr>\n",
       "      <th>3</th>\n",
       "      <td>Rick and Morty</td>\n",
       "      <td>2013</td>\n",
       "      <td>Unknown</td>\n",
       "      <td>Animation, Adventure, Comedy</td>\n",
       "      <td>9.2</td>\n",
       "      <td>414849</td>\n",
       "      <td>23</td>\n",
       "      <td>6145000</td>\n",
       "      <td>Justin Roiland, Chris Parnell, Spencer Grammer...</td>\n",
       "      <td>An animated series that follows the exploits o...</td>\n",
       "    </tr>\n",
       "    <tr>\n",
       "      <th>4</th>\n",
       "      <td>Army of Thieves</td>\n",
       "      <td>2021</td>\n",
       "      <td>Matthias Schweighöfer</td>\n",
       "      <td>Action, Crime, Horror</td>\n",
       "      <td>7.1</td>\n",
       "      <td>792</td>\n",
       "      <td>60</td>\n",
       "      <td>6145000</td>\n",
       "      <td>Matthias Schweighöfer, Nathalie Emmanuel, Ruby...</td>\n",
       "      <td>A prequel, set before the events of Army of th...</td>\n",
       "    </tr>\n",
       "    <tr>\n",
       "      <th>...</th>\n",
       "      <td>...</td>\n",
       "      <td>...</td>\n",
       "      <td>...</td>\n",
       "      <td>...</td>\n",
       "      <td>...</td>\n",
       "      <td>...</td>\n",
       "      <td>...</td>\n",
       "      <td>...</td>\n",
       "      <td>...</td>\n",
       "      <td>...</td>\n",
       "    </tr>\n",
       "    <tr>\n",
       "      <th>9993</th>\n",
       "      <td>Totenfrau</td>\n",
       "      <td>2022</td>\n",
       "      <td>Nicolai Rohde</td>\n",
       "      <td>Drama, Thriller</td>\n",
       "      <td>7.1</td>\n",
       "      <td>792</td>\n",
       "      <td>60</td>\n",
       "      <td>6145000</td>\n",
       "      <td>Felix Klare, Romina Küper, Anna Maria Mühe, Ro...</td>\n",
       "      <td>Add a Plot</td>\n",
       "    </tr>\n",
       "    <tr>\n",
       "      <th>9995</th>\n",
       "      <td>Arcane</td>\n",
       "      <td>2021</td>\n",
       "      <td>Unknown</td>\n",
       "      <td>Animation, Action, Adventure</td>\n",
       "      <td>7.1</td>\n",
       "      <td>792</td>\n",
       "      <td>60</td>\n",
       "      <td>6145000</td>\n",
       "      <td>Unknown</td>\n",
       "      <td>Add a Plot</td>\n",
       "    </tr>\n",
       "    <tr>\n",
       "      <th>9996</th>\n",
       "      <td>Heart of Invictus</td>\n",
       "      <td>2022</td>\n",
       "      <td>Orlando von Einsiedel</td>\n",
       "      <td>Documentary, Sport</td>\n",
       "      <td>7.1</td>\n",
       "      <td>792</td>\n",
       "      <td>60</td>\n",
       "      <td>6145000</td>\n",
       "      <td>Unknown</td>\n",
       "      <td>Add a Plot</td>\n",
       "    </tr>\n",
       "    <tr>\n",
       "      <th>9997</th>\n",
       "      <td>The Imperfects</td>\n",
       "      <td>2021</td>\n",
       "      <td>Jovanka Vuckovic</td>\n",
       "      <td>Adventure, Drama, Fantasy</td>\n",
       "      <td>7.1</td>\n",
       "      <td>792</td>\n",
       "      <td>60</td>\n",
       "      <td>6145000</td>\n",
       "      <td>Morgan Taylor Campbell, Iñaki Godoy, Rhianna J...</td>\n",
       "      <td>Add a Plot</td>\n",
       "    </tr>\n",
       "    <tr>\n",
       "      <th>9998</th>\n",
       "      <td>The Imperfects</td>\n",
       "      <td>2021</td>\n",
       "      <td>Jovanka Vuckovic</td>\n",
       "      <td>Adventure, Drama, Fantasy</td>\n",
       "      <td>7.1</td>\n",
       "      <td>792</td>\n",
       "      <td>60</td>\n",
       "      <td>6145000</td>\n",
       "      <td>Morgan Taylor Campbell, Jennifer Cheon Garcia,...</td>\n",
       "      <td>Add a Plot</td>\n",
       "    </tr>\n",
       "  </tbody>\n",
       "</table>\n",
       "<p>9568 rows × 10 columns</p>\n",
       "</div>"
      ],
      "text/plain": [
       "                                   movies  year               director  \\\n",
       "0                           Blood Red Sky  2021        Peter Thorwarth   \n",
       "1     Masters of the Universe: Revelation  2021                Unknown   \n",
       "2                        The Walking Dead  2010                Unknown   \n",
       "3                          Rick and Morty  2013                Unknown   \n",
       "4                         Army of Thieves  2021  Matthias Schweighöfer   \n",
       "...                                   ...   ...                    ...   \n",
       "9993                            Totenfrau  2022          Nicolai Rohde   \n",
       "9995                               Arcane  2021                Unknown   \n",
       "9996                    Heart of Invictus  2022  Orlando von Einsiedel   \n",
       "9997                       The Imperfects  2021       Jovanka Vuckovic   \n",
       "9998                       The Imperfects  2021       Jovanka Vuckovic   \n",
       "\n",
       "                             genre  rating   votes  runtime    gross  \\\n",
       "0         Action, Horror, Thriller     6.1   21062      121  6145000   \n",
       "1     Animation, Action, Adventure     5.0   17870       25  6145000   \n",
       "2          Drama, Horror, Thriller     8.2  885805       44  6145000   \n",
       "3     Animation, Adventure, Comedy     9.2  414849       23  6145000   \n",
       "4            Action, Crime, Horror     7.1     792       60  6145000   \n",
       "...                            ...     ...     ...      ...      ...   \n",
       "9993               Drama, Thriller     7.1     792       60  6145000   \n",
       "9995  Animation, Action, Adventure     7.1     792       60  6145000   \n",
       "9996            Documentary, Sport     7.1     792       60  6145000   \n",
       "9997     Adventure, Drama, Fantasy     7.1     792       60  6145000   \n",
       "9998     Adventure, Drama, Fantasy     7.1     792       60  6145000   \n",
       "\n",
       "                                                  stars  \\\n",
       "0     Peri Baumeister, Carl Anton Koch, Alexander Sc...   \n",
       "1     Chris Wood, Sarah Michelle Gellar, Lena Headey...   \n",
       "2     Andrew Lincoln, Norman Reedus, Melissa McBride...   \n",
       "3     Justin Roiland, Chris Parnell, Spencer Grammer...   \n",
       "4     Matthias Schweighöfer, Nathalie Emmanuel, Ruby...   \n",
       "...                                                 ...   \n",
       "9993  Felix Klare, Romina Küper, Anna Maria Mühe, Ro...   \n",
       "9995                                            Unknown   \n",
       "9996                                            Unknown   \n",
       "9997  Morgan Taylor Campbell, Iñaki Godoy, Rhianna J...   \n",
       "9998  Morgan Taylor Campbell, Jennifer Cheon Garcia,...   \n",
       "\n",
       "                                               one_line  \n",
       "0     A woman with a mysterious illness is forced in...  \n",
       "1     The war for Eternia begins again in what may b...  \n",
       "2     Sheriff Deputy Rick Grimes wakes up from a com...  \n",
       "3     An animated series that follows the exploits o...  \n",
       "4     A prequel, set before the events of Army of th...  \n",
       "...                                                 ...  \n",
       "9993                                         Add a Plot  \n",
       "9995                                         Add a Plot  \n",
       "9996                                         Add a Plot  \n",
       "9997                                         Add a Plot  \n",
       "9998                                         Add a Plot  \n",
       "\n",
       "[9568 rows x 10 columns]"
      ]
     },
     "execution_count": 104,
     "metadata": {},
     "output_type": "execute_result"
    }
   ],
   "source": [
    "finished_df"
   ]
  },
  {
   "cell_type": "code",
   "execution_count": 105,
   "metadata": {},
   "outputs": [],
   "source": [
    "finished_df['one_line'] = finished_df['one_line'].apply(lambda x: 'Unknown' if x.strip() == 'Add a Plot' else x)"
   ]
  },
  {
   "cell_type": "code",
   "execution_count": 106,
   "metadata": {},
   "outputs": [],
   "source": [
    "finished_df = finished_df.reset_index(drop=True)"
   ]
  },
  {
   "cell_type": "code",
   "execution_count": 107,
   "metadata": {},
   "outputs": [
    {
     "data": {
      "text/html": [
       "<div>\n",
       "<style scoped>\n",
       "    .dataframe tbody tr th:only-of-type {\n",
       "        vertical-align: middle;\n",
       "    }\n",
       "\n",
       "    .dataframe tbody tr th {\n",
       "        vertical-align: top;\n",
       "    }\n",
       "\n",
       "    .dataframe thead th {\n",
       "        text-align: right;\n",
       "    }\n",
       "</style>\n",
       "<table border=\"1\" class=\"dataframe\">\n",
       "  <thead>\n",
       "    <tr style=\"text-align: right;\">\n",
       "      <th></th>\n",
       "      <th>movies</th>\n",
       "      <th>year</th>\n",
       "      <th>director</th>\n",
       "      <th>genre</th>\n",
       "      <th>rating</th>\n",
       "      <th>votes</th>\n",
       "      <th>runtime</th>\n",
       "      <th>gross</th>\n",
       "      <th>stars</th>\n",
       "      <th>one_line</th>\n",
       "    </tr>\n",
       "  </thead>\n",
       "  <tbody>\n",
       "    <tr>\n",
       "      <th>9351</th>\n",
       "      <td>Astérix</td>\n",
       "      <td>2023</td>\n",
       "      <td>Unknown</td>\n",
       "      <td>Animation, Action, Adventure</td>\n",
       "      <td>7.1</td>\n",
       "      <td>792</td>\n",
       "      <td>60</td>\n",
       "      <td>6145000</td>\n",
       "      <td>Unknown</td>\n",
       "      <td>Unknown</td>\n",
       "    </tr>\n",
       "    <tr>\n",
       "      <th>3315</th>\n",
       "      <td>The Monkey King</td>\n",
       "      <td>2023</td>\n",
       "      <td>Anthony Stacchi</td>\n",
       "      <td>Animation, Action, Adventure</td>\n",
       "      <td>7.1</td>\n",
       "      <td>792</td>\n",
       "      <td>60</td>\n",
       "      <td>6145000</td>\n",
       "      <td>BD Wong, Hoon Lee, Jimmy O. Yang, Bowen Yang</td>\n",
       "      <td>An animated version of the mythical Chinese hero.</td>\n",
       "    </tr>\n",
       "    <tr>\n",
       "      <th>1944</th>\n",
       "      <td>The Mother</td>\n",
       "      <td>2022</td>\n",
       "      <td>Niki Caro</td>\n",
       "      <td>Action, Thriller</td>\n",
       "      <td>7.1</td>\n",
       "      <td>792</td>\n",
       "      <td>60</td>\n",
       "      <td>6145000</td>\n",
       "      <td>Unknown</td>\n",
       "      <td>Female-led action thriller.</td>\n",
       "    </tr>\n",
       "    <tr>\n",
       "      <th>4145</th>\n",
       "      <td>Surviving Summer</td>\n",
       "      <td>2022</td>\n",
       "      <td>Unknown</td>\n",
       "      <td>Drama</td>\n",
       "      <td>7.1</td>\n",
       "      <td>792</td>\n",
       "      <td>60</td>\n",
       "      <td>6145000</td>\n",
       "      <td>Sky Katz, Kai Lewins, Savannah La Rain, Joao M...</td>\n",
       "      <td>Rebellious Brooklyn teen Summer Torres is sent...</td>\n",
       "    </tr>\n",
       "    <tr>\n",
       "      <th>5462</th>\n",
       "      <td>Escape from Hat</td>\n",
       "      <td>2022</td>\n",
       "      <td>Mark Osborne</td>\n",
       "      <td>Animation, Adventure, Comedy</td>\n",
       "      <td>7.1</td>\n",
       "      <td>792</td>\n",
       "      <td>60</td>\n",
       "      <td>6145000</td>\n",
       "      <td>Unknown</td>\n",
       "      <td>A desperate rabbit rallies an unexpected band ...</td>\n",
       "    </tr>\n",
       "    <tr>\n",
       "      <th>...</th>\n",
       "      <td>...</td>\n",
       "      <td>...</td>\n",
       "      <td>...</td>\n",
       "      <td>...</td>\n",
       "      <td>...</td>\n",
       "      <td>...</td>\n",
       "      <td>...</td>\n",
       "      <td>...</td>\n",
       "      <td>...</td>\n",
       "      <td>...</td>\n",
       "    </tr>\n",
       "    <tr>\n",
       "      <th>1373</th>\n",
       "      <td>Dumbo</td>\n",
       "      <td>1941</td>\n",
       "      <td>Samuel Armstrong,</td>\n",
       "      <td>Animation, Adventure, Drama</td>\n",
       "      <td>7.2</td>\n",
       "      <td>124409</td>\n",
       "      <td>64</td>\n",
       "      <td>1600000</td>\n",
       "      <td>Sterling Holloway, Edward Brophy, Herman Bing,...</td>\n",
       "      <td>Ridiculed because of his enormous ears, a youn...</td>\n",
       "    </tr>\n",
       "    <tr>\n",
       "      <th>6089</th>\n",
       "      <td>Karriär</td>\n",
       "      <td>1938</td>\n",
       "      <td>Schamyl Bauman</td>\n",
       "      <td>Drama</td>\n",
       "      <td>5.2</td>\n",
       "      <td>52</td>\n",
       "      <td>106</td>\n",
       "      <td>6145000</td>\n",
       "      <td>Signe Hasso, Sture Lagerwall, Tollie Zellman, ...</td>\n",
       "      <td>A traveling theater company in Sweden. Conflic...</td>\n",
       "    </tr>\n",
       "    <tr>\n",
       "      <th>5915</th>\n",
       "      <td>Kära släkten</td>\n",
       "      <td>1933</td>\n",
       "      <td>Gustaf Molander</td>\n",
       "      <td>Comedy</td>\n",
       "      <td>5.4</td>\n",
       "      <td>36</td>\n",
       "      <td>94</td>\n",
       "      <td>6145000</td>\n",
       "      <td>Gösta Ekman, Tutta Rolf, Carl Barcklind, Thor ...</td>\n",
       "      <td>The story about a Stockholm wholesaler and his...</td>\n",
       "    </tr>\n",
       "    <tr>\n",
       "      <th>5213</th>\n",
       "      <td>Söderkåkar</td>\n",
       "      <td>1932</td>\n",
       "      <td>Weyler Hildebrand</td>\n",
       "      <td>Comedy</td>\n",
       "      <td>5.3</td>\n",
       "      <td>59</td>\n",
       "      <td>87</td>\n",
       "      <td>6145000</td>\n",
       "      <td>Gideon Wahlberg, Dagmar Ebbesen, Björn Berglun...</td>\n",
       "      <td>The movie version of Gideon Wahlbergs comedy a...</td>\n",
       "    </tr>\n",
       "    <tr>\n",
       "      <th>1352</th>\n",
       "      <td>Scarface</td>\n",
       "      <td>1932</td>\n",
       "      <td>Howard Hawks,</td>\n",
       "      <td>Action, Crime, Drama</td>\n",
       "      <td>7.8</td>\n",
       "      <td>26365</td>\n",
       "      <td>93</td>\n",
       "      <td>6145000</td>\n",
       "      <td>Paul Muni, Ann Dvorak, Karen Morley, Osgood Pe...</td>\n",
       "      <td>An ambitious and nearly insane violent gangste...</td>\n",
       "    </tr>\n",
       "  </tbody>\n",
       "</table>\n",
       "<p>9568 rows × 10 columns</p>\n",
       "</div>"
      ],
      "text/plain": [
       "                movies  year            director  \\\n",
       "9351           Astérix  2023             Unknown   \n",
       "3315   The Monkey King  2023     Anthony Stacchi   \n",
       "1944        The Mother  2022           Niki Caro   \n",
       "4145  Surviving Summer  2022             Unknown   \n",
       "5462   Escape from Hat  2022        Mark Osborne   \n",
       "...                ...   ...                 ...   \n",
       "1373             Dumbo  1941  Samuel Armstrong,    \n",
       "6089           Karriär  1938      Schamyl Bauman   \n",
       "5915      Kära släkten  1933     Gustaf Molander   \n",
       "5213        Söderkåkar  1932   Weyler Hildebrand   \n",
       "1352          Scarface  1932      Howard Hawks,    \n",
       "\n",
       "                             genre  rating   votes  runtime    gross  \\\n",
       "9351  Animation, Action, Adventure     7.1     792       60  6145000   \n",
       "3315  Animation, Action, Adventure     7.1     792       60  6145000   \n",
       "1944              Action, Thriller     7.1     792       60  6145000   \n",
       "4145                         Drama     7.1     792       60  6145000   \n",
       "5462  Animation, Adventure, Comedy     7.1     792       60  6145000   \n",
       "...                            ...     ...     ...      ...      ...   \n",
       "1373   Animation, Adventure, Drama     7.2  124409       64  1600000   \n",
       "6089                         Drama     5.2      52      106  6145000   \n",
       "5915                        Comedy     5.4      36       94  6145000   \n",
       "5213                        Comedy     5.3      59       87  6145000   \n",
       "1352          Action, Crime, Drama     7.8   26365       93  6145000   \n",
       "\n",
       "                                                  stars  \\\n",
       "9351                                            Unknown   \n",
       "3315       BD Wong, Hoon Lee, Jimmy O. Yang, Bowen Yang   \n",
       "1944                                            Unknown   \n",
       "4145  Sky Katz, Kai Lewins, Savannah La Rain, Joao M...   \n",
       "5462                                            Unknown   \n",
       "...                                                 ...   \n",
       "1373  Sterling Holloway, Edward Brophy, Herman Bing,...   \n",
       "6089  Signe Hasso, Sture Lagerwall, Tollie Zellman, ...   \n",
       "5915  Gösta Ekman, Tutta Rolf, Carl Barcklind, Thor ...   \n",
       "5213  Gideon Wahlberg, Dagmar Ebbesen, Björn Berglun...   \n",
       "1352  Paul Muni, Ann Dvorak, Karen Morley, Osgood Pe...   \n",
       "\n",
       "                                               one_line  \n",
       "9351                                            Unknown  \n",
       "3315  An animated version of the mythical Chinese hero.  \n",
       "1944                        Female-led action thriller.  \n",
       "4145  Rebellious Brooklyn teen Summer Torres is sent...  \n",
       "5462  A desperate rabbit rallies an unexpected band ...  \n",
       "...                                                 ...  \n",
       "1373  Ridiculed because of his enormous ears, a youn...  \n",
       "6089  A traveling theater company in Sweden. Conflic...  \n",
       "5915  The story about a Stockholm wholesaler and his...  \n",
       "5213  The movie version of Gideon Wahlbergs comedy a...  \n",
       "1352  An ambitious and nearly insane violent gangste...  \n",
       "\n",
       "[9568 rows x 10 columns]"
      ]
     },
     "execution_count": 107,
     "metadata": {},
     "output_type": "execute_result"
    }
   ],
   "source": [
    "finished_df.sort_values(by='year', ascending=False)"
   ]
  },
  {
   "cell_type": "markdown",
   "metadata": {},
   "source": [
    "## 7. Outliers"
   ]
  },
  {
   "cell_type": "code",
   "execution_count": 109,
   "metadata": {},
   "outputs": [],
   "source": [
    "from collections import Counter\n",
    "\n",
    "def delete_outliers(data_frame: pd.DataFrame, n: int, features: list) -> list:\n",
    "    \"\"\"\n",
    "    Detect and Identifies outliers in the specified features of a \n",
    "    DataFrame.\n",
    "\n",
    "    This function iterates through a list of numerical features and detects\n",
    "    outliers in each feature based on the IQR method. An outlier is defined\n",
    "    as a value below Q1 - 1.5 * IQR or above Q3 + 1.5 * IQR.\n",
    "    If an index appears as an outlier in more than N features, it is added to the \n",
    "    final list of multiple outliers.\n",
    "\n",
    "    Parameters:\n",
    "    ---------------\n",
    "    data_frame: pd.DataFrame\n",
    "        The DataFrame containing the data to analyze.\n",
    "\n",
    "    n: int\n",
    "        The minimum number of features in which a data point must be an outlier\n",
    "        to be considered a multiple outlier.\n",
    "\n",
    "    features: list\n",
    "        A list of column names (features) to analyze for outliers.\n",
    "        Those should be numerical columns.\n",
    "\n",
    "    Returns:\n",
    "    -------------\n",
    "    list\n",
    "        A list of indices corresponding to data points that are outliers\n",
    "        in more than n features.\n",
    "\n",
    "    Raises:\n",
    "    ------------\n",
    "    TypeError\n",
    "        If data_frame is not a pandas DataFrame, or if features is not a list.\n",
    "\n",
    "    ValueError\n",
    "        If n is negative, or if a feature in the features list is not in\n",
    "        the DataFrame.\n",
    "    \"\"\"\n",
    "    if not isinstance(data_frame, pd.DataFrame):\n",
    "        raise TypeError(\"`data_frame` must be a pandas DataFrame.\")\n",
    "    if not isinstance(features, list):\n",
    "        raise TypeError(\"`features` must be a list of column names.\")\n",
    "    if not isinstance(n, int) or n < 0:\n",
    "        raise ValueError(\"`n` must be a non-negative integer.\")\n",
    "        \n",
    "    outliers = []\n",
    "    for feature in features:\n",
    "        Q1 = np.percentile(data_frame[feature], 25)\n",
    "        Q3 = np.percentile(data_frame[feature], 75)\n",
    "        IQR = Q3 - Q1\n",
    "        lower = Q1 - 1.5*IQR\n",
    "        upper = Q3 + 1.5*IQR\n",
    "\n",
    "        outlier_list = data_frame[(data_frame[feature] < lower) | (data_frame[feature] > upper)].index\n",
    "        outliers.extend(outlier_list)\n",
    "    outliers = Counter(outliers)\n",
    "    multiple_outliers = list(key for key, value in outliers.items() if value > n)\n",
    "    return multiple_outliers"
   ]
  },
  {
   "cell_type": "code",
   "execution_count": 110,
   "metadata": {},
   "outputs": [],
   "source": [
    "outliers = delete_outliers(finished_df, 2, [x for x in finished_df.columns if finished_df[x].dtype != 'object'])"
   ]
  },
  {
   "cell_type": "code",
   "execution_count": 112,
   "metadata": {},
   "outputs": [
    {
     "data": {
      "text/plain": [
       "126"
      ]
     },
     "execution_count": 112,
     "metadata": {},
     "output_type": "execute_result"
    }
   ],
   "source": [
    "len(outliers)"
   ]
  },
  {
   "cell_type": "code",
   "execution_count": 113,
   "metadata": {},
   "outputs": [],
   "source": [
    "finished_df = finished_df.drop(outliers, axis=0).reset_index(drop=True)"
   ]
  },
  {
   "cell_type": "code",
   "execution_count": 114,
   "metadata": {},
   "outputs": [
    {
     "data": {
      "text/html": [
       "<div>\n",
       "<style scoped>\n",
       "    .dataframe tbody tr th:only-of-type {\n",
       "        vertical-align: middle;\n",
       "    }\n",
       "\n",
       "    .dataframe tbody tr th {\n",
       "        vertical-align: top;\n",
       "    }\n",
       "\n",
       "    .dataframe thead th {\n",
       "        text-align: right;\n",
       "    }\n",
       "</style>\n",
       "<table border=\"1\" class=\"dataframe\">\n",
       "  <thead>\n",
       "    <tr style=\"text-align: right;\">\n",
       "      <th></th>\n",
       "      <th>movies</th>\n",
       "      <th>year</th>\n",
       "      <th>director</th>\n",
       "      <th>genre</th>\n",
       "      <th>rating</th>\n",
       "      <th>votes</th>\n",
       "      <th>runtime</th>\n",
       "      <th>gross</th>\n",
       "      <th>stars</th>\n",
       "      <th>one_line</th>\n",
       "    </tr>\n",
       "  </thead>\n",
       "  <tbody>\n",
       "    <tr>\n",
       "      <th>0</th>\n",
       "      <td>Blood Red Sky</td>\n",
       "      <td>2021</td>\n",
       "      <td>Peter Thorwarth</td>\n",
       "      <td>Action, Horror, Thriller</td>\n",
       "      <td>6.1</td>\n",
       "      <td>21062</td>\n",
       "      <td>121</td>\n",
       "      <td>6145000</td>\n",
       "      <td>Peri Baumeister, Carl Anton Koch, Alexander Sc...</td>\n",
       "      <td>A woman with a mysterious illness is forced in...</td>\n",
       "    </tr>\n",
       "    <tr>\n",
       "      <th>1</th>\n",
       "      <td>Masters of the Universe: Revelation</td>\n",
       "      <td>2021</td>\n",
       "      <td>Unknown</td>\n",
       "      <td>Animation, Action, Adventure</td>\n",
       "      <td>5.0</td>\n",
       "      <td>17870</td>\n",
       "      <td>25</td>\n",
       "      <td>6145000</td>\n",
       "      <td>Chris Wood, Sarah Michelle Gellar, Lena Headey...</td>\n",
       "      <td>The war for Eternia begins again in what may b...</td>\n",
       "    </tr>\n",
       "    <tr>\n",
       "      <th>2</th>\n",
       "      <td>The Walking Dead</td>\n",
       "      <td>2010</td>\n",
       "      <td>Unknown</td>\n",
       "      <td>Drama, Horror, Thriller</td>\n",
       "      <td>8.2</td>\n",
       "      <td>885805</td>\n",
       "      <td>44</td>\n",
       "      <td>6145000</td>\n",
       "      <td>Andrew Lincoln, Norman Reedus, Melissa McBride...</td>\n",
       "      <td>Sheriff Deputy Rick Grimes wakes up from a com...</td>\n",
       "    </tr>\n",
       "    <tr>\n",
       "      <th>3</th>\n",
       "      <td>Rick and Morty</td>\n",
       "      <td>2013</td>\n",
       "      <td>Unknown</td>\n",
       "      <td>Animation, Adventure, Comedy</td>\n",
       "      <td>9.2</td>\n",
       "      <td>414849</td>\n",
       "      <td>23</td>\n",
       "      <td>6145000</td>\n",
       "      <td>Justin Roiland, Chris Parnell, Spencer Grammer...</td>\n",
       "      <td>An animated series that follows the exploits o...</td>\n",
       "    </tr>\n",
       "    <tr>\n",
       "      <th>4</th>\n",
       "      <td>Army of Thieves</td>\n",
       "      <td>2021</td>\n",
       "      <td>Matthias Schweighöfer</td>\n",
       "      <td>Action, Crime, Horror</td>\n",
       "      <td>7.1</td>\n",
       "      <td>792</td>\n",
       "      <td>60</td>\n",
       "      <td>6145000</td>\n",
       "      <td>Matthias Schweighöfer, Nathalie Emmanuel, Ruby...</td>\n",
       "      <td>A prequel, set before the events of Army of th...</td>\n",
       "    </tr>\n",
       "    <tr>\n",
       "      <th>...</th>\n",
       "      <td>...</td>\n",
       "      <td>...</td>\n",
       "      <td>...</td>\n",
       "      <td>...</td>\n",
       "      <td>...</td>\n",
       "      <td>...</td>\n",
       "      <td>...</td>\n",
       "      <td>...</td>\n",
       "      <td>...</td>\n",
       "      <td>...</td>\n",
       "    </tr>\n",
       "    <tr>\n",
       "      <th>9437</th>\n",
       "      <td>Totenfrau</td>\n",
       "      <td>2022</td>\n",
       "      <td>Nicolai Rohde</td>\n",
       "      <td>Drama, Thriller</td>\n",
       "      <td>7.1</td>\n",
       "      <td>792</td>\n",
       "      <td>60</td>\n",
       "      <td>6145000</td>\n",
       "      <td>Felix Klare, Romina Küper, Anna Maria Mühe, Ro...</td>\n",
       "      <td>Unknown</td>\n",
       "    </tr>\n",
       "    <tr>\n",
       "      <th>9438</th>\n",
       "      <td>Arcane</td>\n",
       "      <td>2021</td>\n",
       "      <td>Unknown</td>\n",
       "      <td>Animation, Action, Adventure</td>\n",
       "      <td>7.1</td>\n",
       "      <td>792</td>\n",
       "      <td>60</td>\n",
       "      <td>6145000</td>\n",
       "      <td>Unknown</td>\n",
       "      <td>Unknown</td>\n",
       "    </tr>\n",
       "    <tr>\n",
       "      <th>9439</th>\n",
       "      <td>Heart of Invictus</td>\n",
       "      <td>2022</td>\n",
       "      <td>Orlando von Einsiedel</td>\n",
       "      <td>Documentary, Sport</td>\n",
       "      <td>7.1</td>\n",
       "      <td>792</td>\n",
       "      <td>60</td>\n",
       "      <td>6145000</td>\n",
       "      <td>Unknown</td>\n",
       "      <td>Unknown</td>\n",
       "    </tr>\n",
       "    <tr>\n",
       "      <th>9440</th>\n",
       "      <td>The Imperfects</td>\n",
       "      <td>2021</td>\n",
       "      <td>Jovanka Vuckovic</td>\n",
       "      <td>Adventure, Drama, Fantasy</td>\n",
       "      <td>7.1</td>\n",
       "      <td>792</td>\n",
       "      <td>60</td>\n",
       "      <td>6145000</td>\n",
       "      <td>Morgan Taylor Campbell, Iñaki Godoy, Rhianna J...</td>\n",
       "      <td>Unknown</td>\n",
       "    </tr>\n",
       "    <tr>\n",
       "      <th>9441</th>\n",
       "      <td>The Imperfects</td>\n",
       "      <td>2021</td>\n",
       "      <td>Jovanka Vuckovic</td>\n",
       "      <td>Adventure, Drama, Fantasy</td>\n",
       "      <td>7.1</td>\n",
       "      <td>792</td>\n",
       "      <td>60</td>\n",
       "      <td>6145000</td>\n",
       "      <td>Morgan Taylor Campbell, Jennifer Cheon Garcia,...</td>\n",
       "      <td>Unknown</td>\n",
       "    </tr>\n",
       "  </tbody>\n",
       "</table>\n",
       "<p>9442 rows × 10 columns</p>\n",
       "</div>"
      ],
      "text/plain": [
       "                                   movies  year               director  \\\n",
       "0                           Blood Red Sky  2021        Peter Thorwarth   \n",
       "1     Masters of the Universe: Revelation  2021                Unknown   \n",
       "2                        The Walking Dead  2010                Unknown   \n",
       "3                          Rick and Morty  2013                Unknown   \n",
       "4                         Army of Thieves  2021  Matthias Schweighöfer   \n",
       "...                                   ...   ...                    ...   \n",
       "9437                            Totenfrau  2022          Nicolai Rohde   \n",
       "9438                               Arcane  2021                Unknown   \n",
       "9439                    Heart of Invictus  2022  Orlando von Einsiedel   \n",
       "9440                       The Imperfects  2021       Jovanka Vuckovic   \n",
       "9441                       The Imperfects  2021       Jovanka Vuckovic   \n",
       "\n",
       "                             genre  rating   votes  runtime    gross  \\\n",
       "0         Action, Horror, Thriller     6.1   21062      121  6145000   \n",
       "1     Animation, Action, Adventure     5.0   17870       25  6145000   \n",
       "2          Drama, Horror, Thriller     8.2  885805       44  6145000   \n",
       "3     Animation, Adventure, Comedy     9.2  414849       23  6145000   \n",
       "4            Action, Crime, Horror     7.1     792       60  6145000   \n",
       "...                            ...     ...     ...      ...      ...   \n",
       "9437               Drama, Thriller     7.1     792       60  6145000   \n",
       "9438  Animation, Action, Adventure     7.1     792       60  6145000   \n",
       "9439            Documentary, Sport     7.1     792       60  6145000   \n",
       "9440     Adventure, Drama, Fantasy     7.1     792       60  6145000   \n",
       "9441     Adventure, Drama, Fantasy     7.1     792       60  6145000   \n",
       "\n",
       "                                                  stars  \\\n",
       "0     Peri Baumeister, Carl Anton Koch, Alexander Sc...   \n",
       "1     Chris Wood, Sarah Michelle Gellar, Lena Headey...   \n",
       "2     Andrew Lincoln, Norman Reedus, Melissa McBride...   \n",
       "3     Justin Roiland, Chris Parnell, Spencer Grammer...   \n",
       "4     Matthias Schweighöfer, Nathalie Emmanuel, Ruby...   \n",
       "...                                                 ...   \n",
       "9437  Felix Klare, Romina Küper, Anna Maria Mühe, Ro...   \n",
       "9438                                            Unknown   \n",
       "9439                                            Unknown   \n",
       "9440  Morgan Taylor Campbell, Iñaki Godoy, Rhianna J...   \n",
       "9441  Morgan Taylor Campbell, Jennifer Cheon Garcia,...   \n",
       "\n",
       "                                               one_line  \n",
       "0     A woman with a mysterious illness is forced in...  \n",
       "1     The war for Eternia begins again in what may b...  \n",
       "2     Sheriff Deputy Rick Grimes wakes up from a com...  \n",
       "3     An animated series that follows the exploits o...  \n",
       "4     A prequel, set before the events of Army of th...  \n",
       "...                                                 ...  \n",
       "9437                                            Unknown  \n",
       "9438                                            Unknown  \n",
       "9439                                            Unknown  \n",
       "9440                                            Unknown  \n",
       "9441                                            Unknown  \n",
       "\n",
       "[9442 rows x 10 columns]"
      ]
     },
     "execution_count": 114,
     "metadata": {},
     "output_type": "execute_result"
    }
   ],
   "source": [
    "finished_df"
   ]
  },
  {
   "cell_type": "code",
   "execution_count": 116,
   "metadata": {},
   "outputs": [
    {
     "data": {
      "text/plain": [
       "(9442, 10)"
      ]
     },
     "execution_count": 116,
     "metadata": {},
     "output_type": "execute_result"
    }
   ],
   "source": [
    "finished_df.shape"
   ]
  },
  {
   "cell_type": "code",
   "execution_count": null,
   "metadata": {},
   "outputs": [],
   "source": []
  }
 ],
 "metadata": {
  "kernelspec": {
   "display_name": "Python 3",
   "language": "python",
   "name": "python3"
  },
  "language_info": {
   "codemirror_mode": {
    "name": "ipython",
    "version": 3
   },
   "file_extension": ".py",
   "mimetype": "text/x-python",
   "name": "python",
   "nbconvert_exporter": "python",
   "pygments_lexer": "ipython3",
   "version": "3.11.3"
  }
 },
 "nbformat": 4,
 "nbformat_minor": 2
}
